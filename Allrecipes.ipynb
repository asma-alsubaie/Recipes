{
 "cells": [
  {
   "cell_type": "code",
   "execution_count": 1,
   "id": "5064f17b",
   "metadata": {},
   "outputs": [],
   "source": [
    "import numpy as np \n",
    "import pandas as pd \n",
    "import re , string\n",
    "import seaborn as sb\n",
    "import matplotlib.pyplot as plt\n",
    "import matplotlib.cm as cm\n",
    "\n",
    "from sklearn.model_selection import train_test_split as split\n",
    "from sklearn.metrics import confusion_matrix, classification_report, accuracy_score, pairwise_distances\n",
    "from sklearn.model_selection import train_test_split as split\n",
    "from sklearn.preprocessing import StandardScaler, MinMaxScaler\n",
    "from sklearn.preprocessing import MaxAbsScaler, LabelEncoder\n",
    "# import sklearn\n",
    "from sklearn.feature_extraction.text import CountVectorizer \n",
    "from sklearn.feature_extraction.text import TfidfVectorizer  # TF-IDF\n",
    "from sklearn.preprocessing import scale\n",
    "from sklearn.cluster import KMeans\n",
    "from sklearn.decomposition import TruncatedSVD\n",
    "from sklearn.decomposition import NMF\n",
    "from sklearn.metrics.pairwise import cosine_similarity\n",
    "\n",
    "\n",
    "\n",
    "import nltk\n",
    "from nltk.tokenize import word_tokenize\n",
    "from nltk.corpus import stopwords \n",
    "from nltk.stem import LancasterStemmer, PorterStemmer\n",
    "from nltk.stem import WordNetLemmatizer\n",
    "pd.options.display.float_format = '{:.2f}'.format\n",
    "\n",
    "%matplotlib inline"
   ]
  },
  {
   "cell_type": "code",
   "execution_count": 2,
   "id": "6400561a",
   "metadata": {},
   "outputs": [],
   "source": [
    "recipes_df = pd.read_json(\"recipes_raw_nosource_ar.csv\")"
   ]
  },
  {
   "cell_type": "code",
   "execution_count": 3,
   "id": "2118a3ac-c8ea-46eb-9f4d-275923aafec7",
   "metadata": {},
   "outputs": [
    {
     "data": {
      "text/html": [
       "<div>\n",
       "<style scoped>\n",
       "    .dataframe tbody tr th:only-of-type {\n",
       "        vertical-align: middle;\n",
       "    }\n",
       "\n",
       "    .dataframe tbody tr th {\n",
       "        vertical-align: top;\n",
       "    }\n",
       "\n",
       "    .dataframe thead th {\n",
       "        text-align: right;\n",
       "    }\n",
       "</style>\n",
       "<table border=\"1\" class=\"dataframe\">\n",
       "  <thead>\n",
       "    <tr style=\"text-align: right;\">\n",
       "      <th></th>\n",
       "      <th>rmK12Uau.ntP510KeImX506H6Mr6jTu</th>\n",
       "      <th>5ZpZE8hSVdPk2ZXo1mZTyoPWJRSCPSm</th>\n",
       "      <th>clyYQv.CplpwJtjNaFGhx0VilNYqRxu</th>\n",
       "      <th>BmqFAmCrDHiKNwX.IQzb0U/v0mLlxFu</th>\n",
       "      <th>N.jCksRjB4MFwbgPFQU8Kg.yF.XCtOi</th>\n",
       "      <th>kq.naD.8G19M4UU9dVvJgHtpfo.l/eC</th>\n",
       "      <th>lYrgWNn00EXblOupzM3tL0jGr9O0CB2</th>\n",
       "      <th>Fu0DgGYFUGwc0BBlN6r20o/ihOVs5bO</th>\n",
       "      <th>MBRNtqELRRuv8zJH4k7Aba2bmIc2A3C</th>\n",
       "      <th>ZPyPoMiNvgAfrKcRpH9FEYV/XsPZBsW</th>\n",
       "      <th>...</th>\n",
       "      <th>uHHb42/tuIKsmN5U6l9AD.FdVpSFxs6</th>\n",
       "      <th>IPAeN3L6rm2oughJpUhbG038k.ACJ0K</th>\n",
       "      <th>3UIhlTQFH5jyIaHN8zeKlK5V.94Kjwu</th>\n",
       "      <th>PdBxkE2gnI/.ynokkp1Hu1KLGZnGdei</th>\n",
       "      <th>SB46Udqc5Svsi70S1qRmRLv5tlg8Oca</th>\n",
       "      <th>gehEOcDPtU3SmNSXrwWwWD4ulPpUdMO</th>\n",
       "      <th>VRAsyF.1xMBYqAVKX1biyIORH6N6qzy</th>\n",
       "      <th>Lf8/u.0k2029QMSQFrHS4gRsvKOQFUG</th>\n",
       "      <th>ay.AqX/9ysBtWHcnHoDeGAyJ5Orla8e</th>\n",
       "      <th>2Q3Zpfgt/PUwn1YABjJ5A9T3ZW8xwVa</th>\n",
       "    </tr>\n",
       "  </thead>\n",
       "  <tbody>\n",
       "    <tr>\n",
       "      <th>title</th>\n",
       "      <td>Slow Cooker Chicken and Dumplings</td>\n",
       "      <td>Awesome Slow Cooker Pot Roast</td>\n",
       "      <td>Brown Sugar Meatloaf</td>\n",
       "      <td>Best Chocolate Chip Cookies</td>\n",
       "      <td>Homemade Mac and Cheese Casserole</td>\n",
       "      <td>Banana Banana Bread</td>\n",
       "      <td>Chef John's Fisherman's Pie</td>\n",
       "      <td>Mom's Zucchini Bread</td>\n",
       "      <td>The Best Rolled Sugar Cookies</td>\n",
       "      <td>Singapore Chili Crabs</td>\n",
       "      <td>...</td>\n",
       "      <td>Citrus Creme Brulee</td>\n",
       "      <td>Honey Nutty Granola</td>\n",
       "      <td>Salmon en Croute</td>\n",
       "      <td>Homemade Blender Butter</td>\n",
       "      <td>Gluten Free Chicken Noodle Soup</td>\n",
       "      <td>Thai-Indian Veggie Soup</td>\n",
       "      <td>Coconut Milk-Free Panang Curry Chicken</td>\n",
       "      <td>Cooked Cold Salad</td>\n",
       "      <td>Easy Eggnog Creme Brulee</td>\n",
       "      <td>Super Power Stovetop Granola</td>\n",
       "    </tr>\n",
       "    <tr>\n",
       "      <th>ingredients</th>\n",
       "      <td>[4 skinless, boneless chicken breast halves AD...</td>\n",
       "      <td>[2 (10.75 ounce) cans condensed cream of mushr...</td>\n",
       "      <td>[1/2 cup packed brown sugar ADVERTISEMENT, 1/2...</td>\n",
       "      <td>[1 cup butter, softened ADVERTISEMENT, 1 cup w...</td>\n",
       "      <td>[8 ounces whole wheat rotini pasta ADVERTISEME...</td>\n",
       "      <td>[2 cups all-purpose flour ADVERTISEMENT, 1 tea...</td>\n",
       "      <td>[For potato crust: ADVERTISEMENT, 3 russet pot...</td>\n",
       "      <td>[3 cups all-purpose flour ADVERTISEMENT, 1 tea...</td>\n",
       "      <td>[1 1/2 cups butter, softened ADVERTISEMENT, 2 ...</td>\n",
       "      <td>[Sauce: ADVERTISEMENT, 1/2 cup ketchup ADVERTI...</td>\n",
       "      <td>...</td>\n",
       "      <td>[2 oranges, juiced ADVERTISEMENT, lemon, juice...</td>\n",
       "      <td>[3 cups rolled oats ADVERTISEMENT, 1 1/2 cups ...</td>\n",
       "      <td>[1 cup watercress, or as desired ADVERTISEMENT...</td>\n",
       "      <td>[2 pints heavy whipping cream ADVERTISEMENT, s...</td>\n",
       "      <td>[1/2 (12 ounce) box Barilla® Gluten Free Elbow...</td>\n",
       "      <td>[2 teaspoons olive oil ADVERTISEMENT, 1/4 cup ...</td>\n",
       "      <td>[2 cups light cream ADVERTISEMENT, 1/4 teaspoo...</td>\n",
       "      <td>[3 tablespoons bacon grease ADVERTISEMENT, 2 c...</td>\n",
       "      <td>[4 egg yolks ADVERTISEMENT, 1 tablespoon white...</td>\n",
       "      <td>[1/4 cup canola oil ADVERTISEMENT, 3 cups quic...</td>\n",
       "    </tr>\n",
       "    <tr>\n",
       "      <th>instructions</th>\n",
       "      <td>Place the chicken, butter, soup, and onion in ...</td>\n",
       "      <td>In a slow cooker, mix cream of mushroom soup, ...</td>\n",
       "      <td>Preheat oven to 350 degrees F (175 degrees C)....</td>\n",
       "      <td>Preheat oven to 350 degrees F (175 degrees C)....</td>\n",
       "      <td>Preheat oven to 350 degrees F. Line a 2-quart ...</td>\n",
       "      <td>Preheat oven to 350 degrees F (175 degrees C)....</td>\n",
       "      <td>Bring a large saucepan of salted water and to ...</td>\n",
       "      <td>Grease and flour two 8 x 4 inch pans. Preheat ...</td>\n",
       "      <td>In a large bowl, cream together butter and sug...</td>\n",
       "      <td>Whisk ketchup, chicken broth, egg, soy sauce, ...</td>\n",
       "      <td>...</td>\n",
       "      <td>Preheat oven to 300 degrees F (150 degrees C)....</td>\n",
       "      <td>Preheat oven to 300 degrees F (150 degrees C)....</td>\n",
       "      <td>Preheat oven to 375 degrees F (190 degrees C)....</td>\n",
       "      <td>Pour cream into a blender. Cover and blend unt...</td>\n",
       "      <td>Saute onions in olive oil over medium heat unt...</td>\n",
       "      <td>Heat oil in a large pot over medium heat. Add ...</td>\n",
       "      <td>Heat cream and coconut extract in a skillet or...</td>\n",
       "      <td>Heat bacon grease in a skillet over medium-hig...</td>\n",
       "      <td>Preheat oven to 350 degrees F (175 degrees C)....</td>\n",
       "      <td>Heat 1/4 cup canola oil in large skillet over ...</td>\n",
       "    </tr>\n",
       "    <tr>\n",
       "      <th>picture_link</th>\n",
       "      <td>55lznCYBbs2mT8BTx6BTkLhynGHzM.S</td>\n",
       "      <td>QyrvGdGNMBA2lDdciY0FjKu.77MM0Oe</td>\n",
       "      <td>LVW1DI0vtlCrpAhNSEQysE9i/7rJG56</td>\n",
       "      <td>0SO5kdWOV94j6EfAVwMMYRM3yNN8eRi</td>\n",
       "      <td>YCnbhplMgiraW4rUXcybgSEZinSgljm</td>\n",
       "      <td>jRnWGDXDdyOg3rta4/HVAR2rD19XubC</td>\n",
       "      <td>aUca10AaD8T2yYvcLOgH/UJlR5/OhOe</td>\n",
       "      <td>YdgEVyLVffZgh9NZPN3Eqj6MaX8KdzK</td>\n",
       "      <td>UrgvDGu4roLiho160fTVIwCUrGZna8i</td>\n",
       "      <td>OFp6yXFwzlrkMQ5STffYPllxQvMVLUS</td>\n",
       "      <td>...</td>\n",
       "      <td>qE58a7Z1Au0GXvPO188iHZZVqna9hLa</td>\n",
       "      <td>qE58a7Z1Au0GXvPO188iHZZVqna9hLa</td>\n",
       "      <td>qE58a7Z1Au0GXvPO188iHZZVqna9hLa</td>\n",
       "      <td>qE58a7Z1Au0GXvPO188iHZZVqna9hLa</td>\n",
       "      <td>cWEzUSv9Ozr3b4MxNVCqJYgTjIS.kHm</td>\n",
       "      <td>qE58a7Z1Au0GXvPO188iHZZVqna9hLa</td>\n",
       "      <td>qE58a7Z1Au0GXvPO188iHZZVqna9hLa</td>\n",
       "      <td>qE58a7Z1Au0GXvPO188iHZZVqna9hLa</td>\n",
       "      <td>qE58a7Z1Au0GXvPO188iHZZVqna9hLa</td>\n",
       "      <td>qE58a7Z1Au0GXvPO188iHZZVqna9hLa</td>\n",
       "    </tr>\n",
       "  </tbody>\n",
       "</table>\n",
       "<p>4 rows × 39802 columns</p>\n",
       "</div>"
      ],
      "text/plain": [
       "                                rmK12Uau.ntP510KeImX506H6Mr6jTu  \\\n",
       "title                         Slow Cooker Chicken and Dumplings   \n",
       "ingredients   [4 skinless, boneless chicken breast halves AD...   \n",
       "instructions  Place the chicken, butter, soup, and onion in ...   \n",
       "picture_link                    55lznCYBbs2mT8BTx6BTkLhynGHzM.S   \n",
       "\n",
       "                                5ZpZE8hSVdPk2ZXo1mZTyoPWJRSCPSm  \\\n",
       "title                             Awesome Slow Cooker Pot Roast   \n",
       "ingredients   [2 (10.75 ounce) cans condensed cream of mushr...   \n",
       "instructions  In a slow cooker, mix cream of mushroom soup, ...   \n",
       "picture_link                    QyrvGdGNMBA2lDdciY0FjKu.77MM0Oe   \n",
       "\n",
       "                                clyYQv.CplpwJtjNaFGhx0VilNYqRxu  \\\n",
       "title                                      Brown Sugar Meatloaf   \n",
       "ingredients   [1/2 cup packed brown sugar ADVERTISEMENT, 1/2...   \n",
       "instructions  Preheat oven to 350 degrees F (175 degrees C)....   \n",
       "picture_link                    LVW1DI0vtlCrpAhNSEQysE9i/7rJG56   \n",
       "\n",
       "                                BmqFAmCrDHiKNwX.IQzb0U/v0mLlxFu  \\\n",
       "title                               Best Chocolate Chip Cookies   \n",
       "ingredients   [1 cup butter, softened ADVERTISEMENT, 1 cup w...   \n",
       "instructions  Preheat oven to 350 degrees F (175 degrees C)....   \n",
       "picture_link                    0SO5kdWOV94j6EfAVwMMYRM3yNN8eRi   \n",
       "\n",
       "                                N.jCksRjB4MFwbgPFQU8Kg.yF.XCtOi  \\\n",
       "title                         Homemade Mac and Cheese Casserole   \n",
       "ingredients   [8 ounces whole wheat rotini pasta ADVERTISEME...   \n",
       "instructions  Preheat oven to 350 degrees F. Line a 2-quart ...   \n",
       "picture_link                    YCnbhplMgiraW4rUXcybgSEZinSgljm   \n",
       "\n",
       "                                kq.naD.8G19M4UU9dVvJgHtpfo.l/eC  \\\n",
       "title                                       Banana Banana Bread   \n",
       "ingredients   [2 cups all-purpose flour ADVERTISEMENT, 1 tea...   \n",
       "instructions  Preheat oven to 350 degrees F (175 degrees C)....   \n",
       "picture_link                    jRnWGDXDdyOg3rta4/HVAR2rD19XubC   \n",
       "\n",
       "                                lYrgWNn00EXblOupzM3tL0jGr9O0CB2  \\\n",
       "title                               Chef John's Fisherman's Pie   \n",
       "ingredients   [For potato crust: ADVERTISEMENT, 3 russet pot...   \n",
       "instructions  Bring a large saucepan of salted water and to ...   \n",
       "picture_link                    aUca10AaD8T2yYvcLOgH/UJlR5/OhOe   \n",
       "\n",
       "                                Fu0DgGYFUGwc0BBlN6r20o/ihOVs5bO  \\\n",
       "title                                      Mom's Zucchini Bread   \n",
       "ingredients   [3 cups all-purpose flour ADVERTISEMENT, 1 tea...   \n",
       "instructions  Grease and flour two 8 x 4 inch pans. Preheat ...   \n",
       "picture_link                    YdgEVyLVffZgh9NZPN3Eqj6MaX8KdzK   \n",
       "\n",
       "                                MBRNtqELRRuv8zJH4k7Aba2bmIc2A3C  \\\n",
       "title                             The Best Rolled Sugar Cookies   \n",
       "ingredients   [1 1/2 cups butter, softened ADVERTISEMENT, 2 ...   \n",
       "instructions  In a large bowl, cream together butter and sug...   \n",
       "picture_link                    UrgvDGu4roLiho160fTVIwCUrGZna8i   \n",
       "\n",
       "                                ZPyPoMiNvgAfrKcRpH9FEYV/XsPZBsW  ...  \\\n",
       "title                                     Singapore Chili Crabs  ...   \n",
       "ingredients   [Sauce: ADVERTISEMENT, 1/2 cup ketchup ADVERTI...  ...   \n",
       "instructions  Whisk ketchup, chicken broth, egg, soy sauce, ...  ...   \n",
       "picture_link                    OFp6yXFwzlrkMQ5STffYPllxQvMVLUS  ...   \n",
       "\n",
       "                                uHHb42/tuIKsmN5U6l9AD.FdVpSFxs6  \\\n",
       "title                                       Citrus Creme Brulee   \n",
       "ingredients   [2 oranges, juiced ADVERTISEMENT, lemon, juice...   \n",
       "instructions  Preheat oven to 300 degrees F (150 degrees C)....   \n",
       "picture_link                    qE58a7Z1Au0GXvPO188iHZZVqna9hLa   \n",
       "\n",
       "                                IPAeN3L6rm2oughJpUhbG038k.ACJ0K  \\\n",
       "title                                       Honey Nutty Granola   \n",
       "ingredients   [3 cups rolled oats ADVERTISEMENT, 1 1/2 cups ...   \n",
       "instructions  Preheat oven to 300 degrees F (150 degrees C)....   \n",
       "picture_link                    qE58a7Z1Au0GXvPO188iHZZVqna9hLa   \n",
       "\n",
       "                                3UIhlTQFH5jyIaHN8zeKlK5V.94Kjwu  \\\n",
       "title                                          Salmon en Croute   \n",
       "ingredients   [1 cup watercress, or as desired ADVERTISEMENT...   \n",
       "instructions  Preheat oven to 375 degrees F (190 degrees C)....   \n",
       "picture_link                    qE58a7Z1Au0GXvPO188iHZZVqna9hLa   \n",
       "\n",
       "                                PdBxkE2gnI/.ynokkp1Hu1KLGZnGdei  \\\n",
       "title                                   Homemade Blender Butter   \n",
       "ingredients   [2 pints heavy whipping cream ADVERTISEMENT, s...   \n",
       "instructions  Pour cream into a blender. Cover and blend unt...   \n",
       "picture_link                    qE58a7Z1Au0GXvPO188iHZZVqna9hLa   \n",
       "\n",
       "                                SB46Udqc5Svsi70S1qRmRLv5tlg8Oca  \\\n",
       "title                           Gluten Free Chicken Noodle Soup   \n",
       "ingredients   [1/2 (12 ounce) box Barilla® Gluten Free Elbow...   \n",
       "instructions  Saute onions in olive oil over medium heat unt...   \n",
       "picture_link                    cWEzUSv9Ozr3b4MxNVCqJYgTjIS.kHm   \n",
       "\n",
       "                                gehEOcDPtU3SmNSXrwWwWD4ulPpUdMO  \\\n",
       "title                                   Thai-Indian Veggie Soup   \n",
       "ingredients   [2 teaspoons olive oil ADVERTISEMENT, 1/4 cup ...   \n",
       "instructions  Heat oil in a large pot over medium heat. Add ...   \n",
       "picture_link                    qE58a7Z1Au0GXvPO188iHZZVqna9hLa   \n",
       "\n",
       "                                VRAsyF.1xMBYqAVKX1biyIORH6N6qzy  \\\n",
       "title                    Coconut Milk-Free Panang Curry Chicken   \n",
       "ingredients   [2 cups light cream ADVERTISEMENT, 1/4 teaspoo...   \n",
       "instructions  Heat cream and coconut extract in a skillet or...   \n",
       "picture_link                    qE58a7Z1Au0GXvPO188iHZZVqna9hLa   \n",
       "\n",
       "                                Lf8/u.0k2029QMSQFrHS4gRsvKOQFUG  \\\n",
       "title                                         Cooked Cold Salad   \n",
       "ingredients   [3 tablespoons bacon grease ADVERTISEMENT, 2 c...   \n",
       "instructions  Heat bacon grease in a skillet over medium-hig...   \n",
       "picture_link                    qE58a7Z1Au0GXvPO188iHZZVqna9hLa   \n",
       "\n",
       "                                ay.AqX/9ysBtWHcnHoDeGAyJ5Orla8e  \\\n",
       "title                                  Easy Eggnog Creme Brulee   \n",
       "ingredients   [4 egg yolks ADVERTISEMENT, 1 tablespoon white...   \n",
       "instructions  Preheat oven to 350 degrees F (175 degrees C)....   \n",
       "picture_link                    qE58a7Z1Au0GXvPO188iHZZVqna9hLa   \n",
       "\n",
       "                                2Q3Zpfgt/PUwn1YABjJ5A9T3ZW8xwVa  \n",
       "title                              Super Power Stovetop Granola  \n",
       "ingredients   [1/4 cup canola oil ADVERTISEMENT, 3 cups quic...  \n",
       "instructions  Heat 1/4 cup canola oil in large skillet over ...  \n",
       "picture_link                    qE58a7Z1Au0GXvPO188iHZZVqna9hLa  \n",
       "\n",
       "[4 rows x 39802 columns]"
      ]
     },
     "execution_count": 3,
     "metadata": {},
     "output_type": "execute_result"
    }
   ],
   "source": [
    "recipes_df.head()"
   ]
  },
  {
   "cell_type": "code",
   "execution_count": 4,
   "id": "ef584811",
   "metadata": {},
   "outputs": [],
   "source": [
    "recipes_df.to_csv(r\"recipes.csv\")"
   ]
  },
  {
   "cell_type": "code",
   "execution_count": 5,
   "id": "5207b8f5",
   "metadata": {},
   "outputs": [
    {
     "data": {
      "text/plain": [
       "(4, 39802)"
      ]
     },
     "execution_count": 5,
     "metadata": {},
     "output_type": "execute_result"
    }
   ],
   "source": [
    "recipes_df.shape"
   ]
  },
  {
   "cell_type": "code",
   "execution_count": 6,
   "id": "fae49db5",
   "metadata": {},
   "outputs": [
    {
     "data": {
      "text/html": [
       "<div>\n",
       "<style scoped>\n",
       "    .dataframe tbody tr th:only-of-type {\n",
       "        vertical-align: middle;\n",
       "    }\n",
       "\n",
       "    .dataframe tbody tr th {\n",
       "        vertical-align: top;\n",
       "    }\n",
       "\n",
       "    .dataframe thead th {\n",
       "        text-align: right;\n",
       "    }\n",
       "</style>\n",
       "<table border=\"1\" class=\"dataframe\">\n",
       "  <thead>\n",
       "    <tr style=\"text-align: right;\">\n",
       "      <th></th>\n",
       "      <th>rmK12Uau.ntP510KeImX506H6Mr6jTu</th>\n",
       "      <th>5ZpZE8hSVdPk2ZXo1mZTyoPWJRSCPSm</th>\n",
       "      <th>clyYQv.CplpwJtjNaFGhx0VilNYqRxu</th>\n",
       "      <th>BmqFAmCrDHiKNwX.IQzb0U/v0mLlxFu</th>\n",
       "      <th>N.jCksRjB4MFwbgPFQU8Kg.yF.XCtOi</th>\n",
       "      <th>kq.naD.8G19M4UU9dVvJgHtpfo.l/eC</th>\n",
       "      <th>lYrgWNn00EXblOupzM3tL0jGr9O0CB2</th>\n",
       "      <th>Fu0DgGYFUGwc0BBlN6r20o/ihOVs5bO</th>\n",
       "      <th>MBRNtqELRRuv8zJH4k7Aba2bmIc2A3C</th>\n",
       "      <th>ZPyPoMiNvgAfrKcRpH9FEYV/XsPZBsW</th>\n",
       "      <th>...</th>\n",
       "      <th>uHHb42/tuIKsmN5U6l9AD.FdVpSFxs6</th>\n",
       "      <th>IPAeN3L6rm2oughJpUhbG038k.ACJ0K</th>\n",
       "      <th>3UIhlTQFH5jyIaHN8zeKlK5V.94Kjwu</th>\n",
       "      <th>PdBxkE2gnI/.ynokkp1Hu1KLGZnGdei</th>\n",
       "      <th>SB46Udqc5Svsi70S1qRmRLv5tlg8Oca</th>\n",
       "      <th>gehEOcDPtU3SmNSXrwWwWD4ulPpUdMO</th>\n",
       "      <th>VRAsyF.1xMBYqAVKX1biyIORH6N6qzy</th>\n",
       "      <th>Lf8/u.0k2029QMSQFrHS4gRsvKOQFUG</th>\n",
       "      <th>ay.AqX/9ysBtWHcnHoDeGAyJ5Orla8e</th>\n",
       "      <th>2Q3Zpfgt/PUwn1YABjJ5A9T3ZW8xwVa</th>\n",
       "    </tr>\n",
       "  </thead>\n",
       "  <tbody>\n",
       "    <tr>\n",
       "      <th>title</th>\n",
       "      <td>Slow Cooker Chicken and Dumplings</td>\n",
       "      <td>Awesome Slow Cooker Pot Roast</td>\n",
       "      <td>Brown Sugar Meatloaf</td>\n",
       "      <td>Best Chocolate Chip Cookies</td>\n",
       "      <td>Homemade Mac and Cheese Casserole</td>\n",
       "      <td>Banana Banana Bread</td>\n",
       "      <td>Chef John's Fisherman's Pie</td>\n",
       "      <td>Mom's Zucchini Bread</td>\n",
       "      <td>The Best Rolled Sugar Cookies</td>\n",
       "      <td>Singapore Chili Crabs</td>\n",
       "      <td>...</td>\n",
       "      <td>Citrus Creme Brulee</td>\n",
       "      <td>Honey Nutty Granola</td>\n",
       "      <td>Salmon en Croute</td>\n",
       "      <td>Homemade Blender Butter</td>\n",
       "      <td>Gluten Free Chicken Noodle Soup</td>\n",
       "      <td>Thai-Indian Veggie Soup</td>\n",
       "      <td>Coconut Milk-Free Panang Curry Chicken</td>\n",
       "      <td>Cooked Cold Salad</td>\n",
       "      <td>Easy Eggnog Creme Brulee</td>\n",
       "      <td>Super Power Stovetop Granola</td>\n",
       "    </tr>\n",
       "    <tr>\n",
       "      <th>ingredients</th>\n",
       "      <td>[4 skinless, boneless chicken breast halves AD...</td>\n",
       "      <td>[2 (10.75 ounce) cans condensed cream of mushr...</td>\n",
       "      <td>[1/2 cup packed brown sugar ADVERTISEMENT, 1/2...</td>\n",
       "      <td>[1 cup butter, softened ADVERTISEMENT, 1 cup w...</td>\n",
       "      <td>[8 ounces whole wheat rotini pasta ADVERTISEME...</td>\n",
       "      <td>[2 cups all-purpose flour ADVERTISEMENT, 1 tea...</td>\n",
       "      <td>[For potato crust: ADVERTISEMENT, 3 russet pot...</td>\n",
       "      <td>[3 cups all-purpose flour ADVERTISEMENT, 1 tea...</td>\n",
       "      <td>[1 1/2 cups butter, softened ADVERTISEMENT, 2 ...</td>\n",
       "      <td>[Sauce: ADVERTISEMENT, 1/2 cup ketchup ADVERTI...</td>\n",
       "      <td>...</td>\n",
       "      <td>[2 oranges, juiced ADVERTISEMENT, lemon, juice...</td>\n",
       "      <td>[3 cups rolled oats ADVERTISEMENT, 1 1/2 cups ...</td>\n",
       "      <td>[1 cup watercress, or as desired ADVERTISEMENT...</td>\n",
       "      <td>[2 pints heavy whipping cream ADVERTISEMENT, s...</td>\n",
       "      <td>[1/2 (12 ounce) box Barilla® Gluten Free Elbow...</td>\n",
       "      <td>[2 teaspoons olive oil ADVERTISEMENT, 1/4 cup ...</td>\n",
       "      <td>[2 cups light cream ADVERTISEMENT, 1/4 teaspoo...</td>\n",
       "      <td>[3 tablespoons bacon grease ADVERTISEMENT, 2 c...</td>\n",
       "      <td>[4 egg yolks ADVERTISEMENT, 1 tablespoon white...</td>\n",
       "      <td>[1/4 cup canola oil ADVERTISEMENT, 3 cups quic...</td>\n",
       "    </tr>\n",
       "    <tr>\n",
       "      <th>instructions</th>\n",
       "      <td>Place the chicken, butter, soup, and onion in ...</td>\n",
       "      <td>In a slow cooker, mix cream of mushroom soup, ...</td>\n",
       "      <td>Preheat oven to 350 degrees F (175 degrees C)....</td>\n",
       "      <td>Preheat oven to 350 degrees F (175 degrees C)....</td>\n",
       "      <td>Preheat oven to 350 degrees F. Line a 2-quart ...</td>\n",
       "      <td>Preheat oven to 350 degrees F (175 degrees C)....</td>\n",
       "      <td>Bring a large saucepan of salted water and to ...</td>\n",
       "      <td>Grease and flour two 8 x 4 inch pans. Preheat ...</td>\n",
       "      <td>In a large bowl, cream together butter and sug...</td>\n",
       "      <td>Whisk ketchup, chicken broth, egg, soy sauce, ...</td>\n",
       "      <td>...</td>\n",
       "      <td>Preheat oven to 300 degrees F (150 degrees C)....</td>\n",
       "      <td>Preheat oven to 300 degrees F (150 degrees C)....</td>\n",
       "      <td>Preheat oven to 375 degrees F (190 degrees C)....</td>\n",
       "      <td>Pour cream into a blender. Cover and blend unt...</td>\n",
       "      <td>Saute onions in olive oil over medium heat unt...</td>\n",
       "      <td>Heat oil in a large pot over medium heat. Add ...</td>\n",
       "      <td>Heat cream and coconut extract in a skillet or...</td>\n",
       "      <td>Heat bacon grease in a skillet over medium-hig...</td>\n",
       "      <td>Preheat oven to 350 degrees F (175 degrees C)....</td>\n",
       "      <td>Heat 1/4 cup canola oil in large skillet over ...</td>\n",
       "    </tr>\n",
       "    <tr>\n",
       "      <th>picture_link</th>\n",
       "      <td>55lznCYBbs2mT8BTx6BTkLhynGHzM.S</td>\n",
       "      <td>QyrvGdGNMBA2lDdciY0FjKu.77MM0Oe</td>\n",
       "      <td>LVW1DI0vtlCrpAhNSEQysE9i/7rJG56</td>\n",
       "      <td>0SO5kdWOV94j6EfAVwMMYRM3yNN8eRi</td>\n",
       "      <td>YCnbhplMgiraW4rUXcybgSEZinSgljm</td>\n",
       "      <td>jRnWGDXDdyOg3rta4/HVAR2rD19XubC</td>\n",
       "      <td>aUca10AaD8T2yYvcLOgH/UJlR5/OhOe</td>\n",
       "      <td>YdgEVyLVffZgh9NZPN3Eqj6MaX8KdzK</td>\n",
       "      <td>UrgvDGu4roLiho160fTVIwCUrGZna8i</td>\n",
       "      <td>OFp6yXFwzlrkMQ5STffYPllxQvMVLUS</td>\n",
       "      <td>...</td>\n",
       "      <td>qE58a7Z1Au0GXvPO188iHZZVqna9hLa</td>\n",
       "      <td>qE58a7Z1Au0GXvPO188iHZZVqna9hLa</td>\n",
       "      <td>qE58a7Z1Au0GXvPO188iHZZVqna9hLa</td>\n",
       "      <td>qE58a7Z1Au0GXvPO188iHZZVqna9hLa</td>\n",
       "      <td>cWEzUSv9Ozr3b4MxNVCqJYgTjIS.kHm</td>\n",
       "      <td>qE58a7Z1Au0GXvPO188iHZZVqna9hLa</td>\n",
       "      <td>qE58a7Z1Au0GXvPO188iHZZVqna9hLa</td>\n",
       "      <td>qE58a7Z1Au0GXvPO188iHZZVqna9hLa</td>\n",
       "      <td>qE58a7Z1Au0GXvPO188iHZZVqna9hLa</td>\n",
       "      <td>qE58a7Z1Au0GXvPO188iHZZVqna9hLa</td>\n",
       "    </tr>\n",
       "  </tbody>\n",
       "</table>\n",
       "<p>4 rows × 39802 columns</p>\n",
       "</div>"
      ],
      "text/plain": [
       "                                rmK12Uau.ntP510KeImX506H6Mr6jTu  \\\n",
       "title                         Slow Cooker Chicken and Dumplings   \n",
       "ingredients   [4 skinless, boneless chicken breast halves AD...   \n",
       "instructions  Place the chicken, butter, soup, and onion in ...   \n",
       "picture_link                    55lznCYBbs2mT8BTx6BTkLhynGHzM.S   \n",
       "\n",
       "                                5ZpZE8hSVdPk2ZXo1mZTyoPWJRSCPSm  \\\n",
       "title                             Awesome Slow Cooker Pot Roast   \n",
       "ingredients   [2 (10.75 ounce) cans condensed cream of mushr...   \n",
       "instructions  In a slow cooker, mix cream of mushroom soup, ...   \n",
       "picture_link                    QyrvGdGNMBA2lDdciY0FjKu.77MM0Oe   \n",
       "\n",
       "                                clyYQv.CplpwJtjNaFGhx0VilNYqRxu  \\\n",
       "title                                      Brown Sugar Meatloaf   \n",
       "ingredients   [1/2 cup packed brown sugar ADVERTISEMENT, 1/2...   \n",
       "instructions  Preheat oven to 350 degrees F (175 degrees C)....   \n",
       "picture_link                    LVW1DI0vtlCrpAhNSEQysE9i/7rJG56   \n",
       "\n",
       "                                BmqFAmCrDHiKNwX.IQzb0U/v0mLlxFu  \\\n",
       "title                               Best Chocolate Chip Cookies   \n",
       "ingredients   [1 cup butter, softened ADVERTISEMENT, 1 cup w...   \n",
       "instructions  Preheat oven to 350 degrees F (175 degrees C)....   \n",
       "picture_link                    0SO5kdWOV94j6EfAVwMMYRM3yNN8eRi   \n",
       "\n",
       "                                N.jCksRjB4MFwbgPFQU8Kg.yF.XCtOi  \\\n",
       "title                         Homemade Mac and Cheese Casserole   \n",
       "ingredients   [8 ounces whole wheat rotini pasta ADVERTISEME...   \n",
       "instructions  Preheat oven to 350 degrees F. Line a 2-quart ...   \n",
       "picture_link                    YCnbhplMgiraW4rUXcybgSEZinSgljm   \n",
       "\n",
       "                                kq.naD.8G19M4UU9dVvJgHtpfo.l/eC  \\\n",
       "title                                       Banana Banana Bread   \n",
       "ingredients   [2 cups all-purpose flour ADVERTISEMENT, 1 tea...   \n",
       "instructions  Preheat oven to 350 degrees F (175 degrees C)....   \n",
       "picture_link                    jRnWGDXDdyOg3rta4/HVAR2rD19XubC   \n",
       "\n",
       "                                lYrgWNn00EXblOupzM3tL0jGr9O0CB2  \\\n",
       "title                               Chef John's Fisherman's Pie   \n",
       "ingredients   [For potato crust: ADVERTISEMENT, 3 russet pot...   \n",
       "instructions  Bring a large saucepan of salted water and to ...   \n",
       "picture_link                    aUca10AaD8T2yYvcLOgH/UJlR5/OhOe   \n",
       "\n",
       "                                Fu0DgGYFUGwc0BBlN6r20o/ihOVs5bO  \\\n",
       "title                                      Mom's Zucchini Bread   \n",
       "ingredients   [3 cups all-purpose flour ADVERTISEMENT, 1 tea...   \n",
       "instructions  Grease and flour two 8 x 4 inch pans. Preheat ...   \n",
       "picture_link                    YdgEVyLVffZgh9NZPN3Eqj6MaX8KdzK   \n",
       "\n",
       "                                MBRNtqELRRuv8zJH4k7Aba2bmIc2A3C  \\\n",
       "title                             The Best Rolled Sugar Cookies   \n",
       "ingredients   [1 1/2 cups butter, softened ADVERTISEMENT, 2 ...   \n",
       "instructions  In a large bowl, cream together butter and sug...   \n",
       "picture_link                    UrgvDGu4roLiho160fTVIwCUrGZna8i   \n",
       "\n",
       "                                ZPyPoMiNvgAfrKcRpH9FEYV/XsPZBsW  ...  \\\n",
       "title                                     Singapore Chili Crabs  ...   \n",
       "ingredients   [Sauce: ADVERTISEMENT, 1/2 cup ketchup ADVERTI...  ...   \n",
       "instructions  Whisk ketchup, chicken broth, egg, soy sauce, ...  ...   \n",
       "picture_link                    OFp6yXFwzlrkMQ5STffYPllxQvMVLUS  ...   \n",
       "\n",
       "                                uHHb42/tuIKsmN5U6l9AD.FdVpSFxs6  \\\n",
       "title                                       Citrus Creme Brulee   \n",
       "ingredients   [2 oranges, juiced ADVERTISEMENT, lemon, juice...   \n",
       "instructions  Preheat oven to 300 degrees F (150 degrees C)....   \n",
       "picture_link                    qE58a7Z1Au0GXvPO188iHZZVqna9hLa   \n",
       "\n",
       "                                IPAeN3L6rm2oughJpUhbG038k.ACJ0K  \\\n",
       "title                                       Honey Nutty Granola   \n",
       "ingredients   [3 cups rolled oats ADVERTISEMENT, 1 1/2 cups ...   \n",
       "instructions  Preheat oven to 300 degrees F (150 degrees C)....   \n",
       "picture_link                    qE58a7Z1Au0GXvPO188iHZZVqna9hLa   \n",
       "\n",
       "                                3UIhlTQFH5jyIaHN8zeKlK5V.94Kjwu  \\\n",
       "title                                          Salmon en Croute   \n",
       "ingredients   [1 cup watercress, or as desired ADVERTISEMENT...   \n",
       "instructions  Preheat oven to 375 degrees F (190 degrees C)....   \n",
       "picture_link                    qE58a7Z1Au0GXvPO188iHZZVqna9hLa   \n",
       "\n",
       "                                PdBxkE2gnI/.ynokkp1Hu1KLGZnGdei  \\\n",
       "title                                   Homemade Blender Butter   \n",
       "ingredients   [2 pints heavy whipping cream ADVERTISEMENT, s...   \n",
       "instructions  Pour cream into a blender. Cover and blend unt...   \n",
       "picture_link                    qE58a7Z1Au0GXvPO188iHZZVqna9hLa   \n",
       "\n",
       "                                SB46Udqc5Svsi70S1qRmRLv5tlg8Oca  \\\n",
       "title                           Gluten Free Chicken Noodle Soup   \n",
       "ingredients   [1/2 (12 ounce) box Barilla® Gluten Free Elbow...   \n",
       "instructions  Saute onions in olive oil over medium heat unt...   \n",
       "picture_link                    cWEzUSv9Ozr3b4MxNVCqJYgTjIS.kHm   \n",
       "\n",
       "                                gehEOcDPtU3SmNSXrwWwWD4ulPpUdMO  \\\n",
       "title                                   Thai-Indian Veggie Soup   \n",
       "ingredients   [2 teaspoons olive oil ADVERTISEMENT, 1/4 cup ...   \n",
       "instructions  Heat oil in a large pot over medium heat. Add ...   \n",
       "picture_link                    qE58a7Z1Au0GXvPO188iHZZVqna9hLa   \n",
       "\n",
       "                                VRAsyF.1xMBYqAVKX1biyIORH6N6qzy  \\\n",
       "title                    Coconut Milk-Free Panang Curry Chicken   \n",
       "ingredients   [2 cups light cream ADVERTISEMENT, 1/4 teaspoo...   \n",
       "instructions  Heat cream and coconut extract in a skillet or...   \n",
       "picture_link                    qE58a7Z1Au0GXvPO188iHZZVqna9hLa   \n",
       "\n",
       "                                Lf8/u.0k2029QMSQFrHS4gRsvKOQFUG  \\\n",
       "title                                         Cooked Cold Salad   \n",
       "ingredients   [3 tablespoons bacon grease ADVERTISEMENT, 2 c...   \n",
       "instructions  Heat bacon grease in a skillet over medium-hig...   \n",
       "picture_link                    qE58a7Z1Au0GXvPO188iHZZVqna9hLa   \n",
       "\n",
       "                                ay.AqX/9ysBtWHcnHoDeGAyJ5Orla8e  \\\n",
       "title                                  Easy Eggnog Creme Brulee   \n",
       "ingredients   [4 egg yolks ADVERTISEMENT, 1 tablespoon white...   \n",
       "instructions  Preheat oven to 350 degrees F (175 degrees C)....   \n",
       "picture_link                    qE58a7Z1Au0GXvPO188iHZZVqna9hLa   \n",
       "\n",
       "                                2Q3Zpfgt/PUwn1YABjJ5A9T3ZW8xwVa  \n",
       "title                              Super Power Stovetop Granola  \n",
       "ingredients   [1/4 cup canola oil ADVERTISEMENT, 3 cups quic...  \n",
       "instructions  Heat 1/4 cup canola oil in large skillet over ...  \n",
       "picture_link                    qE58a7Z1Au0GXvPO188iHZZVqna9hLa  \n",
       "\n",
       "[4 rows x 39802 columns]"
      ]
     },
     "execution_count": 6,
     "metadata": {},
     "output_type": "execute_result"
    }
   ],
   "source": [
    "recipes_df.head()"
   ]
  },
  {
   "cell_type": "code",
   "execution_count": 7,
   "id": "b6a7d595",
   "metadata": {},
   "outputs": [
    {
     "data": {
      "text/html": [
       "<div>\n",
       "<style scoped>\n",
       "    .dataframe tbody tr th:only-of-type {\n",
       "        vertical-align: middle;\n",
       "    }\n",
       "\n",
       "    .dataframe tbody tr th {\n",
       "        vertical-align: top;\n",
       "    }\n",
       "\n",
       "    .dataframe thead th {\n",
       "        text-align: right;\n",
       "    }\n",
       "</style>\n",
       "<table border=\"1\" class=\"dataframe\">\n",
       "  <thead>\n",
       "    <tr style=\"text-align: right;\">\n",
       "      <th></th>\n",
       "      <th>title</th>\n",
       "      <th>ingredients</th>\n",
       "      <th>instructions</th>\n",
       "      <th>picture_link</th>\n",
       "    </tr>\n",
       "  </thead>\n",
       "  <tbody>\n",
       "    <tr>\n",
       "      <th>rmK12Uau.ntP510KeImX506H6Mr6jTu</th>\n",
       "      <td>Slow Cooker Chicken and Dumplings</td>\n",
       "      <td>[4 skinless, boneless chicken breast halves AD...</td>\n",
       "      <td>Place the chicken, butter, soup, and onion in ...</td>\n",
       "      <td>55lznCYBbs2mT8BTx6BTkLhynGHzM.S</td>\n",
       "    </tr>\n",
       "    <tr>\n",
       "      <th>5ZpZE8hSVdPk2ZXo1mZTyoPWJRSCPSm</th>\n",
       "      <td>Awesome Slow Cooker Pot Roast</td>\n",
       "      <td>[2 (10.75 ounce) cans condensed cream of mushr...</td>\n",
       "      <td>In a slow cooker, mix cream of mushroom soup, ...</td>\n",
       "      <td>QyrvGdGNMBA2lDdciY0FjKu.77MM0Oe</td>\n",
       "    </tr>\n",
       "    <tr>\n",
       "      <th>clyYQv.CplpwJtjNaFGhx0VilNYqRxu</th>\n",
       "      <td>Brown Sugar Meatloaf</td>\n",
       "      <td>[1/2 cup packed brown sugar ADVERTISEMENT, 1/2...</td>\n",
       "      <td>Preheat oven to 350 degrees F (175 degrees C)....</td>\n",
       "      <td>LVW1DI0vtlCrpAhNSEQysE9i/7rJG56</td>\n",
       "    </tr>\n",
       "    <tr>\n",
       "      <th>BmqFAmCrDHiKNwX.IQzb0U/v0mLlxFu</th>\n",
       "      <td>Best Chocolate Chip Cookies</td>\n",
       "      <td>[1 cup butter, softened ADVERTISEMENT, 1 cup w...</td>\n",
       "      <td>Preheat oven to 350 degrees F (175 degrees C)....</td>\n",
       "      <td>0SO5kdWOV94j6EfAVwMMYRM3yNN8eRi</td>\n",
       "    </tr>\n",
       "    <tr>\n",
       "      <th>N.jCksRjB4MFwbgPFQU8Kg.yF.XCtOi</th>\n",
       "      <td>Homemade Mac and Cheese Casserole</td>\n",
       "      <td>[8 ounces whole wheat rotini pasta ADVERTISEME...</td>\n",
       "      <td>Preheat oven to 350 degrees F. Line a 2-quart ...</td>\n",
       "      <td>YCnbhplMgiraW4rUXcybgSEZinSgljm</td>\n",
       "    </tr>\n",
       "  </tbody>\n",
       "</table>\n",
       "</div>"
      ],
      "text/plain": [
       "                                                             title  \\\n",
       "rmK12Uau.ntP510KeImX506H6Mr6jTu  Slow Cooker Chicken and Dumplings   \n",
       "5ZpZE8hSVdPk2ZXo1mZTyoPWJRSCPSm      Awesome Slow Cooker Pot Roast   \n",
       "clyYQv.CplpwJtjNaFGhx0VilNYqRxu               Brown Sugar Meatloaf   \n",
       "BmqFAmCrDHiKNwX.IQzb0U/v0mLlxFu        Best Chocolate Chip Cookies   \n",
       "N.jCksRjB4MFwbgPFQU8Kg.yF.XCtOi  Homemade Mac and Cheese Casserole   \n",
       "\n",
       "                                                                       ingredients  \\\n",
       "rmK12Uau.ntP510KeImX506H6Mr6jTu  [4 skinless, boneless chicken breast halves AD...   \n",
       "5ZpZE8hSVdPk2ZXo1mZTyoPWJRSCPSm  [2 (10.75 ounce) cans condensed cream of mushr...   \n",
       "clyYQv.CplpwJtjNaFGhx0VilNYqRxu  [1/2 cup packed brown sugar ADVERTISEMENT, 1/2...   \n",
       "BmqFAmCrDHiKNwX.IQzb0U/v0mLlxFu  [1 cup butter, softened ADVERTISEMENT, 1 cup w...   \n",
       "N.jCksRjB4MFwbgPFQU8Kg.yF.XCtOi  [8 ounces whole wheat rotini pasta ADVERTISEME...   \n",
       "\n",
       "                                                                      instructions  \\\n",
       "rmK12Uau.ntP510KeImX506H6Mr6jTu  Place the chicken, butter, soup, and onion in ...   \n",
       "5ZpZE8hSVdPk2ZXo1mZTyoPWJRSCPSm  In a slow cooker, mix cream of mushroom soup, ...   \n",
       "clyYQv.CplpwJtjNaFGhx0VilNYqRxu  Preheat oven to 350 degrees F (175 degrees C)....   \n",
       "BmqFAmCrDHiKNwX.IQzb0U/v0mLlxFu  Preheat oven to 350 degrees F (175 degrees C)....   \n",
       "N.jCksRjB4MFwbgPFQU8Kg.yF.XCtOi  Preheat oven to 350 degrees F. Line a 2-quart ...   \n",
       "\n",
       "                                                    picture_link  \n",
       "rmK12Uau.ntP510KeImX506H6Mr6jTu  55lznCYBbs2mT8BTx6BTkLhynGHzM.S  \n",
       "5ZpZE8hSVdPk2ZXo1mZTyoPWJRSCPSm  QyrvGdGNMBA2lDdciY0FjKu.77MM0Oe  \n",
       "clyYQv.CplpwJtjNaFGhx0VilNYqRxu  LVW1DI0vtlCrpAhNSEQysE9i/7rJG56  \n",
       "BmqFAmCrDHiKNwX.IQzb0U/v0mLlxFu  0SO5kdWOV94j6EfAVwMMYRM3yNN8eRi  \n",
       "N.jCksRjB4MFwbgPFQU8Kg.yF.XCtOi  YCnbhplMgiraW4rUXcybgSEZinSgljm  "
      ]
     },
     "execution_count": 7,
     "metadata": {},
     "output_type": "execute_result"
    }
   ],
   "source": [
    "#transpose \n",
    "recipes_df=recipes_df.T \n",
    "recipes_df.head()"
   ]
  },
  {
   "cell_type": "code",
   "execution_count": 8,
   "id": "c436dded",
   "metadata": {},
   "outputs": [
    {
     "name": "stdout",
     "output_type": "stream",
     "text": [
      "<class 'pandas.core.frame.DataFrame'>\n",
      "Index: 39802 entries, rmK12Uau.ntP510KeImX506H6Mr6jTu to 2Q3Zpfgt/PUwn1YABjJ5A9T3ZW8xwVa\n",
      "Data columns (total 4 columns):\n",
      " #   Column        Non-Null Count  Dtype \n",
      "---  ------        --------------  ----- \n",
      " 0   title         39522 non-null  object\n",
      " 1   ingredients   39522 non-null  object\n",
      " 2   instructions  39522 non-null  object\n",
      " 3   picture_link  39522 non-null  object\n",
      "dtypes: object(4)\n",
      "memory usage: 2.5+ MB\n"
     ]
    }
   ],
   "source": [
    "recipes_df.info()"
   ]
  },
  {
   "cell_type": "code",
   "execution_count": 9,
   "id": "e536fbcb",
   "metadata": {},
   "outputs": [
    {
     "data": {
      "text/html": [
       "<div>\n",
       "<style scoped>\n",
       "    .dataframe tbody tr th:only-of-type {\n",
       "        vertical-align: middle;\n",
       "    }\n",
       "\n",
       "    .dataframe tbody tr th {\n",
       "        vertical-align: top;\n",
       "    }\n",
       "\n",
       "    .dataframe thead th {\n",
       "        text-align: right;\n",
       "    }\n",
       "</style>\n",
       "<table border=\"1\" class=\"dataframe\">\n",
       "  <thead>\n",
       "    <tr style=\"text-align: right;\">\n",
       "      <th></th>\n",
       "      <th>title</th>\n",
       "      <th>ingredients</th>\n",
       "      <th>instructions</th>\n",
       "      <th>picture_link</th>\n",
       "    </tr>\n",
       "  </thead>\n",
       "  <tbody>\n",
       "    <tr>\n",
       "      <th>0</th>\n",
       "      <td>Slow Cooker Chicken and Dumplings</td>\n",
       "      <td>[4 skinless, boneless chicken breast halves AD...</td>\n",
       "      <td>Place the chicken, butter, soup, and onion in ...</td>\n",
       "      <td>55lznCYBbs2mT8BTx6BTkLhynGHzM.S</td>\n",
       "    </tr>\n",
       "    <tr>\n",
       "      <th>1</th>\n",
       "      <td>Awesome Slow Cooker Pot Roast</td>\n",
       "      <td>[2 (10.75 ounce) cans condensed cream of mushr...</td>\n",
       "      <td>In a slow cooker, mix cream of mushroom soup, ...</td>\n",
       "      <td>QyrvGdGNMBA2lDdciY0FjKu.77MM0Oe</td>\n",
       "    </tr>\n",
       "    <tr>\n",
       "      <th>2</th>\n",
       "      <td>Brown Sugar Meatloaf</td>\n",
       "      <td>[1/2 cup packed brown sugar ADVERTISEMENT, 1/2...</td>\n",
       "      <td>Preheat oven to 350 degrees F (175 degrees C)....</td>\n",
       "      <td>LVW1DI0vtlCrpAhNSEQysE9i/7rJG56</td>\n",
       "    </tr>\n",
       "    <tr>\n",
       "      <th>3</th>\n",
       "      <td>Best Chocolate Chip Cookies</td>\n",
       "      <td>[1 cup butter, softened ADVERTISEMENT, 1 cup w...</td>\n",
       "      <td>Preheat oven to 350 degrees F (175 degrees C)....</td>\n",
       "      <td>0SO5kdWOV94j6EfAVwMMYRM3yNN8eRi</td>\n",
       "    </tr>\n",
       "    <tr>\n",
       "      <th>4</th>\n",
       "      <td>Homemade Mac and Cheese Casserole</td>\n",
       "      <td>[8 ounces whole wheat rotini pasta ADVERTISEME...</td>\n",
       "      <td>Preheat oven to 350 degrees F. Line a 2-quart ...</td>\n",
       "      <td>YCnbhplMgiraW4rUXcybgSEZinSgljm</td>\n",
       "    </tr>\n",
       "  </tbody>\n",
       "</table>\n",
       "</div>"
      ],
      "text/plain": [
       "                               title  \\\n",
       "0  Slow Cooker Chicken and Dumplings   \n",
       "1      Awesome Slow Cooker Pot Roast   \n",
       "2               Brown Sugar Meatloaf   \n",
       "3        Best Chocolate Chip Cookies   \n",
       "4  Homemade Mac and Cheese Casserole   \n",
       "\n",
       "                                         ingredients  \\\n",
       "0  [4 skinless, boneless chicken breast halves AD...   \n",
       "1  [2 (10.75 ounce) cans condensed cream of mushr...   \n",
       "2  [1/2 cup packed brown sugar ADVERTISEMENT, 1/2...   \n",
       "3  [1 cup butter, softened ADVERTISEMENT, 1 cup w...   \n",
       "4  [8 ounces whole wheat rotini pasta ADVERTISEME...   \n",
       "\n",
       "                                        instructions  \\\n",
       "0  Place the chicken, butter, soup, and onion in ...   \n",
       "1  In a slow cooker, mix cream of mushroom soup, ...   \n",
       "2  Preheat oven to 350 degrees F (175 degrees C)....   \n",
       "3  Preheat oven to 350 degrees F (175 degrees C)....   \n",
       "4  Preheat oven to 350 degrees F. Line a 2-quart ...   \n",
       "\n",
       "                      picture_link  \n",
       "0  55lznCYBbs2mT8BTx6BTkLhynGHzM.S  \n",
       "1  QyrvGdGNMBA2lDdciY0FjKu.77MM0Oe  \n",
       "2  LVW1DI0vtlCrpAhNSEQysE9i/7rJG56  \n",
       "3  0SO5kdWOV94j6EfAVwMMYRM3yNN8eRi  \n",
       "4  YCnbhplMgiraW4rUXcybgSEZinSgljm  "
      ]
     },
     "execution_count": 9,
     "metadata": {},
     "output_type": "execute_result"
    }
   ],
   "source": [
    "# we don't want the scraped link as index so we will reset it\n",
    "recipes_df.index = range(len(recipes_df))\n",
    "recipes_df.head() "
   ]
  },
  {
   "cell_type": "code",
   "execution_count": 10,
   "id": "588eb6e3",
   "metadata": {},
   "outputs": [
    {
     "data": {
      "text/html": [
       "<div>\n",
       "<style scoped>\n",
       "    .dataframe tbody tr th:only-of-type {\n",
       "        vertical-align: middle;\n",
       "    }\n",
       "\n",
       "    .dataframe tbody tr th {\n",
       "        vertical-align: top;\n",
       "    }\n",
       "\n",
       "    .dataframe thead th {\n",
       "        text-align: right;\n",
       "    }\n",
       "</style>\n",
       "<table border=\"1\" class=\"dataframe\">\n",
       "  <thead>\n",
       "    <tr style=\"text-align: right;\">\n",
       "      <th></th>\n",
       "      <th>title</th>\n",
       "      <th>ingredients</th>\n",
       "      <th>instructions</th>\n",
       "    </tr>\n",
       "  </thead>\n",
       "  <tbody>\n",
       "    <tr>\n",
       "      <th>0</th>\n",
       "      <td>Slow Cooker Chicken and Dumplings</td>\n",
       "      <td>[4 skinless, boneless chicken breast halves AD...</td>\n",
       "      <td>Place the chicken, butter, soup, and onion in ...</td>\n",
       "    </tr>\n",
       "    <tr>\n",
       "      <th>1</th>\n",
       "      <td>Awesome Slow Cooker Pot Roast</td>\n",
       "      <td>[2 (10.75 ounce) cans condensed cream of mushr...</td>\n",
       "      <td>In a slow cooker, mix cream of mushroom soup, ...</td>\n",
       "    </tr>\n",
       "    <tr>\n",
       "      <th>2</th>\n",
       "      <td>Brown Sugar Meatloaf</td>\n",
       "      <td>[1/2 cup packed brown sugar ADVERTISEMENT, 1/2...</td>\n",
       "      <td>Preheat oven to 350 degrees F (175 degrees C)....</td>\n",
       "    </tr>\n",
       "    <tr>\n",
       "      <th>3</th>\n",
       "      <td>Best Chocolate Chip Cookies</td>\n",
       "      <td>[1 cup butter, softened ADVERTISEMENT, 1 cup w...</td>\n",
       "      <td>Preheat oven to 350 degrees F (175 degrees C)....</td>\n",
       "    </tr>\n",
       "    <tr>\n",
       "      <th>4</th>\n",
       "      <td>Homemade Mac and Cheese Casserole</td>\n",
       "      <td>[8 ounces whole wheat rotini pasta ADVERTISEME...</td>\n",
       "      <td>Preheat oven to 350 degrees F. Line a 2-quart ...</td>\n",
       "    </tr>\n",
       "  </tbody>\n",
       "</table>\n",
       "</div>"
      ],
      "text/plain": [
       "                               title  \\\n",
       "0  Slow Cooker Chicken and Dumplings   \n",
       "1      Awesome Slow Cooker Pot Roast   \n",
       "2               Brown Sugar Meatloaf   \n",
       "3        Best Chocolate Chip Cookies   \n",
       "4  Homemade Mac and Cheese Casserole   \n",
       "\n",
       "                                         ingredients  \\\n",
       "0  [4 skinless, boneless chicken breast halves AD...   \n",
       "1  [2 (10.75 ounce) cans condensed cream of mushr...   \n",
       "2  [1/2 cup packed brown sugar ADVERTISEMENT, 1/2...   \n",
       "3  [1 cup butter, softened ADVERTISEMENT, 1 cup w...   \n",
       "4  [8 ounces whole wheat rotini pasta ADVERTISEME...   \n",
       "\n",
       "                                        instructions  \n",
       "0  Place the chicken, butter, soup, and onion in ...  \n",
       "1  In a slow cooker, mix cream of mushroom soup, ...  \n",
       "2  Preheat oven to 350 degrees F (175 degrees C)....  \n",
       "3  Preheat oven to 350 degrees F (175 degrees C)....  \n",
       "4  Preheat oven to 350 degrees F. Line a 2-quart ...  "
      ]
     },
     "execution_count": 10,
     "metadata": {},
     "output_type": "execute_result"
    }
   ],
   "source": [
    "#we don't need picture_link column so we drop it\n",
    "recipes=recipes_df.loc[:,['title','ingredients','instructions']] \n",
    "\n",
    "recipes.head()"
   ]
  },
  {
   "cell_type": "code",
   "execution_count": 11,
   "id": "0736ad08",
   "metadata": {},
   "outputs": [
    {
     "name": "stdout",
     "output_type": "stream",
     "text": [
      "<class 'pandas.core.frame.DataFrame'>\n",
      "RangeIndex: 39802 entries, 0 to 39801\n",
      "Data columns (total 3 columns):\n",
      " #   Column        Non-Null Count  Dtype \n",
      "---  ------        --------------  ----- \n",
      " 0   title         39522 non-null  object\n",
      " 1   ingredients   39522 non-null  object\n",
      " 2   instructions  39522 non-null  object\n",
      "dtypes: object(3)\n",
      "memory usage: 933.0+ KB\n"
     ]
    }
   ],
   "source": [
    "recipes.info()"
   ]
  },
  {
   "cell_type": "code",
   "execution_count": 12,
   "id": "25a4c5f9",
   "metadata": {},
   "outputs": [
    {
     "data": {
      "text/plain": [
       "title           280\n",
       "ingredients     280\n",
       "instructions    280\n",
       "dtype: int64"
      ]
     },
     "execution_count": 12,
     "metadata": {},
     "output_type": "execute_result"
    }
   ],
   "source": [
    "# check for null values\n",
    "recipes.isnull().sum() "
   ]
  },
  {
   "cell_type": "code",
   "execution_count": 13,
   "id": "27c03742",
   "metadata": {},
   "outputs": [
    {
     "data": {
      "text/html": [
       "<div>\n",
       "<style scoped>\n",
       "    .dataframe tbody tr th:only-of-type {\n",
       "        vertical-align: middle;\n",
       "    }\n",
       "\n",
       "    .dataframe tbody tr th {\n",
       "        vertical-align: top;\n",
       "    }\n",
       "\n",
       "    .dataframe thead th {\n",
       "        text-align: right;\n",
       "    }\n",
       "</style>\n",
       "<table border=\"1\" class=\"dataframe\">\n",
       "  <thead>\n",
       "    <tr style=\"text-align: right;\">\n",
       "      <th></th>\n",
       "      <th>title</th>\n",
       "      <th>ingredients</th>\n",
       "      <th>instructions</th>\n",
       "    </tr>\n",
       "  </thead>\n",
       "  <tbody>\n",
       "    <tr>\n",
       "      <th>0</th>\n",
       "      <td>Slow Cooker Chicken and Dumplings</td>\n",
       "      <td>[4 skinless, boneless chicken breast halves AD...</td>\n",
       "      <td>Place the chicken, butter, soup, and onion in ...</td>\n",
       "    </tr>\n",
       "    <tr>\n",
       "      <th>1</th>\n",
       "      <td>Awesome Slow Cooker Pot Roast</td>\n",
       "      <td>[2 (10.75 ounce) cans condensed cream of mushr...</td>\n",
       "      <td>In a slow cooker, mix cream of mushroom soup, ...</td>\n",
       "    </tr>\n",
       "    <tr>\n",
       "      <th>2</th>\n",
       "      <td>Brown Sugar Meatloaf</td>\n",
       "      <td>[1/2 cup packed brown sugar ADVERTISEMENT, 1/2...</td>\n",
       "      <td>Preheat oven to 350 degrees F (175 degrees C)....</td>\n",
       "    </tr>\n",
       "    <tr>\n",
       "      <th>3</th>\n",
       "      <td>Best Chocolate Chip Cookies</td>\n",
       "      <td>[1 cup butter, softened ADVERTISEMENT, 1 cup w...</td>\n",
       "      <td>Preheat oven to 350 degrees F (175 degrees C)....</td>\n",
       "    </tr>\n",
       "    <tr>\n",
       "      <th>4</th>\n",
       "      <td>Homemade Mac and Cheese Casserole</td>\n",
       "      <td>[8 ounces whole wheat rotini pasta ADVERTISEME...</td>\n",
       "      <td>Preheat oven to 350 degrees F. Line a 2-quart ...</td>\n",
       "    </tr>\n",
       "    <tr>\n",
       "      <th>...</th>\n",
       "      <td>...</td>\n",
       "      <td>...</td>\n",
       "      <td>...</td>\n",
       "    </tr>\n",
       "    <tr>\n",
       "      <th>39797</th>\n",
       "      <td>Thai-Indian Veggie Soup</td>\n",
       "      <td>[2 teaspoons olive oil ADVERTISEMENT, 1/4 cup ...</td>\n",
       "      <td>Heat oil in a large pot over medium heat. Add ...</td>\n",
       "    </tr>\n",
       "    <tr>\n",
       "      <th>39798</th>\n",
       "      <td>Coconut Milk-Free Panang Curry Chicken</td>\n",
       "      <td>[2 cups light cream ADVERTISEMENT, 1/4 teaspoo...</td>\n",
       "      <td>Heat cream and coconut extract in a skillet or...</td>\n",
       "    </tr>\n",
       "    <tr>\n",
       "      <th>39799</th>\n",
       "      <td>Cooked Cold Salad</td>\n",
       "      <td>[3 tablespoons bacon grease ADVERTISEMENT, 2 c...</td>\n",
       "      <td>Heat bacon grease in a skillet over medium-hig...</td>\n",
       "    </tr>\n",
       "    <tr>\n",
       "      <th>39800</th>\n",
       "      <td>Easy Eggnog Creme Brulee</td>\n",
       "      <td>[4 egg yolks ADVERTISEMENT, 1 tablespoon white...</td>\n",
       "      <td>Preheat oven to 350 degrees F (175 degrees C)....</td>\n",
       "    </tr>\n",
       "    <tr>\n",
       "      <th>39801</th>\n",
       "      <td>Super Power Stovetop Granola</td>\n",
       "      <td>[1/4 cup canola oil ADVERTISEMENT, 3 cups quic...</td>\n",
       "      <td>Heat 1/4 cup canola oil in large skillet over ...</td>\n",
       "    </tr>\n",
       "  </tbody>\n",
       "</table>\n",
       "<p>39522 rows × 3 columns</p>\n",
       "</div>"
      ],
      "text/plain": [
       "                                        title  \\\n",
       "0           Slow Cooker Chicken and Dumplings   \n",
       "1               Awesome Slow Cooker Pot Roast   \n",
       "2                        Brown Sugar Meatloaf   \n",
       "3                 Best Chocolate Chip Cookies   \n",
       "4           Homemade Mac and Cheese Casserole   \n",
       "...                                       ...   \n",
       "39797                 Thai-Indian Veggie Soup   \n",
       "39798  Coconut Milk-Free Panang Curry Chicken   \n",
       "39799                       Cooked Cold Salad   \n",
       "39800                Easy Eggnog Creme Brulee   \n",
       "39801            Super Power Stovetop Granola   \n",
       "\n",
       "                                             ingredients  \\\n",
       "0      [4 skinless, boneless chicken breast halves AD...   \n",
       "1      [2 (10.75 ounce) cans condensed cream of mushr...   \n",
       "2      [1/2 cup packed brown sugar ADVERTISEMENT, 1/2...   \n",
       "3      [1 cup butter, softened ADVERTISEMENT, 1 cup w...   \n",
       "4      [8 ounces whole wheat rotini pasta ADVERTISEME...   \n",
       "...                                                  ...   \n",
       "39797  [2 teaspoons olive oil ADVERTISEMENT, 1/4 cup ...   \n",
       "39798  [2 cups light cream ADVERTISEMENT, 1/4 teaspoo...   \n",
       "39799  [3 tablespoons bacon grease ADVERTISEMENT, 2 c...   \n",
       "39800  [4 egg yolks ADVERTISEMENT, 1 tablespoon white...   \n",
       "39801  [1/4 cup canola oil ADVERTISEMENT, 3 cups quic...   \n",
       "\n",
       "                                            instructions  \n",
       "0      Place the chicken, butter, soup, and onion in ...  \n",
       "1      In a slow cooker, mix cream of mushroom soup, ...  \n",
       "2      Preheat oven to 350 degrees F (175 degrees C)....  \n",
       "3      Preheat oven to 350 degrees F (175 degrees C)....  \n",
       "4      Preheat oven to 350 degrees F. Line a 2-quart ...  \n",
       "...                                                  ...  \n",
       "39797  Heat oil in a large pot over medium heat. Add ...  \n",
       "39798  Heat cream and coconut extract in a skillet or...  \n",
       "39799  Heat bacon grease in a skillet over medium-hig...  \n",
       "39800  Preheat oven to 350 degrees F (175 degrees C)....  \n",
       "39801  Heat 1/4 cup canola oil in large skillet over ...  \n",
       "\n",
       "[39522 rows x 3 columns]"
      ]
     },
     "execution_count": 13,
     "metadata": {},
     "output_type": "execute_result"
    }
   ],
   "source": [
    "#drop null values\n",
    "recipes=recipes.dropna(how='any')\n",
    "recipes"
   ]
  },
  {
   "cell_type": "code",
   "execution_count": 14,
   "id": "b2f8658f",
   "metadata": {},
   "outputs": [
    {
     "data": {
      "text/plain": [
       "title           0\n",
       "ingredients     0\n",
       "instructions    0\n",
       "dtype: int64"
      ]
     },
     "execution_count": 14,
     "metadata": {},
     "output_type": "execute_result"
    }
   ],
   "source": [
    "# check for null values\n",
    "recipes.isnull().sum() "
   ]
  },
  {
   "cell_type": "code",
   "execution_count": 15,
   "id": "22a155e6",
   "metadata": {},
   "outputs": [],
   "source": [
    "recipes_ingredients=recipes['ingredients']"
   ]
  },
  {
   "cell_type": "code",
   "execution_count": 16,
   "id": "be8c5491",
   "metadata": {},
   "outputs": [],
   "source": [
    "recipes_ingredients= recipes_ingredients.astype(str)"
   ]
  },
  {
   "cell_type": "code",
   "execution_count": 19,
   "id": "77f4834f",
   "metadata": {},
   "outputs": [
    {
     "ename": "NameError",
     "evalue": "name 'ice_cubes' is not defined",
     "output_type": "error",
     "traceback": [
      "\u001b[0;31m---------------------------------------------------------------------------\u001b[0m",
      "\u001b[0;31mNameError\u001b[0m                                 Traceback (most recent call last)",
      "\u001b[0;32m<ipython-input-19-b6953ed3bbd9>\u001b[0m in \u001b[0;36m<module>\u001b[0;34m\u001b[0m\n\u001b[0;32m----> 1\u001b[0;31m \u001b[0mice_cubes\u001b[0m\u001b[0;34m\u001b[0m\u001b[0;34m\u001b[0m\u001b[0m\n\u001b[0m\u001b[1;32m      2\u001b[0m \u001b[0msoy_sauce\u001b[0m\u001b[0;34m\u001b[0m\u001b[0;34m\u001b[0m\u001b[0m\n\u001b[1;32m      3\u001b[0m \u001b[0mgluten_free\u001b[0m\u001b[0;34m\u001b[0m\u001b[0;34m\u001b[0m\u001b[0m\n\u001b[1;32m      4\u001b[0m \u001b[0molive_oil\u001b[0m\u001b[0;34m\u001b[0m\u001b[0;34m\u001b[0m\u001b[0m\n\u001b[1;32m      5\u001b[0m \u001b[0mcanola_oil\u001b[0m\u001b[0;34m\u001b[0m\u001b[0;34m\u001b[0m\u001b[0m\n",
      "\u001b[0;31mNameError\u001b[0m: name 'ice_cubes' is not defined"
     ]
    }
   ],
   "source": [
    "ice_cubes \n",
    "soy_sauce\n",
    "gluten_free \n",
    "olive_oil\n",
    "canola_oil\n",
    "vegetable_oil \n",
    "coconut_oil"
   ]
  },
  {
   "cell_type": "code",
   "execution_count": null,
   "id": "2925089d",
   "metadata": {},
   "outputs": [],
   "source": [
    "# # word_tokenize(recipes_ingredients)\n",
    "\n",
    "# def custom_tokenize(text):\n",
    "#     return word_tokenize(text)\n",
    "\n",
    "# recipes_ingredients = recipes_ingredients.apply(custom_tokenize)"
   ]
  },
  {
   "cell_type": "code",
   "execution_count": 16,
   "id": "a40aee0f",
   "metadata": {},
   "outputs": [
    {
     "data": {
      "text/plain": [
       "\"['2 (10.75 ounce) cans condensed cream of mushroom soup ADVERTISEMENT', '1 (1 ounce) package dry onion soup mix ADVERTISEMENT', '1 1/4 cups water ADVERTISEMENT', '5 1/2 pounds pot roast ADVERTISEMENT', 'ADVERTISEMENT']\""
      ]
     },
     "execution_count": 16,
     "metadata": {},
     "output_type": "execute_result"
    }
   ],
   "source": [
    "recipes_ingredients.iloc[1]"
   ]
  },
  {
   "cell_type": "code",
   "execution_count": 17,
   "id": "e4b2472a",
   "metadata": {},
   "outputs": [],
   "source": [
    "# lets start to remove the digits in the ingredients col\n",
    "def remove_digits(s):\n",
    "    s = re.sub(r'[\\d]','',str(s))#replace digits with empty str\n",
    "    return s \n",
    "\n",
    "recipes_ingredients=recipes_ingredients.apply(remove_digits)"
   ]
  },
  {
   "cell_type": "code",
   "execution_count": 18,
   "id": "fa41723b",
   "metadata": {},
   "outputs": [
    {
     "data": {
      "text/plain": [
       "\"[' (. ounce) cans condensed cream of mushroom soup ADVERTISEMENT', ' ( ounce) package dry onion soup mix ADVERTISEMENT', ' / cups water ADVERTISEMENT', ' / pounds pot roast ADVERTISEMENT', 'ADVERTISEMENT']\""
      ]
     },
     "execution_count": 18,
     "metadata": {},
     "output_type": "execute_result"
    }
   ],
   "source": [
    "recipes_ingredients.iloc[1]"
   ]
  },
  {
   "cell_type": "code",
   "execution_count": 19,
   "id": "5328106d",
   "metadata": {},
   "outputs": [],
   "source": [
    "# Replace punctuations with a white space\n",
    "def remove_punctuations(p):\n",
    "    p = re.sub('[%s]' % re.escape(string.punctuation), ' ', str(p))\n",
    "    return p\n",
    "\n",
    "recipes_ingredients=recipes_ingredients.apply(remove_punctuations)"
   ]
  },
  {
   "cell_type": "code",
   "execution_count": 20,
   "id": "00fa3c80",
   "metadata": {},
   "outputs": [
    {
     "data": {
      "text/plain": [
       "'      ounce  cans condensed cream of mushroom soup ADVERTISEMENT       ounce  package dry onion soup mix ADVERTISEMENT       cups water ADVERTISEMENT       pounds pot roast ADVERTISEMENT    ADVERTISEMENT  '"
      ]
     },
     "execution_count": 20,
     "metadata": {},
     "output_type": "execute_result"
    }
   ],
   "source": [
    "recipes_ingredients.iloc[1]"
   ]
  },
  {
   "cell_type": "code",
   "execution_count": 21,
   "id": "df81b732",
   "metadata": {},
   "outputs": [],
   "source": [
    "# pay attention to the word ADVERTISEMENT shows up a lot so we will add it\n",
    "# to the english stopwords before we remove them from the ingredients"
   ]
  },
  {
   "cell_type": "code",
   "execution_count": 20,
   "id": "3d37050a",
   "metadata": {},
   "outputs": [
    {
     "ename": "LookupError",
     "evalue": "\n**********************************************************************\n  Resource \u001b[93mstopwords\u001b[0m not found.\n  Please use the NLTK Downloader to obtain the resource:\n\n  \u001b[31m>>> import nltk\n  >>> nltk.download('stopwords')\n  \u001b[0m\n  For more information see: https://www.nltk.org/data.html\n\n  Attempted to load \u001b[93mcorpora/stopwords\u001b[0m\n\n  Searched in:\n    - '/Users/alanoud/nltk_data'\n    - '/Users/alanoud/opt/anaconda3/nltk_data'\n    - '/Users/alanoud/opt/anaconda3/share/nltk_data'\n    - '/Users/alanoud/opt/anaconda3/lib/nltk_data'\n    - '/usr/share/nltk_data'\n    - '/usr/local/share/nltk_data'\n    - '/usr/lib/nltk_data'\n    - '/usr/local/lib/nltk_data'\n**********************************************************************\n",
     "output_type": "error",
     "traceback": [
      "\u001b[0;31m---------------------------------------------------------------------------\u001b[0m",
      "\u001b[0;31mLookupError\u001b[0m                               Traceback (most recent call last)",
      "\u001b[0;32m~/opt/anaconda3/lib/python3.8/site-packages/nltk/corpus/util.py\u001b[0m in \u001b[0;36m__load\u001b[0;34m(self)\u001b[0m\n\u001b[1;32m     82\u001b[0m                 \u001b[0;32mtry\u001b[0m\u001b[0;34m:\u001b[0m\u001b[0;34m\u001b[0m\u001b[0;34m\u001b[0m\u001b[0m\n\u001b[0;32m---> 83\u001b[0;31m                     \u001b[0mroot\u001b[0m \u001b[0;34m=\u001b[0m \u001b[0mnltk\u001b[0m\u001b[0;34m.\u001b[0m\u001b[0mdata\u001b[0m\u001b[0;34m.\u001b[0m\u001b[0mfind\u001b[0m\u001b[0;34m(\u001b[0m\u001b[0;34m\"{}/{}\"\u001b[0m\u001b[0;34m.\u001b[0m\u001b[0mformat\u001b[0m\u001b[0;34m(\u001b[0m\u001b[0mself\u001b[0m\u001b[0;34m.\u001b[0m\u001b[0msubdir\u001b[0m\u001b[0;34m,\u001b[0m \u001b[0mzip_name\u001b[0m\u001b[0;34m)\u001b[0m\u001b[0;34m)\u001b[0m\u001b[0;34m\u001b[0m\u001b[0;34m\u001b[0m\u001b[0m\n\u001b[0m\u001b[1;32m     84\u001b[0m                 \u001b[0;32mexcept\u001b[0m \u001b[0mLookupError\u001b[0m\u001b[0;34m:\u001b[0m\u001b[0;34m\u001b[0m\u001b[0;34m\u001b[0m\u001b[0m\n",
      "\u001b[0;32m~/opt/anaconda3/lib/python3.8/site-packages/nltk/data.py\u001b[0m in \u001b[0;36mfind\u001b[0;34m(resource_name, paths)\u001b[0m\n\u001b[1;32m    582\u001b[0m     \u001b[0mresource_not_found\u001b[0m \u001b[0;34m=\u001b[0m \u001b[0;34m\"\\n%s\\n%s\\n%s\\n\"\u001b[0m \u001b[0;34m%\u001b[0m \u001b[0;34m(\u001b[0m\u001b[0msep\u001b[0m\u001b[0;34m,\u001b[0m \u001b[0mmsg\u001b[0m\u001b[0;34m,\u001b[0m \u001b[0msep\u001b[0m\u001b[0;34m)\u001b[0m\u001b[0;34m\u001b[0m\u001b[0;34m\u001b[0m\u001b[0m\n\u001b[0;32m--> 583\u001b[0;31m     \u001b[0;32mraise\u001b[0m \u001b[0mLookupError\u001b[0m\u001b[0;34m(\u001b[0m\u001b[0mresource_not_found\u001b[0m\u001b[0;34m)\u001b[0m\u001b[0;34m\u001b[0m\u001b[0;34m\u001b[0m\u001b[0m\n\u001b[0m\u001b[1;32m    584\u001b[0m \u001b[0;34m\u001b[0m\u001b[0m\n",
      "\u001b[0;31mLookupError\u001b[0m: \n**********************************************************************\n  Resource \u001b[93mstopwords\u001b[0m not found.\n  Please use the NLTK Downloader to obtain the resource:\n\n  \u001b[31m>>> import nltk\n  >>> nltk.download('stopwords')\n  \u001b[0m\n  For more information see: https://www.nltk.org/data.html\n\n  Attempted to load \u001b[93mcorpora/stopwords.zip/stopwords/\u001b[0m\n\n  Searched in:\n    - '/Users/alanoud/nltk_data'\n    - '/Users/alanoud/opt/anaconda3/nltk_data'\n    - '/Users/alanoud/opt/anaconda3/share/nltk_data'\n    - '/Users/alanoud/opt/anaconda3/lib/nltk_data'\n    - '/usr/share/nltk_data'\n    - '/usr/local/share/nltk_data'\n    - '/usr/lib/nltk_data'\n    - '/usr/local/lib/nltk_data'\n**********************************************************************\n",
      "\nDuring handling of the above exception, another exception occurred:\n",
      "\u001b[0;31mLookupError\u001b[0m                               Traceback (most recent call last)",
      "\u001b[0;32m<ipython-input-20-9241d4df3c56>\u001b[0m in \u001b[0;36m<module>\u001b[0;34m\u001b[0m\n\u001b[0;32m----> 1\u001b[0;31m \u001b[0mset\u001b[0m\u001b[0;34m(\u001b[0m\u001b[0mstopwords\u001b[0m\u001b[0;34m.\u001b[0m\u001b[0mwords\u001b[0m\u001b[0;34m(\u001b[0m\u001b[0;34m'english'\u001b[0m\u001b[0;34m)\u001b[0m\u001b[0;34m)\u001b[0m\u001b[0;34m\u001b[0m\u001b[0;34m\u001b[0m\u001b[0m\n\u001b[0m",
      "\u001b[0;32m~/opt/anaconda3/lib/python3.8/site-packages/nltk/corpus/util.py\u001b[0m in \u001b[0;36m__getattr__\u001b[0;34m(self, attr)\u001b[0m\n\u001b[1;32m    118\u001b[0m             \u001b[0;32mraise\u001b[0m \u001b[0mAttributeError\u001b[0m\u001b[0;34m(\u001b[0m\u001b[0;34m\"LazyCorpusLoader object has no attribute '__bases__'\"\u001b[0m\u001b[0;34m)\u001b[0m\u001b[0;34m\u001b[0m\u001b[0;34m\u001b[0m\u001b[0m\n\u001b[1;32m    119\u001b[0m \u001b[0;34m\u001b[0m\u001b[0m\n\u001b[0;32m--> 120\u001b[0;31m         \u001b[0mself\u001b[0m\u001b[0;34m.\u001b[0m\u001b[0m__load\u001b[0m\u001b[0;34m(\u001b[0m\u001b[0;34m)\u001b[0m\u001b[0;34m\u001b[0m\u001b[0;34m\u001b[0m\u001b[0m\n\u001b[0m\u001b[1;32m    121\u001b[0m         \u001b[0;31m# This looks circular, but its not, since __load() changes our\u001b[0m\u001b[0;34m\u001b[0m\u001b[0;34m\u001b[0m\u001b[0;34m\u001b[0m\u001b[0m\n\u001b[1;32m    122\u001b[0m         \u001b[0;31m# __class__ to something new:\u001b[0m\u001b[0;34m\u001b[0m\u001b[0;34m\u001b[0m\u001b[0;34m\u001b[0m\u001b[0m\n",
      "\u001b[0;32m~/opt/anaconda3/lib/python3.8/site-packages/nltk/corpus/util.py\u001b[0m in \u001b[0;36m__load\u001b[0;34m(self)\u001b[0m\n\u001b[1;32m     83\u001b[0m                     \u001b[0mroot\u001b[0m \u001b[0;34m=\u001b[0m \u001b[0mnltk\u001b[0m\u001b[0;34m.\u001b[0m\u001b[0mdata\u001b[0m\u001b[0;34m.\u001b[0m\u001b[0mfind\u001b[0m\u001b[0;34m(\u001b[0m\u001b[0;34m\"{}/{}\"\u001b[0m\u001b[0;34m.\u001b[0m\u001b[0mformat\u001b[0m\u001b[0;34m(\u001b[0m\u001b[0mself\u001b[0m\u001b[0;34m.\u001b[0m\u001b[0msubdir\u001b[0m\u001b[0;34m,\u001b[0m \u001b[0mzip_name\u001b[0m\u001b[0;34m)\u001b[0m\u001b[0;34m)\u001b[0m\u001b[0;34m\u001b[0m\u001b[0;34m\u001b[0m\u001b[0m\n\u001b[1;32m     84\u001b[0m                 \u001b[0;32mexcept\u001b[0m \u001b[0mLookupError\u001b[0m\u001b[0;34m:\u001b[0m\u001b[0;34m\u001b[0m\u001b[0;34m\u001b[0m\u001b[0m\n\u001b[0;32m---> 85\u001b[0;31m                     \u001b[0;32mraise\u001b[0m \u001b[0me\u001b[0m\u001b[0;34m\u001b[0m\u001b[0;34m\u001b[0m\u001b[0m\n\u001b[0m\u001b[1;32m     86\u001b[0m \u001b[0;34m\u001b[0m\u001b[0m\n\u001b[1;32m     87\u001b[0m         \u001b[0;31m# Load the corpus.\u001b[0m\u001b[0;34m\u001b[0m\u001b[0;34m\u001b[0m\u001b[0;34m\u001b[0m\u001b[0m\n",
      "\u001b[0;32m~/opt/anaconda3/lib/python3.8/site-packages/nltk/corpus/util.py\u001b[0m in \u001b[0;36m__load\u001b[0;34m(self)\u001b[0m\n\u001b[1;32m     78\u001b[0m         \u001b[0;32melse\u001b[0m\u001b[0;34m:\u001b[0m\u001b[0;34m\u001b[0m\u001b[0;34m\u001b[0m\u001b[0m\n\u001b[1;32m     79\u001b[0m             \u001b[0;32mtry\u001b[0m\u001b[0;34m:\u001b[0m\u001b[0;34m\u001b[0m\u001b[0;34m\u001b[0m\u001b[0m\n\u001b[0;32m---> 80\u001b[0;31m                 \u001b[0mroot\u001b[0m \u001b[0;34m=\u001b[0m \u001b[0mnltk\u001b[0m\u001b[0;34m.\u001b[0m\u001b[0mdata\u001b[0m\u001b[0;34m.\u001b[0m\u001b[0mfind\u001b[0m\u001b[0;34m(\u001b[0m\u001b[0;34m\"{}/{}\"\u001b[0m\u001b[0;34m.\u001b[0m\u001b[0mformat\u001b[0m\u001b[0;34m(\u001b[0m\u001b[0mself\u001b[0m\u001b[0;34m.\u001b[0m\u001b[0msubdir\u001b[0m\u001b[0;34m,\u001b[0m \u001b[0mself\u001b[0m\u001b[0;34m.\u001b[0m\u001b[0m__name\u001b[0m\u001b[0;34m)\u001b[0m\u001b[0;34m)\u001b[0m\u001b[0;34m\u001b[0m\u001b[0;34m\u001b[0m\u001b[0m\n\u001b[0m\u001b[1;32m     81\u001b[0m             \u001b[0;32mexcept\u001b[0m \u001b[0mLookupError\u001b[0m \u001b[0;32mas\u001b[0m \u001b[0me\u001b[0m\u001b[0;34m:\u001b[0m\u001b[0;34m\u001b[0m\u001b[0;34m\u001b[0m\u001b[0m\n\u001b[1;32m     82\u001b[0m                 \u001b[0;32mtry\u001b[0m\u001b[0;34m:\u001b[0m\u001b[0;34m\u001b[0m\u001b[0;34m\u001b[0m\u001b[0m\n",
      "\u001b[0;32m~/opt/anaconda3/lib/python3.8/site-packages/nltk/data.py\u001b[0m in \u001b[0;36mfind\u001b[0;34m(resource_name, paths)\u001b[0m\n\u001b[1;32m    581\u001b[0m     \u001b[0msep\u001b[0m \u001b[0;34m=\u001b[0m \u001b[0;34m\"*\"\u001b[0m \u001b[0;34m*\u001b[0m \u001b[0;36m70\u001b[0m\u001b[0;34m\u001b[0m\u001b[0;34m\u001b[0m\u001b[0m\n\u001b[1;32m    582\u001b[0m     \u001b[0mresource_not_found\u001b[0m \u001b[0;34m=\u001b[0m \u001b[0;34m\"\\n%s\\n%s\\n%s\\n\"\u001b[0m \u001b[0;34m%\u001b[0m \u001b[0;34m(\u001b[0m\u001b[0msep\u001b[0m\u001b[0;34m,\u001b[0m \u001b[0mmsg\u001b[0m\u001b[0;34m,\u001b[0m \u001b[0msep\u001b[0m\u001b[0;34m)\u001b[0m\u001b[0;34m\u001b[0m\u001b[0;34m\u001b[0m\u001b[0m\n\u001b[0;32m--> 583\u001b[0;31m     \u001b[0;32mraise\u001b[0m \u001b[0mLookupError\u001b[0m\u001b[0;34m(\u001b[0m\u001b[0mresource_not_found\u001b[0m\u001b[0;34m)\u001b[0m\u001b[0;34m\u001b[0m\u001b[0;34m\u001b[0m\u001b[0m\n\u001b[0m\u001b[1;32m    584\u001b[0m \u001b[0;34m\u001b[0m\u001b[0m\n\u001b[1;32m    585\u001b[0m \u001b[0;34m\u001b[0m\u001b[0m\n",
      "\u001b[0;31mLookupError\u001b[0m: \n**********************************************************************\n  Resource \u001b[93mstopwords\u001b[0m not found.\n  Please use the NLTK Downloader to obtain the resource:\n\n  \u001b[31m>>> import nltk\n  >>> nltk.download('stopwords')\n  \u001b[0m\n  For more information see: https://www.nltk.org/data.html\n\n  Attempted to load \u001b[93mcorpora/stopwords\u001b[0m\n\n  Searched in:\n    - '/Users/alanoud/nltk_data'\n    - '/Users/alanoud/opt/anaconda3/nltk_data'\n    - '/Users/alanoud/opt/anaconda3/share/nltk_data'\n    - '/Users/alanoud/opt/anaconda3/lib/nltk_data'\n    - '/usr/share/nltk_data'\n    - '/usr/local/share/nltk_data'\n    - '/usr/lib/nltk_data'\n    - '/usr/local/lib/nltk_data'\n**********************************************************************\n"
     ]
    }
   ],
   "source": [
    "set(stopwords.words('english'))"
   ]
  },
  {
   "cell_type": "code",
   "execution_count": 23,
   "id": "bad2dd68",
   "metadata": {},
   "outputs": [
    {
     "data": {
      "text/plain": [
       "179"
      ]
     },
     "execution_count": 23,
     "metadata": {},
     "output_type": "execute_result"
    }
   ],
   "source": [
    "english_stopwords = stopwords.words('english')\n",
    "len(english_stopwords)"
   ]
  },
  {
   "cell_type": "code",
   "execution_count": 24,
   "id": "93137f3c",
   "metadata": {},
   "outputs": [
    {
     "name": "stdout",
     "output_type": "stream",
     "text": [
      "181\n"
     ]
    }
   ],
   "source": [
    "english_stopwords.extend(['ADVERTISEMENT', 'advertisement']) \n",
    "print(len(english_stopwords))"
   ]
  },
  {
   "cell_type": "code",
   "execution_count": 25,
   "id": "4a63c116",
   "metadata": {},
   "outputs": [
    {
     "data": {
      "text/plain": [
       "24"
      ]
     },
     "execution_count": 25,
     "metadata": {},
     "output_type": "execute_result"
    }
   ],
   "source": [
    "# we found these recipe_stopwords online and we use it\n",
    "recipe_stopwords= [\"fresh\",\"chopped\",\"large\",\"all-purpose\",\"grated\",\"freshly\",\"crushed\",\"minced\",\"skinless\"\n",
    "           \"sodium\",\"low\",\"diced\",\"unsalted\",\"coarse\",\"low-fat\",\"medium\",\"powdered\",\"finely\",\"fine\",\n",
    "           \"pitted\",\"plain\",\"low-fat\",\"full-fat\",\"nonfat\",\"fat-free\"]\n",
    "len(recipe_stopwords)\n"
   ]
  },
  {
   "cell_type": "code",
   "execution_count": 26,
   "id": "86c69ffc",
   "metadata": {},
   "outputs": [
    {
     "name": "stdout",
     "output_type": "stream",
     "text": [
      "205\n"
     ]
    }
   ],
   "source": [
    "our_stopwords = english_stopwords + recipe_stopwords\n",
    "print(len(our_stopwords))"
   ]
  },
  {
   "cell_type": "code",
   "execution_count": 27,
   "id": "20e33537",
   "metadata": {},
   "outputs": [
    {
     "data": {
      "text/plain": [
       "['i',\n",
       " 'me',\n",
       " 'my',\n",
       " 'myself',\n",
       " 'we',\n",
       " 'our',\n",
       " 'ours',\n",
       " 'ourselves',\n",
       " 'you',\n",
       " \"you're\",\n",
       " \"you've\",\n",
       " \"you'll\",\n",
       " \"you'd\",\n",
       " 'your',\n",
       " 'yours',\n",
       " 'yourself',\n",
       " 'yourselves',\n",
       " 'he',\n",
       " 'him',\n",
       " 'his',\n",
       " 'himself',\n",
       " 'she',\n",
       " \"she's\",\n",
       " 'her',\n",
       " 'hers',\n",
       " 'herself',\n",
       " 'it',\n",
       " \"it's\",\n",
       " 'its',\n",
       " 'itself',\n",
       " 'they',\n",
       " 'them',\n",
       " 'their',\n",
       " 'theirs',\n",
       " 'themselves',\n",
       " 'what',\n",
       " 'which',\n",
       " 'who',\n",
       " 'whom',\n",
       " 'this',\n",
       " 'that',\n",
       " \"that'll\",\n",
       " 'these',\n",
       " 'those',\n",
       " 'am',\n",
       " 'is',\n",
       " 'are',\n",
       " 'was',\n",
       " 'were',\n",
       " 'be',\n",
       " 'been',\n",
       " 'being',\n",
       " 'have',\n",
       " 'has',\n",
       " 'had',\n",
       " 'having',\n",
       " 'do',\n",
       " 'does',\n",
       " 'did',\n",
       " 'doing',\n",
       " 'a',\n",
       " 'an',\n",
       " 'the',\n",
       " 'and',\n",
       " 'but',\n",
       " 'if',\n",
       " 'or',\n",
       " 'because',\n",
       " 'as',\n",
       " 'until',\n",
       " 'while',\n",
       " 'of',\n",
       " 'at',\n",
       " 'by',\n",
       " 'for',\n",
       " 'with',\n",
       " 'about',\n",
       " 'against',\n",
       " 'between',\n",
       " 'into',\n",
       " 'through',\n",
       " 'during',\n",
       " 'before',\n",
       " 'after',\n",
       " 'above',\n",
       " 'below',\n",
       " 'to',\n",
       " 'from',\n",
       " 'up',\n",
       " 'down',\n",
       " 'in',\n",
       " 'out',\n",
       " 'on',\n",
       " 'off',\n",
       " 'over',\n",
       " 'under',\n",
       " 'again',\n",
       " 'further',\n",
       " 'then',\n",
       " 'once',\n",
       " 'here',\n",
       " 'there',\n",
       " 'when',\n",
       " 'where',\n",
       " 'why',\n",
       " 'how',\n",
       " 'all',\n",
       " 'any',\n",
       " 'both',\n",
       " 'each',\n",
       " 'few',\n",
       " 'more',\n",
       " 'most',\n",
       " 'other',\n",
       " 'some',\n",
       " 'such',\n",
       " 'no',\n",
       " 'nor',\n",
       " 'not',\n",
       " 'only',\n",
       " 'own',\n",
       " 'same',\n",
       " 'so',\n",
       " 'than',\n",
       " 'too',\n",
       " 'very',\n",
       " 's',\n",
       " 't',\n",
       " 'can',\n",
       " 'will',\n",
       " 'just',\n",
       " 'don',\n",
       " \"don't\",\n",
       " 'should',\n",
       " \"should've\",\n",
       " 'now',\n",
       " 'd',\n",
       " 'll',\n",
       " 'm',\n",
       " 'o',\n",
       " 're',\n",
       " 've',\n",
       " 'y',\n",
       " 'ain',\n",
       " 'aren',\n",
       " \"aren't\",\n",
       " 'couldn',\n",
       " \"couldn't\",\n",
       " 'didn',\n",
       " \"didn't\",\n",
       " 'doesn',\n",
       " \"doesn't\",\n",
       " 'hadn',\n",
       " \"hadn't\",\n",
       " 'hasn',\n",
       " \"hasn't\",\n",
       " 'haven',\n",
       " \"haven't\",\n",
       " 'isn',\n",
       " \"isn't\",\n",
       " 'ma',\n",
       " 'mightn',\n",
       " \"mightn't\",\n",
       " 'mustn',\n",
       " \"mustn't\",\n",
       " 'needn',\n",
       " \"needn't\",\n",
       " 'shan',\n",
       " \"shan't\",\n",
       " 'shouldn',\n",
       " \"shouldn't\",\n",
       " 'wasn',\n",
       " \"wasn't\",\n",
       " 'weren',\n",
       " \"weren't\",\n",
       " 'won',\n",
       " \"won't\",\n",
       " 'wouldn',\n",
       " \"wouldn't\",\n",
       " 'ADVERTISEMENT',\n",
       " 'advertisement',\n",
       " 'fresh',\n",
       " 'chopped',\n",
       " 'large',\n",
       " 'all-purpose',\n",
       " 'grated',\n",
       " 'freshly',\n",
       " 'crushed',\n",
       " 'minced',\n",
       " 'skinlesssodium',\n",
       " 'low',\n",
       " 'diced',\n",
       " 'unsalted',\n",
       " 'coarse',\n",
       " 'low-fat',\n",
       " 'medium',\n",
       " 'powdered',\n",
       " 'finely',\n",
       " 'fine',\n",
       " 'pitted',\n",
       " 'plain',\n",
       " 'low-fat',\n",
       " 'full-fat',\n",
       " 'nonfat',\n",
       " 'fat-free']"
      ]
     },
     "execution_count": 27,
     "metadata": {},
     "output_type": "execute_result"
    }
   ],
   "source": [
    "our_stopwords"
   ]
  },
  {
   "cell_type": "code",
   "execution_count": 28,
   "id": "c3d4a22f",
   "metadata": {},
   "outputs": [
    {
     "name": "stderr",
     "output_type": "stream",
     "text": [
      "/opt/anaconda3/lib/python3.8/site-packages/sklearn/feature_extraction/text.py:388: UserWarning: Your stop_words may be inconsistent with your preprocessing. Tokenizing the stop words generated tokens ['fat', 'free', 'full', 'purpose'] not in stop_words.\n",
      "  warnings.warn('Your stop_words may be inconsistent with '\n"
     ]
    },
    {
     "name": "stdout",
     "output_type": "stream",
     "text": [
      "['abalone', 'absinthe', 'absolut', 'abuelita', 'ac', 'acado', 'acai', 'accent', 'accents', 'accompaniments', 'according', 'achiote', 'acid', 'acidity', 'acids', 'acini', 'acorn', 'across', 'act', 'active', 'activedry', 'adams', 'add', 'added', 'addition', 'additional', 'additions', 'adjust', 'adjustable', 'adobo', 'adzuki', 'aerated', 'african', 'agar', 'agave', 'age', 'aged', 'ahead', 'ahi', 'aid', 'aidells', 'aioli', 'air', 'airheads', 'aisle', 'aji', 'ajicitos', 'ajies', 'al', 'alaska', 'alaskan', 'albacore', 'alcaparrado', 'alcohol', 'alder', 'ale', 'aleppo', 'alessi', 'alexia', 'alfalfa', 'alfredo', 'alligator', 'allspice', 'allwhites', 'almond', 'almondmilk', 'almonds', 'almost', 'aloe', 'aloha', 'along', 'alouette', 'alphabet', 'already', 'alternative', 'alum', 'aluminum', 'amaranth', 'amaretti', 'amaretto', 'amarillo', 'amaro', 'amaz', 'amber', 'amberjack', 'amchoor', 'amchur', 'amer', 'american', 'amino', 'aminos', 'amish', 'ammonia', 'amontillado', 'amount', 'amsterdam', 'anaheim', 'anapakaya', 'ancho', 'anchovies', 'anchovy', 'ancient', 'andes', 'andouille', 'andre', 'anejo', 'angel', 'angelica', 'angle', 'angostura', 'angus', 'animal', 'anise', 'anisette', 'anjou', 'annatto', 'annie', 'another', 'antelope', 'apart', 'aperitif', 'aperol', 'apple', 'applejack', 'apples', 'applesauce', 'appleton', 'applewood', 'approx', 'apricot', 'apricots', 'apriplums', 'aquafaba', 'aquavit', 'arame', 'arbol', 'arborio', 'archer', 'arctic', 'arepas', 'argentinian', 'argo', 'arils', 'arm', 'armagnac', 'aromatic', 'arrowhead', 'arrowroot', 'arthur', 'artichoke', 'artichokes', 'artificial', 'artisan', 'artisanal', 'arugula', 'asada', 'asadero', 'asafoetida', 'ascorbic', 'asiago', 'asian', 'aside', 'asparagus', 'aspartame', 'assemble', 'assembly', 'assi', 'assorted', 'assortment', 'asti', 'asturian', 'astwix', 'aswad', 'atar', 'athenos', 'atlantic', 'attached', 'au', 'aunt', 'authentic', 'autry', 'autumn', 'available', 'avgolemono', 'aviation', 'avocado', 'avocados', 'away', 'aylmer', 'azafran', 'añejo', 'babka', 'baby', 'bacardi', 'back', 'backbone', 'backdraft', 'backs', 'backstrap', 'bacon', 'baconnaise', 'badi', 'badia', 'bag', 'bagel', 'bagels', 'bagged', 'bagoong', 'bags', 'baguette', 'baguettes', 'baharat', 'bai', 'bailey', 'baileys', 'bake', 'baked', 'baker', 'bakers', 'bakery', 'bakeware', 'baking', 'balance', 'balanced', 'ball', 'baller', 'balls', 'balm', 'balsamic', 'baltimore', 'bam', 'bamboo', 'banana', 'bananas', 'bands', 'bangus', 'bannock', 'banquet', 'bar', 'barbados', 'barbecue', 'barbecued', 'barbeque', 'barbequed', 'barberries', 'bare', 'barefoot', 'barely', 'barilla', 'bark', 'barley', 'barolo', 'barramundi', 'barrel', 'bars', 'bartlett', 'base', 'baseball', 'based', 'basic', 'basics', 'basil', 'basket', 'baskets', 'basmati', 'bass', 'baste', 'basting', 'batavia', 'batter', 'bavarian', 'bay', 'bayou', 'bbq', 'beam', 'bean', 'beans', 'bear', 'bearnaise', 'bears', 'beaten', 'beaters', 'beau', 'beauty', 'becel', 'bechamel', 'bee', 'beech', 'beecher', 'beef', 'beefsteak', 'beefy', 'beer', 'beers', 'beet', 'beets', 'belacan', 'belachan', 'belgian', 'belgioioso', 'believe', 'belizean', 'bell', 'bella', 'bellas', 'belly', 'belts', 'beluga', 'ben', 'benedict', 'benedictine', 'bengal', 'beni', 'berbere', 'bermuda', 'berries', 'berry', 'bertolli', 'besan', 'best', 'better', 'betty', 'beurre', 'beverage', 'beverages', 'bhaji', 'bias', 'bibb', 'biber', 'big', 'biga', 'bilbao', 'bing', 'bird', 'birds', 'biryani', 'biscoff', 'biscotti', 'biscuit', 'biscuits', 'bison', 'bisque', 'bisquick', 'bistro', 'bit', 'bite', 'bites', 'bits', 'bitter', 'bittermens', 'bitters', 'bittersweet', 'black', 'blackberries', 'blackberry', 'blackcurrant', 'blackened', 'blackening', 'blackeye', 'blackstrap', 'blackwell', 'blade', 'blanc', 'blanca', 'blanched', 'blanco', 'blank', 'blast', 'bleached', 'blend', 'blended', 'blender', 'blending', 'blends', 'bleu', 'blintzes', 'bliss', 'block', 'blocks', 'blood', 'bloody', 'blooming', 'blossom', 'blossoms', 'blue', 'blueberries', 'blueberry', 'bluefish', 'boar', 'board', 'boards', 'bob', 'boboli', 'boca', 'bocconcini', 'bock', 'bodied', 'body', 'boil', 'boiled', 'boiler', 'boiling', 'bok', 'bold', 'bolillo', 'bologna', 'bolognese', 'bonal', 'bone', 'boned', 'boneless', 'bones', 'bonito', 'bonnet', 'boost', 'borden', 'borlotti', 'bosc', 'boston', 'bottle', 'bottled', 'bottles', 'bottom', 'bottomed', 'bottoms', 'boudin', 'bought', 'bouillon', 'bouqet', 'bouquet', 'bourbon', 'boursin', 'bow', 'bowl', 'bowls', 'box', 'boxed', 'boxes', 'boysenberries', 'boysenberry', 'brach', 'braeburn', 'bragg', 'brain', 'braising', 'bran', 'brand', 'branded', 'brands', 'brandy', 'branston', 'brat', 'bratwurst', 'bratwursts', 'braunschweiger', 'brazil', 'brazilian', 'bread', 'breadcrumb', 'breadcrumbs', 'breaded', 'breader', 'breading', 'breads', 'breadstick', 'breadsticks', 'breakfast', 'breakstone', 'bream', 'breast', 'breasts', 'breeze', 'brew', 'brewed', 'brewers', 'briannas', 'brick', 'brickle', 'bridgford', 'brie', 'briefly', 'brien', 'brine', 'brined', 'brinjal', 'brioche', 'briquets', 'briquettes', 'brisket', 'briskets', 'brittle', 'broad', 'broccoli', 'broccolini', 'broil', 'broiler', 'broken', 'brooks', 'broth', 'brothers', 'brown', 'browned', 'brownie', 'brownies', 'browning', 'browns', 'bruce', 'bruised', 'brujo', 'brush', 'brushed', 'brushing', 'brussels', 'brut', 'bubblegum', 'bucatini', 'buckwheat', 'bud', 'buddig', 'buds', 'budweiser', 'buena', 'buffalo', 'bugles', 'buitoni', 'bulb', 'bulbs', 'bulgar', 'bulgarian', 'bulgur', 'bulk', 'bull', 'bulleit', 'bumble', 'bun', 'bunch', 'bunches', 'bundled', 'bunny', 'buns', 'burdock', 'burger', 'burgers', 'burgundy', 'burmese', 'burnett', 'burrata', 'burrito', 'burritos', 'bush', 'butcher', 'butt', 'butter', 'butterball', 'buttercream', 'buttercrunch', 'buttercup', 'buttered', 'butterfinger', 'butterfish', 'butterflied', 'butterfly', 'butterhead', 'buttermilk', 'butternut', 'butterscotch', 'buttershots', 'butterworth', 'buttery', 'button', 'buttons', 'buy', 'béarnaise', 'cabbage', 'cabernet', 'cabot', 'cabra', 'cabrales', 'cacao', 'cachaca', 'cachere', 'cacho', 'cactus', 'cadbury', 'caesar', 'caffeinated', 'caffeine', 'cajeta', 'cajon', 'cajun', 'cake', 'cakes', 'calabash', 'calabaza', 'calabrian', 'calamansi', 'calamari', 'calamata', 'calcium', 'calendula', 'calf', 'california', 'calimyrna', 'callaloo', 'callebaut', 'callender', 'calorie', 'calrose', 'calumet', 'calvados', 'calves', 'camembert', 'campanelle', 'campari', 'campbell', 'camphor', 'canada', 'canadian', 'candied', 'candies', 'candiquick', 'candlenuts', 'candy', 'cane', 'canes', 'canilla', 'canister', 'canned', 'cannellini', 'cannelloni', 'canning', 'cannoli', 'canola', 'cans', 'cantaloupe', 'cantaloupes', 'canton', 'cantonese', 'cap', 'capacola', 'capelin', 'capellini', 'caper', 'capers', 'cappuccino', 'caps', 'captain', 'capuccino', 'cara', 'caramel', 'caramelized', 'caramels', 'carapelli', 'caraway', 'carb', 'carbohydrate', 'carbonated', 'carbquik', 'carcass', 'carcasses', 'cardamom', 'cardboard', 'caribbean', 'carl', 'carlo', 'carnaroli', 'carnation', 'carnations', 'carne', 'carob', 'carolina', 'carp', 'carpaccio', 'carrageen', 'carroll', 'carrot', 'carrots', 'cartilage', 'carton', 'cartons', 'carving', 'casbah', 'cascadian', 'casera', 'cashew', 'cashews', 'casing', 'casings', 'cassava', 'casserole', 'cassia', 'cassis', 'castelvetrano', 'caster', 'castor', 'cat', 'catalina', 'catelli', 'catfish', 'cattlemen', 'caul', 'cauldron', 'cauliflower', 'cavatapi', 'cavatappi', 'cavatelli', 'cavender', 'caviar', 'cayenne', 'cecco', 'cedar', 'celeriac', 'celery', 'cellentani', 'cellophane', 'celtic', 'cent', 'center', 'centers', 'cento', 'century', 'cereal', 'certified', 'certo', 'ceylon', 'chablis', 'chachere', 'chai', 'chain', 'challah', 'chambord', 'champagne', 'chana', 'chanco', 'chang', 'channa', 'chantaboon', 'chanterelle', 'chanterelles', 'chapssal', 'char', 'charcoal', 'chard', 'chardonnay', 'charred', 'chayote', 'chayotes', 'cheap', 'cheddar', 'cheddarwurst', 'chee', 'cheek', 'cheeks', 'cheerios', 'cheese', 'cheesecake', 'cheesecloth', 'cheeses', 'cheesy', 'cheetos', 'cheez', 'chef', 'chenel', 'chenin', 'cheong', 'chermoula', 'cherokee', 'cherries', 'cherry', 'cherrystone', 'chervil', 'chestnut', 'chestnuts', 'chevon', 'chevre', 'chewy', 'chex', 'chi', 'chia', 'chianti', 'chicago', 'chick', 'chicken', 'chickens', 'chickpea', 'chickpeas', 'chicks', 'chicory', 'chiffonade', 'chihuahua', 'chik', 'chile', 'chilean', 'chiles', 'chili', 'chilies', 'chilis', 'chilled', 'chilli', 'chimichurri', 'chinese', 'chip', 'chipits', 'chipolata', 'chipolte', 'chipotle', 'chipotles', 'chipped', 'chips', 'chitterlings', 'chive', 'chives', 'chlies', 'chlorella', 'chloride', 'chlorinated', 'chobani', 'chocolate', 'chocolates', 'choice', 'cholesterol', 'cholula', 'chong', 'chop', 'chops', 'chorize', 'chorizo', 'chourico', 'choux', 'chow', 'chowder', 'choy', 'choya', 'chubritsa', 'chuck', 'chunk', 'chunked', 'chunks', 'chunky', 'churned', 'churros', 'chutney', 'ciabatta', 'cider', 'cigars', 'cilantro', 'ciliegine', 'cinderella', 'cindy', 'cinghiale', 'cinnamon', 'cipollini', 'circles', 'circular', 'ciroc', 'citric', 'citron', 'citrus', 'city', 'clam', 'clamato', 'clams', 'clamshell', 'clarified', 'clasico', 'classic', 'classicmac', 'classico', 'classics', 'claussen', 'claw', 'claws', 'clean', 'cleaned', 'clear', 'clearjel', 'clementine', 'clementines', 'cling', 'clingstone', 'cloud', 'clove', 'clover', 'cloves', 'clovis', 'club', 'clusters', 'cm', 'co', 'coalho', 'coarsely', 'coarsley', 'coated', 'coating', 'coatings', 'cob', 'cobbler', 'cobia', 'cobs', 'coca', 'cocina', 'cockatiels', 'cocktail', 'cocktails', 'coco', 'cocoa', 'coconut', 'coconutmilk', 'coconuts', 'cocowhip', 'cod', 'coffee', 'coffeecake', 'cognac', 'coho', 'coin', 'coins', 'cointreau', 'coke', 'cola', 'colaciones', 'colada', 'colby', 'colcannon', 'cold', 'cole', 'coleman', 'coleslaw', 'collard', 'college', 'collins', 'color', 'colored', 'coloring', 'colors', 'colossal', 'colour', 'colouring', 'combination', 'combinbation', 'combine', 'combined', 'comfort', 'comice', 'completa', 'complete', 'completely', 'components', 'compote', 'compound', 'compressed', 'comte', 'comté', 'con', 'concentrate', 'concentrated', 'concern', 'conch', 'conchiglie', 'concord', 'condensed', 'condiment', 'condiments', 'cone', 'conecuh', 'cones', 'confection', 'confectioner', 'confectioners', 'confectionery', 'confetti', 'confit', 'consistency', 'consomme', 'construction', 'contadina', 'container', 'containers', 'conversation', 'converted', 'cook', 'cooked', 'cooker', 'cookers', 'cookie', 'cookies', 'cooking', 'cooks', 'cool', 'cooled', 'cooler', 'coors', 'coppa', 'corazon', 'core', 'cored', 'cores', 'coriander', 'corkscrew', 'corn', 'cornbread', 'corned', 'cornflake', 'cornflakes', 'cornhusks', 'cornichons', 'cornish', 'cornmeal', 'cornnuts', 'cornstarch', 'corona', 'cortland', 'cosmopolitan', 'costco', 'costeno', 'cotechino', 'cotes', 'cotija', 'cottage', 'cottas', 'cotto', 'cotton', 'coulis', 'count', 'country', 'county', 'courgette', 'courgettes', 'course', 'couscous', 'cove', 'cover', 'covered', 'cow', 'cowpeas', 'cox', 'coyote', 'crab', 'crabapples', 'crabmeat', 'crabs', 'cracked', 'cracker', 'crackers', 'cracklin', 'cracklings', 'craft', 'crafts', 'craisins', 'cran', 'cranberries', 'cranberry', 'crawfish', 'crazy', 'cream', 'creamed', 'creamer', 'creamy', 'creating', 'creations', 'crema', 'creme', 'cremini', 'crenshaw', 'creole', 'crepe', 'crepes', 'crescent', 'crescents', 'cricket', 'crimini', 'crimped', 'criollo', 'crisco', 'crisp', 'crispix', 'crisply', 'crisps', 'crispy', 'crock', 'crocker', 'croissants', 'croix', 'crookneck', 'croquettes', 'cross', 'crosse', 'crossways', 'crosswise', 'crostini', 'croutons', 'crowder', 'crown', 'crowns', 'crullers', 'crumb', 'crumbed', 'crumble', 'crumbled', 'crumbles', 'crumbs', 'crumpet', 'crunch', 'crunchies', 'crunchy', 'crush', 'crust', 'crusted', 'crustless', 'crusts', 'crusty', 'cruz', 'cruzan', 'crystal', 'crystallized', 'crystals', 'crème', 'cuban', 'cubanella', 'cubanelle', 'cube', 'cubed', 'cubes', 'cucumber', 'cucumbers', 'cuervo', 'cuisine', 'cukes', 'culantro', 'culinary', 'culture', 'cultured', 'cultures', 'cumin', 'cup', 'cupcake', 'cupcakes', 'cups', 'curacao', 'curd', 'curds', 'cure', 'cured', 'curing', 'curl', 'curls', 'curly', 'currant', 'currants', 'curried', 'curry', 'cushaw', 'custard', 'cut', 'cutlets', 'cuts', 'cutter', 'cutters', 'cutting', 'daal', 'daechu', 'daikon', 'daiquiri', 'dairy', 'daisy', 'daiya', 'dal', 'dalchini', 'dale', 'dam', 'damn', 'dandelion', 'dang', 'dangmyun', 'daniel', 'danish', 'dannon', 'darjeeling', 'dark', 'darker', 'dash', 'dashes', 'dashi', 'date', 'dates', 'dave', 'day', 'de', 'dean', 'debearded', 'deboned', 'decaf', 'decaffeinated', 'decals', 'decorate', 'decorating', 'decoration', 'decorations', 'decorative', 'decorator', 'decors', 'deep', 'deer', 'defrost', 'defrosted', 'deglaze', 'degree', 'degrees', 'dehydrated', 'dei', 'dekuyper', 'del', 'deli', 'delicata', 'delicious', 'delight', 'delightfulls', 'delmonico', 'deluxe', 'demerara', 'demi', 'demiglace', 'dense', 'dente', 'depending', 'deseeded', 'design', 'desilked', 'desired', 'dessert', 'deveined', 'devil', 'deviled', 'dew', 'dextrose', 'dhal', 'di', 'diagonal', 'diagonally', 'diameter', 'diamond', 'diavolo', 'dice', 'dickinson', 'diet', 'dietz', 'different', 'digestive', 'digiorno', 'dijon', 'dill', 'dinner', 'dino', 'dinosaur', 'dip', 'dipped', 'dipping', 'dips', 'directed', 'directions', 'dirt', 'dirty', 'disaronno', 'discard', 'discarded', 'discarding', 'discs', 'dish', 'disks', 'disney', 'disposable', 'dissolved', 'distilled', 'ditalini', 'divided', 'djan', 'dodge', 'doenjang', 'dog', 'dogs', 'dolce', 'dole', 'domestic', 'dominoes', 'done', 'dong', 'donut', 'donuts', 'doone', 'door', 'doritos', 'doubanjiang', 'double', 'dough', 'doughnut', 'doughnuts', 'dover', 'dr', 'dragees', 'dragon', 'drain', 'drained', 'drake', 'dramatically', 'drambuie', 'draught', 'draw', 'dream', 'dreamfields', 'dredging', 'dressed', 'dressing', 'dreyer', 'dried', 'drink', 'drippings', 'drizzle', 'drizzling', 'drop', 'drops', 'drum', 'drumettes', 'drummettes', 'drums', 'drumstick', 'drumsticks', 'dry', 'drying', 'du', 'dubliner', 'duck', 'duckling', 'ducklings', 'duct', 'duke', 'dukkah', 'dulce', 'dulces', 'dulse', 'dumpling', 'dumplings', 'duncan', 'dungeness', 'dunya', 'duoz', 'durian', 'durkee', 'durum', 'dusseldorf', 'dust', 'dusting', 'dutch', 'duty', 'dye', 'dyed', 'eagle', 'ear', 'earl', 'early', 'ears', 'earth', 'earthbound', 'easily', 'east', 'easter', 'eastern', 'easy', 'eat', 'eating', 'eckrich', 'eclair', 'edam', 'edamame', 'edge', 'edges', 'edible', 'editor', 'edy', 'eel', 'eg', 'egg', 'eggland', 'eggnog', 'eggo', 'eggplant', 'eggplants', 'eggs', 'egyptian', 'eight', 'eighths', 'either', 'el', 'elaichi', 'elberta', 'elbow', 'elbows', 'elderberries', 'elderflower', 'elephant', 'elk', 'else', 'embasa', 'emerald', 'emeril', 'emmental', 'emmentaler', 'emmenthaler', 'empty', 'emulsion', 'enchilada', 'enchilado', 'encona', 'end', 'endive', 'endives', 'endless', 'ends', 'ener', 'energy', 'england', 'english', 'enhancer', 'enjoy', 'enoki', 'enough', 'enriched', 'entenmann', 'envelope', 'envelopes', 'epazote', 'equal', 'equivalent', 'erythritol', 'escargots', 'escarole', 'especial', 'espelette', 'espresso', 'essence', 'essentials', 'estate', 'etc', 'ethiopian', 'europe', 'european', 'evan', 'evans', 'evaporated', 'even', 'evenly', 'everclear', 'everglades', 'everyday', 'everything', 'ew', 'except', 'excess', 'exclude', 'excluding', 'express', 'extra', 'extract', 'extracted', 'eye', 'eyeballs', 'eyed', 'eyes', 'ez', 'fabada', 'face', 'factory', 'fage', 'fah', 'fajita', 'fajitas', 'falafel', 'fall', 'family', 'famous', 'fancy', 'farang', 'farfalle', 'farfel', 'farina', 'farl', 'farm', 'farmer', 'farmers', 'farmhouse', 'farmland', 'farms', 'farro', 'fashioned', 'fast', 'fat', 'fatback', 'fattier', 'fatty', 'fava', 'favorite', 'fe', 'fed', 'fee', 'feet', 'female', 'fennel', 'fenugreek', 'fermented', 'ferns', 'feta', 'fettuccine', 'fettuccini', 'fettucine', 'fiber', 'fiddlehead', 'fiddleheads', 'fideo', 'field', 'fiesta', 'fifths', 'fig', 'figs', 'filberts', 'file', 'filet', 'filets', 'filing', 'filipino', 'fill', 'filled', 'fillet', 'fillets', 'filling', 'fillings', 'filter', 'filtered', 'filters', 'fin', 'final', 'fines', 'finger', 'fingerling', 'fingers', 'finish', 'finishing', 'finlandia', 'fino', 'fiori', 'fire', 'fireball', 'fireweed', 'firm', 'firmly', 'first', 'fish', 'fit', 'five', 'fixings', 'fizz', 'fizzy', 'fl', 'flagship', 'flake', 'flaked', 'flakes', 'flaky', 'flan', 'flank', 'flanken', 'flap', 'flared', 'flat', 'flatbread', 'flatbreads', 'flatout', 'flattened', 'flautas', 'flavor', 'flavored', 'flavoring', 'flavorless', 'flavors', 'flavoured', 'flax', 'flaxseed', 'fleischmann', 'flesh', 'fleshed', 'fleur', 'flexible', 'florentine', 'floret', 'florets', 'florida', 'floss', 'flounder', 'flour', 'flourless', 'flower', 'flowerets', 'flowers', 'fluff', 'fluffy', 'fluid', 'fly', 'foam', 'foamy', 'focaccia', 'foglie', 'foie', 'foil', 'folded', 'folgers', 'follow', 'follows', 'fond', 'fondant', 'fondue', 'fong', 'fontina', 'food', 'foods', 'footnote', 'forbidden', 'fordhook', 'forest', 'fork', 'form', 'formed', 'formula', 'fortified', 'fortress', 'foster', 'found', 'four', 'fourths', 'foxtrot', 'fragments', 'fragrant', 'fraiche', 'frais', 'framboise', 'frangelico', 'frangipane', 'frank', 'frankfurters', 'franks', 'fratelli', 'fred', 'free', 'freekeh', 'freestone', 'freeze', 'freezer', 'french', 'frenched', 'fresca', 'fresco', 'fresno', 'friday', 'fried', 'friendship', 'fries', 'frills', 'frisee', 'fritos', 'fritter', 'fritters', 'frog', 'fromage', 'fronds', 'frontera', 'froot', 'frosted', 'frosting', 'frothy', 'frozen', 'fructose', 'fruit', 'fruitcake', 'fruited', 'fruits', 'fruity', 'fry', 'fryer', 'frying', 'frymix', 'fudge', 'fuggles', 'fugi', 'fuji', 'full', 'fully', 'fulton', 'fumi', 'fun', 'funfetti', 'fungus', 'furikake', 'fusili', 'fusilli', 'fuyu', 'gai', 'gala', 'galangal', 'galletas', 'galliano', 'gallo', 'gallon', 'gallons', 'game', 'ganache', 'gandules', 'garae', 'garam', 'garbanzo', 'garbanzos', 'garden', 'gardenburger', 'gari', 'garland', 'garlic', 'garni', 'garnier', 'garnish', 'garnishes', 'garnishing', 'gastrique', 'gatorade', 'gay', 'gebhardt', 'gel', 'gelatin', 'gelato', 'gels', 'gemelli', 'general', 'generous', 'gennaro', 'genoa', 'genovese', 'gentiane', 'gently', 'germ', 'germain', 'german', 'germinated', 'gewurztraminer', 'gf', 'ghee', 'gherkin', 'gherkins', 'ghirardelli', 'ghost', 'ghosts', 'gianduja', 'giant', 'giardiniera', 'giblets', 'gills', 'gimme', 'gin', 'ginger', 'gingerade', 'gingerbread', 'gingered', 'gingerroot', 'gingersnap', 'gingersnaps', 'ginseng', 'girard', 'girl', 'gizzards', 'glace', 'glaces', 'glass', 'glasses', 'glaze', 'glazed', 'glazing', 'glen', 'glitter', 'globe', 'gloves', 'glucose', 'glue', 'glutamate', 'gluten', 'glutino', 'glutinous', 'glycerin', 'gnocchi', 'go', 'goat', 'gochugaru', 'gochujang', 'goddess', 'godiva', 'gods', 'going', 'goji', 'gojuchang', 'gold', 'golden', 'goldfish', 'goldings', 'goldish', 'goldust', 'gone', 'good', 'goodies', 'goodman', 'goodness', 'goose', 'gooseberries', 'gorgonzola', 'gouda', 'gourd', 'gourmet', 'goya', 'grade', 'graham', 'grahams', 'grain', 'grained', 'grains', 'grainy', 'gram', 'grams', 'gran', 'grana', 'grand', 'grandma', 'grandmother', 'grands', 'granita', 'granny', 'granola', 'granular', 'granulated', 'granules', 'grape', 'grapefruit', 'grapes', 'grapeseed', 'gras', 'grass', 'grater', 'gratin', 'gravenstein', 'gravlax', 'gravy', 'gravymaster', 'gray', 'grease', 'greasing', 'great', 'greek', 'green', 'greenery', 'greens', 'gremolata', 'grenadine', 'grey', 'grigio', 'grill', 'grille', 'grilled', 'grilling', 'grind', 'grinder', 'grinders', 'grinding', 'grinds', 'grits', 'groats', 'grocer', 'ground', 'grouper', 'grouse', 'grown', 'gruyere', 'gruyère', 'gua', 'guacamole', 'guajillo', 'guanciale', 'guar', 'guava', 'guavas', 'guinness', 'guittard', 'gulden', 'gulf', 'gum', 'gumbo', 'gumdrops', 'gummi', 'gummy', 'gutted', 'gwaltney', 'gyoza', 'gypsy', 'haas', 'habanero', 'habaneros', 'hachiya', 'haddock', 'hair', 'hake', 'hakurei', 'haldi', 'half', 'halibut', 'halloumi', 'halloween', 'halved', 'halves', 'ham', 'hamachi', 'hamburger', 'hand', 'handful', 'handle', 'hands', 'hangar', 'hanger', 'hanout', 'hard', 'hardwood', 'haricots', 'harina', 'harissa', 'harmless', 'harp', 'hartshorn', 'harvest', 'hash', 'hashbrowns', 'hass', 'hatch', 'haupia', 'havarti', 'hawaiian', 'hazelnut', 'hazelnuts', 'head', 'headless', 'heads', 'healthy', 'heaping', 'heart', 'hearts', 'hearty', 'heat', 'heated', 'heath', 'heavy', 'heels', 'heering', 'hefeweizen', 'heineken', 'heinz', 'heirloom', 'helix', 'hellman', 'hellmann', 'helper', 'hemp', 'hen', 'hendrick', 'hens', 'herb', 'herbal', 'herbamare', 'herbed', 'herbes', 'herbs', 'herbsaint', 'herdez', 'herman', 'hero', 'herring', 'hershey', 'hibiscus', 'hickory', 'hidden', 'high', 'hillshire', 'himalayan', 'hines', 'hing', 'hinged', 'hint', 'hispanic', 'hoagie', 'hock', 'hocks', 'hodgson', 'hog', 'hoisin', 'holders', 'holes', 'holiday', 'holland', 'hollandaise', 'hollowed', 'holly', 'holy', 'home', 'homemade', 'homestyle', 'hometown', 'hominy', 'hondashi', 'honey', 'honeycomb', 'honeycrisp', 'honeydew', 'honkers', 'hooters', 'hops', 'horizon', 'horizontally', 'hormel', 'horn', 'horseradish', 'hot', 'hothouse', 'hotness', 'hots', 'hour', 'hours', 'house', 'hp', 'hsing', 'hubbard', 'huckleberries', 'hugs', 'hull', 'hulled', 'hummus', 'hundred', 'hung', 'hungarian', 'hungry', 'hunt', 'hunts', 'husk', 'husked', 'husks', 'huy', 'hydrogenated', 'hydroxide', 'ibarra', 'ice', 'iceberg', 'iced', 'icing', 'ida', 'idaho', 'idahoan', 'ie', 'ii', 'imagine', 'imitation', 'immaculate', 'imperial', 'imported', 'inch', 'inches', 'included', 'including', 'indian', 'individual', 'individually', 'indonesian', 'indulgence', 'infant', 'infused', 'infusions', 'ingredient', 'ingredients', 'injectable', 'injection', 'injector', 'injera', 'ink', 'inn', 'inner', 'innovasian', 'insam', 'insects', 'inside', 'inspired', 'instacure', 'instant', 'instructions', 'intact', 'international', 'inthe', 'iodized', 'ipa', 'irish', 'iron', 'isaly', 'island', 'islands', 'israeli', 'italian', 'italiano', 'ivanhoe', 'jack', 'jackfruit', 'jagermeister', 'jaggery', 'jalapeno', 'jalapenos', 'jalapeño', 'jam', 'jamaican', 'jambalaya', 'jameed', 'jameson', 'jane', 'jap', 'japanese', 'japones', 'jar', 'jarlsberg', 'jarred', 'jars', 'jasmati', 'jasmine', 'jeera', 'jell', 'jellied', 'jello', 'jelly', 'jellybeans', 'jellyrolls', 'jemima', 'jen', 'jennie', 'jerk', 'jerry', 'jerusalem', 'jet', 'jewel', 'jewish', 'jicama', 'jicamas', 'jif', 'jiffy', 'jigger', 'jiggers', 'jim', 'jimmies', 'jimmy', 'joconde', 'joe', 'joes', 'johnagold', 'johnny', 'johnson', 'johnsonville', 'joint', 'joints', 'jolly', 'jonathan', 'jones', 'jose', 'jowl', 'joy', 'jr', 'juice', 'juiced', 'juices', 'juicing', 'juicy', 'jujube', 'julienne', 'julienned', 'jumbo', 'junior', 'juniper', 'jus', 'jwala', 'kaali', 'kabob', 'kabobs', 'kabocha', 'kabsa', 'kacha', 'kaffir', 'kahlua', 'kaiser', 'kala', 'kalamansi', 'kalamata', 'kalbi', 'kale', 'kalonji', 'kamut', 'kangaroo', 'kansas', 'kantong', 'karat', 'karo', 'karpoor', 'kary', 'kasandrino', 'kasha', 'kashmiri', 'kasih', 'kasoori', 'kasturi', 'kat', 'kataifi', 'katinka', 'kc', 'kecap', 'kee', 'keebler', 'keen', 'kefalotiri', 'kefir', 'kellogg', 'kelp', 'ken', 'kent', 'kentucky', 'kept', 'kern', 'kernel', 'kernels', 'kerr', 'ketchup', 'kettle', 'kewpie', 'key', 'keystone', 'khus', 'kibbeh', 'kid', 'kidney', 'kidneys', 'kids', 'kielbasa', 'kikkoman', 'kim', 'kimchee', 'kimchi', 'kind', 'king', 'kingsford', 'kirby', 'kirkland', 'kirsch', 'kirschwasser', 'kiss', 'kisses', 'kit', 'kitchen', 'kiwi', 'kiwifruit', 'kiwis', 'kix', 'klondike', 'kluski', 'kneading', 'knife', 'knipla', 'knoephla', 'knorr', 'knots', 'knotted', 'knox', 'knuckle', 'knudsen', 'kobe', 'kochujang', 'koeksisters', 'koftas', 'kohlrabi', 'koji', 'kombu', 'konbu', 'kool', 'korean', 'korma', 'kosher', 'koshi', 'kraft', 'kraken', 'kraprao', 'kraut', 'krazy', 'krispies', 'kroger', 'kucai', 'kum', 'kummelweck', 'kumquat', 'kumquats', 'la', 'label', 'labeled', 'labneh', 'lacinato', 'lactaid', 'lacy', 'lady', 'ladyfinger', 'ladyfingers', 'lager', 'lagunitas', 'laird', 'lakes', 'lamb', 'lan', 'land', 'langostinos', 'laphroiag', 'lapsang', 'lard', 'larger', 'lars', 'lasagna', 'lasagne', 'last', 'latex', 'latik', 'latina', 'latkes', 'latte', 'lattice', 'laughing', 'laura', 'laurel', 'lava', 'lavang', 'lavash', 'lavender', 'lawry', 'lay', 'layer', 'layered', 'layers', 'lb', 'le', 'lea', 'leaf', 'leafy', 'lean', 'leaner', 'least', 'leather', 'leave', 'leaves', 'leaving', 'lebanese', 'leche', 'lechera', 'leches', 'lecithin', 'lee', 'leek', 'leeks', 'left', 'leftover', 'leg', 'legs', 'leicester', 'lemon', 'lemonade', 'lemongrass', 'lemons', 'lengkuas', 'length', 'lengths', 'lengthwise', 'lentil', 'lentils', 'leones', 'less', 'lesueur', 'lettuce', 'lettuces', 'leveled', 'libby', 'licorice', 'lid', 'lids', 'life', 'ligament', 'light', 'lighten', 'lighter', 'lightlife', 'lightly', 'like', 'lillet', 'lily', 'lima', 'lime', 'limeade', 'limes', 'limon', 'limoncello', 'lindor', 'lindsay', 'lindt', 'liner', 'liners', 'ling', 'lingcod', 'lingonberries', 'lingonberry', 'linguica', 'linguine', 'linguini', 'lining', 'link', 'linked', 'links', 'lipped', 'lipton', 'liquefy', 'liqueur', 'liquid', 'liquor', 'lit', 'lite', 'liter', 'liters', 'little', 'littleneck', 'live', 'liver', 'livers', 'liverwurst', 'lo', 'loaf', 'loaves', 'lobster', 'lobsters', 'located', 'locatella', 'locatelli', 'locoto', 'log', 'loin', 'lollipop', 'london', 'long', 'longer', 'longhorn', 'loomi', 'loops', 'loosely', 'lop', 'lopez', 'loquat', 'loquats', 'lorann', 'lorna', 'lorraine', 'lotus', 'louis', 'louisiana', 'lower', 'lowfat', 'lox', 'luck', 'lucky', 'luke', 'lukewarm', 'lumaconi', 'lump', 'lumpfish', 'lumpia', 'lumps', 'lunch', 'luncheon', 'lung', 'lup', 'lychee', 'lychees', 'mac', 'maca', 'macadamia', 'macademia', 'macapuno', 'macaroni', 'macarons', 'macaroon', 'macaroons', 'macchiato', 'mace', 'macedonian', 'mache', 'machine', 'macintosh', 'mackerel', 'macoun', 'macrina', 'made', 'madeira', 'madras', 'mae', 'maekrua', 'mafalda', 'magazine', 'maggi', 'magic', 'magical', 'magnesium', 'maharaja', 'mahatma', 'mahi', 'mahleb', 'mai', 'maid', 'maifun', 'maille', 'maine', 'maitake', 'maja', 'major', 'make', 'maker', 'malagkit', 'malaysian', 'malbec', 'maldon', 'malibu', 'malitol', 'malt', 'malted', 'maltose', 'mam', 'mama', 'manchego', 'mandarin', 'mandoline', 'mango', 'mangoes', 'mangos', 'manicotti', 'manis', 'manischewitz', 'manteca', 'manuka', 'manwich', 'manzanilla', 'maple', 'maraschino', 'marble', 'marbled', 'marcona', 'mardi', 'margarine', 'margarita', 'margherita', 'maria', 'marias', 'marie', 'marinade', 'marinades', 'marinara', 'marinated', 'marinating', 'marion', 'marionberries', 'marjoram', 'mark', 'market', 'markets', 'marlin', 'marmalade', 'marmite', 'marnier', 'marrons', 'marrow', 'marsala', 'marshmallow', 'marshmallows', 'martha', 'martini', 'maruchan', 'marukan', 'mary', 'marzano', 'marzetti', 'marzettis', 'marzipan', 'masa', 'masago', 'masala', 'mascarpone', 'mash', 'mashed', 'masher', 'mask', 'mason', 'masoor', 'master', 'masterpiece', 'match', 'matcha', 'matchbox', 'matchlike', 'matchstick', 'matchsticks', 'mate', 'mates', 'mature', 'matzah', 'matzo', 'matzos', 'maui', 'maxwell', 'may', 'mayer', 'mayo', 'mayocoba', 'mayonnaise', 'maytag', 'mazin', 'mazola', 'mccain', 'mccann', 'mccormick', 'mcintosh', 'mct', 'meal', 'measure', 'measuring', 'meat', 'meatballs', 'meatless', 'meatloaf', 'meats', 'meaty', 'medal', 'medallions', 'media', 'mediterranean', 'medjool', 'medley', 'mein', 'melba', 'melissa', 'mellow', 'melon', 'melons', 'melt', 'melted', 'melting', 'melts', 'membrane', 'membranes', 'memphis', 'menthe', 'merguez', 'meringue', 'merlot', 'mesclun', 'mesquite', 'metal', 'methi', 'mex', 'mexene', 'mexi', 'mexican', 'mexicana', 'mexico', 'mexicorn', 'meyer', 'mezcal', 'mezze', 'mezzetta', 'miami', 'mian', 'michelada', 'michigan', 'michter', 'microgreens', 'microwave', 'microwaveable', 'microwaved', 'middle', 'middleneck', 'midori', 'mignon', 'mike', 'milano', 'mild', 'milder', 'milk', 'milkfat', 'milkfish', 'milkshakes', 'mill', 'milled', 'miller', 'millet', 'milliliter', 'mills', 'mincemeat', 'mineral', 'minestrone', 'mini', 'miniature', 'minis', 'mint', 'mints', 'minute', 'minutes', 'miracle', 'mirepoix', 'mirin', 'mirlitons', 'miso', 'miss', 'mission', 'mist', 'mister', 'mistika', 'mix', 'mixed', 'mixer', 'mixing', 'mixoflour', 'mixture', 'mizithra', 'mizuna', 'ml', 'mlo', 'mm', 'mocha', 'mochi', 'mochiko', 'modelo', 'moida', 'moist', 'moistened', 'moisture', 'mojito', 'mojo', 'molasses', 'mold', 'molds', 'mole', 'momokawa', 'monde', 'mongolian', 'monin', 'monk', 'monkfish', 'monosodium', 'monte', 'montenegro', 'monterey', 'month', 'montreal', 'moo', 'moon', 'moong', 'moons', 'moonshine', 'moose', 'mop', 'morcilla', 'morel', 'morello', 'mores', 'morgan', 'mori', 'moringa', 'moritas', 'morningstar', 'moroccan', 'morsels', 'mortadella', 'mortar', 'morton', 'moscato', 'moser', 'moss', 'mostaccioli', 'mostly', 'moto', 'motorvatin', 'mott', 'moulds', 'mountain', 'mousse', 'mouth', 'mozza', 'mozzarella', 'mr', 'mrs', 'ms', 'msg', 'mt', 'mu', 'much', 'muenster', 'muesli', 'muffin', 'muffins', 'mug', 'muir', 'mulato', 'mulberries', 'mullet', 'mulling', 'multi', 'multicolored', 'multigrain', 'mulyeot', 'mung', 'muscat', 'muscle', 'muscles', 'muscovado', 'mushroom', 'mushrooms', 'musketeers', 'musselman', 'mussels', 'mustard', 'mutton', 'myers', 'myun', 'naan', 'nabisco', 'nacho', 'nail', 'nam', 'nama', 'nameko', 'napa', 'napoletana', 'naruto', 'nasoya', 'nasturtium', 'natural', 'naturally', 'naturals', 'nature', 'naturegg', 'naval', 'navel', 'navy', 'neapolitan', 'near', 'nearly', 'necco', 'necessary', 'neck', 'necks', 'nectar', 'nectarine', 'nectarines', 'need', 'needed', 'neese', 'negra', 'negro', 'neon', 'nephew', 'neroli', 'nescafe', 'nesquick', 'nesquik', 'nestle', 'netting', 'nettle', 'nettles', 'neufchatel', 'neufchâtel', 'neutral', 'new', 'newcastle', 'newfoundland', 'newman', 'niblet', 'niblets', 'nibs', 'nickel', 'nicoise', 'nigari', 'nigella', 'nilla', 'nissin', 'noir', 'non', 'nondairy', 'none', 'nonpareil', 'nonpareils', 'nonstick', 'noodle', 'noodles', 'nopales', 'nopalitos', 'nordica', 'nori', 'north', 'northern', 'note', 'notes', 'nougat', 'nu', 'nugget', 'nuggets', 'number', 'nuoc', 'nut', 'nutella', 'nutmeg', 'nutritional', 'nuts', 'nutter', 'ny', 'nylon', 'oat', 'oatmeal', 'oats', 'oaxaca', 'ocean', 'octoberfest', 'octopus', 'odom', 'oelek', 'oetker', 'often', 'ogorki', 'oikos', 'oil', 'okra', 'oktoberfest', 'old', 'olde', 'olive', 'olives', 'olivia', 'omega', 'omelets', 'one', 'ones', 'onion', 'onions', 'open', 'opo', 'option', 'optional', 'options', 'orange', 'oranges', 'orchard', 'ore', 'orecchiette', 'oregano', 'oreo', 'oreos', 'organic', 'orgeat', 'oriental', 'original', 'originale', 'originals', 'orrington', 'ortega', 'orzo', 'oscar', 'ossobuco', 'otto', 'ottogi', 'ounce', 'ounces', 'outer', 'outs', 'ouzo', 'oval', 'ovalette', 'ovaltine', 'oven', 'overnight', 'overripe', 'owens', 'oxtail', 'oxtails', 'oyster', 'oysters', 'oz', 'paca', 'pace', 'pacific', 'pack', 'package', 'packaged', 'packages', 'packed', 'packet', 'packets', 'pad', 'padano', 'padi', 'padron', 'paella', 'paisano', 'pak', 'pale', 'paleo', 'palm', 'palouse', 'pam', 'pan', 'panang', 'pancake', 'pancakes', 'pancetta', 'pancit', 'pandan', 'paneer', 'paneriso', 'panettone', 'panko', 'panna', 'panquehue', 'pans', 'pantry', 'pao', 'papaccelle', 'papaya', 'papayas', 'papayiannides', 'paper', 'pappardelle', 'pappy', 'paprika', 'paraffin', 'parboiled', 'parchment', 'pared', 'pareils', 'pareve', 'parilla', 'paris', 'parisian', 'park', 'parkay', 'parker', 'parma', 'parmagiano', 'parmesan', 'parmigiano', 'parsley', 'parsnip', 'parsnips', 'part', 'partially', 'partridge', 'parts', 'party', 'pasa', 'pasilla', 'paso', 'passata', 'passing', 'passion', 'passover', 'pasta', 'paste', 'pastel', 'pasteurized', 'pastina', 'pastor', 'pastrami', 'pastries', 'pastry', 'pat', 'patagonian', 'patak', 'patch', 'pate', 'patis', 'pato', 'patron', 'pats', 'patted', 'pattern', 'patterson', 'patties', 'patty', 'pattypan', 'paul', 'paula', 'pav', 'pawpaw', 'pb', 'pea', 'peach', 'peaches', 'peak', 'peaks', 'peanut', 'peanuts', 'pear', 'pearl', 'pearled', 'pearlini', 'pearlized', 'pearls', 'pears', 'peas', 'pebbles', 'pecan', 'pecans', 'pecorino', 'pectin', 'pee', 'peel', 'peeled', 'peeler', 'peelings', 'peels', 'peeps', 'peg', 'pekoe', 'pellegrino', 'pellets', 'penne', 'penzey', 'penzeys', 'penzy', 'pepe', 'peperoncini', 'pepitas', 'peppadew', 'peppadrops', 'pepper', 'peppercorn', 'peppercorns', 'peppered', 'pepperidge', 'pepperjack', 'peppermint', 'pepperoncini', 'pepperoni', 'peppers', 'peppery', 'peppino', 'pequin', 'per', 'perch', 'perfect', 'perfectly', 'peri', 'perlato', 'perle', 'perline', 'pernod', 'perrier', 'perrins', 'persian', 'persimmon', 'persimmons', 'peruvian', 'pesto', 'pet', 'petal', 'petals', 'pete', 'peter', 'petes', 'petite', 'peychaud', 'pheasant', 'pheasants', 'phil', 'philadelphia', 'pho', 'phyllo', 'pica', 'picante', 'picapeppa', 'pickapeppa', 'picked', 'pickle', 'pickled', 'pickles', 'pickling', 'picks', 'picnic', 'pico', 'picon', 'pie', 'piece', 'pieces', 'pierced', 'pierogies', 'pies', 'pig', 'pigeon', 'pignoli', 'pilaf', 'pillsbury', 'piloncillo', 'pilsner', 'pimenta', 'pimento', 'pimenton', 'pimentos', 'pimiento', 'pimientos', 'pimm', 'pin', 'pina', 'pinch', 'pinches', 'pine', 'pineapple', 'pinenuts', 'pink', 'pinot', 'pinquito', 'pint', 'pinto', 'pints', 'pipette', 'piping', 'pippin', 'piquillo', 'piri', 'pisco', 'pistachio', 'pistachios', 'pistolette', 'pit', 'pita', 'pitas', 'pitaya', 'pitch', 'pith', 'pits', 'pizza', 'pizzas', 'pkg', 'pla', 'place', 'plank', 'planks', 'plantain', 'plantains', 'planters', 'plastic', 'plata', 'plochman', 'ploy', 'plucked', 'plum', 'plump', 'plumped', 'plums', 'pluots', 'plus', 'poached', 'poaching', 'poblano', 'pocket', 'pocketless', 'pockets', 'pod', 'pods', 'point', 'polenta', 'polish', 'pollock', 'polska', 'polskie', 'polydextrose', 'pomegranate', 'pomegranates', 'pomfret', 'pompano', 'ponzu', 'poolish', 'pop', 'popchips', 'popcorn', 'popped', 'popping', 'poppy', 'poppyseed', 'pops', 'popsicle', 'porcini', 'pork', 'port', 'portabella', 'portabello', 'porter', 'porterhouse', 'portion', 'portions', 'portobella', 'portobello', 'portuguese', 'possible', 'post', 'pot', 'potato', 'potatoes', 'potpourri', 'potsticker', 'potstickers', 'pouch', 'pouches', 'poulet', 'poultry', 'pound', 'pounded', 'pounds', 'poupon', 'powder', 'prague', 'praline', 'prawn', 'prawns', 'pre', 'prebaked', 'precooked', 'prefer', 'preferably', 'preferred', 'prego', 'premade', 'premier', 'premium', 'prepared', 'preparing', 'prerolled', 'preserved', 'preserves', 'preserving', 'presidente', 'pressed', 'pressurized', 'pretzel', 'pretzels', 'prevent', 'prewashed', 'pricked', 'prickly', 'pride', 'prik', 'primal', 'primavera', 'prime', 'private', 'process', 'processed', 'processor', 'product', 'professional', 'progresso', 'prohibition', 'pronto', 'proof', 'prosciutto', 'prosecco', 'protein', 'provence', 'provolone', 'prudhomme', 'prune', 'prunes', 'psyllium', 'pucker', 'pudding', 'pueblo', 'puerto', 'puff', 'puffed', 'puffs', 'pulique', 'pulled', 'pulp', 'pumpernickel', 'pumpernikel', 'pumpkin', 'pumpkins', 'punch', 'puppy', 'purchased', 'pure', 'puree', 'pureed', 'purely', 'puri', 'purple', 'purpose', 'purslane', 'pushcart', 'pushed', 'puss', 'quail', 'quaker', 'quality', 'quantity', 'quark', 'quart', 'quarter', 'quartered', 'quarters', 'quarts', 'que', 'queen', 'queijo', 'quesadilla', 'quesadillas', 'queso', 'quiche', 'quick', 'quina', 'quince', 'quinces', 'quinoa', 'quinquina', 'quorn', 'rabbit', 'rabe', 'rack', 'racks', 'radiatore', 'radicchio', 'radish', 'radishes', 'raffaello', 'ragu', 'rainbow', 'rainbows', 'rainier', 'raised', 'raisin', 'raisins', 'rajma', 'raman', 'ramekins', 'ramen', 'ramps', 'ramyonsari', 'ranch', 'rancher', 'rancherito', 'ranchero', 'rapid', 'rapidrise', 'rapunzel', 'rare', 'ras', 'raspberries', 'raspberry', 'rava', 'ravioli', 'raw', 'ray', 'razor', 'rbgh', 'rbst', 'ready', 'real', 'realemon', 'realfruit', 'realime', 'reblochon', 'recao', 'recently', 'recipe', 'recipes', 'recommended', 'reconstituted', 'rectangles', 'rectangular', 'red', 'reddi', 'redfish', 'redhot', 'redmond', 'redpack', 'reds', 'reduce', 'reduced', 'reduction', 'reese', 'refined', 'refried', 'refrigerated', 'refrigerator', 'refritos', 'reggiano', 'regular', 'rehydrated', 'relish', 'remaining', 'remoulade', 'removable', 'remove', 'removed', 'removing', 'rendang', 'rendered', 'renee', 'rennet', 'replacement', 'replacer', 'reposado', 'request', 'resealable', 'resembling', 'reserve', 'reserved', 'reserving', 'resistant', 'rest', 'restaurant', 'retained', 'retied', 'reynolds', 'rhine', 'rhodes', 'rhone', 'rhubarb', 'rib', 'ribbons', 'ribeye', 'ribs', 'rican', 'rice', 'riced', 'ricer', 'riceselect', 'rich', 'ricotta', 'ridged', 'riesling', 'rigatoni', 'right', 'rim', 'rimming', 'rims', 'rind', 'rinded', 'rinds', 'ring', 'rings', 'rinsed', 'ripe', 'ripened', 'ripped', 'rippled', 'rise', 'rising', 'risotto', 'ritz', 'river', 'ro', 'road', 'roast', 'roasted', 'roasting', 'roasts', 'robusto', 'rock', 'rocket', 'rockfish', 'rocky', 'rods', 'roe', 'rojo', 'roll', 'rolled', 'rolling', 'rolls', 'rolo', 'roma', 'romaine', 'romanesco', 'romano', 'rome', 'roni', 'ronzoni', 'rooibos', 'room', 'root', 'roots', 'roquefort', 'rosarita', 'rose', 'rosemary', 'roses', 'rosewater', 'rossi', 'rosé', 'rotel', 'rotelle', 'roth', 'rotini', 'rotisserie', 'rouge', 'rough', 'roughly', 'roughy', 'round', 'rounds', 'route', 'roux', 'rows', 'royal', 'rub', 'rubbed', 'ruby', 'ruffles', 'rum', 'rumchata', 'rump', 'run', 'rush', 'russet', 'russets', 'russian', 'rustic', 'rutabaga', 'rutabagas', 'ruth', 'rye', 'sa', 'sabut', 'saccharine', 'sack', 'saco', 'saeujeot', 'saewujeot', 'saf', 'safe', 'safflower', 'saffron', 'sage', 'sago', 'saigon', 'sailor', 'sake', 'salad', 'salami', 'salata', 'salemville', 'salmon', 'salmonberries', 'salsa', 'salsita', 'salt', 'salted', 'saltine', 'salty', 'salvadoran', 'salvadorena', 'sam', 'sambal', 'sambar', 'sambazon', 'sambuca', 'samosa', 'samuel', 'san', 'sancerre', 'sandies', 'sanding', 'sandwich', 'sandwiches', 'sangiovese', 'sangria', 'santa', 'sanuf', 'sara', 'sardines', 'sargento', 'sashimi', 'saskatoon', 'sassafras', 'satay', 'satsuma', 'saturei', 'sauce', 'sauces', 'sauerkraut', 'saury', 'sausage', 'sausagemeat', 'sausages', 'saute', 'sauteed', 'sauteing', 'sauterne', 'sauternes', 'sauvignon', 'sauza', 'save', 'saved', 'savory', 'savoury', 'savoy', 'sawed', 'sawyer', 'sazon', 'sazonador', 'scalded', 'scaled', 'scallion', 'scallions', 'scallop', 'scalloped', 'scallops', 'scaloppini', 'scant', 'scape', 'scapes', 'schnapps', 'school', 'schubert', 'scissors', 'scones', 'scoop', 'scooped', 'scoops', 'scored', 'scotch', 'scout', 'scrambled', 'scraped', 'scrapple', 'scraps', 'scrubbed', 'se', 'sea', 'seafood', 'seal', 'seamless', 'seared', 'seashell', 'season', 'seasonal', 'seasoned', 'seasoning', 'seasonings', 'seasons', 'seattle', 'seaweed', 'sec', 'seco', 'second', 'secret', 'secrets', 'section', 'sectioned', 'sections', 'see', 'seed', 'seeded', 'seedless', 'seeds', 'seedy', 'segmented', 'segments', 'seitan', 'sel', 'select', 'selection', 'self', 'seltzer', 'semi', 'semifreddo', 'semisweet', 'semolina', 'sencha', 'sensations', 'separate', 'separated', 'separately', 'serrano', 'serve', 'serviceberries', 'serving', 'servings', 'sesame', 'set', 'setting', 'seven', 'several', 'seville', 'sfq', 'shade', 'shake', 'shaken', 'shakka', 'shallot', 'shallots', 'shank', 'shanks', 'shao', 'shaoxing', 'shape', 'shaped', 'shapes', 'shark', 'sharp', 'sharpness', 'shaved', 'shavings', 'shears', 'sheep', 'sheeps', 'sheet', 'sheets', 'shelby', 'shelf', 'shell', 'shelled', 'shellfish', 'shells', 'sherbet', 'sherry', 'shichimi', 'shiitake', 'shimeji', 'shiner', 'shirakiku', 'shirataki', 'shiraz', 'shiro', 'shishito', 'shoe', 'shoepeg', 'shoestring', 'shoga', 'shoot', 'shoots', 'shopping', 'shore', 'short', 'shortbread', 'shortcake', 'shortcakes', 'shortcrust', 'shortening', 'shot', 'shots', 'shoulder', 'shoyu', 'shredded', 'shreds', 'shrimp', 'shu', 'shucked', 'sic', 'sichuan', 'sicilia', 'side', 'sides', 'sieve', 'sieved', 'siew', 'sifted', 'signature', 'silk', 'silken', 'silks', 'silver', 'silverbeet', 'similar', 'simmering', 'simple', 'simply', 'sinew', 'single', 'singles', 'sirloin', 'sister', 'sit', 'siu', 'six', 'sixteen', 'sixths', 'size', 'sized', 'skewer', 'skewers', 'skillet', 'skim', 'skimmed', 'skin', 'skinless', 'skinned', 'skins', 'skirt', 'skittles', 'skor', 'skyline', 'skyy', 'slab', 'slabs', 'slant', 'slap', 'slaw', 'sleeve', 'sleeves', 'slender', 'slice', 'sliceable', 'sliced', 'slicer', 'slices', 'slicing', 'slider', 'slightly', 'slim', 'slit', 'slits', 'sliver', 'slivered', 'slivers', 'sloe', 'sloppy', 'slow', 'slush', 'small', 'smaller', 'smart', 'smashed', 'smelt', 'smirnoff', 'smith', 'smithfield', 'smoke', 'smoked', 'smokehouse', 'smoker', 'smokey', 'smokie', 'smokies', 'smoking', 'smoky', 'smooth', 'smoothie', 'smucker', 'snack', 'snacks', 'snails', 'snap', 'snapped', 'snapper', 'snappers', 'snapple', 'snaps', 'snickers', 'snip', 'snipped', 'snipping', 'snow', 'soaked', 'soaking', 'soba', 'sockeye', 'soda', 'sodium', 'sofrito', 'soft', 'softasilk', 'soften', 'softened', 'soju', 'sole', 'solid', 'solo', 'solution', 'somen', 'son', 'sonoma', 'sooji', 'soon', 'sopes', 'sorbet', 'sorghum', 'sorrel', 'sorted', 'sottocenere', 'souchong', 'souffle', 'soul', 'soup', 'sour', 'sourball', 'sourdough', 'soursop', 'south', 'southern', 'southwest', 'southwestern', 'souvlaki', 'soy', 'soybean', 'soybeans', 'soymilk', 'spaghetti', 'spaghettini', 'spam', 'spanish', 'spare', 'spareribs', 'sparking', 'sparkling', 'spear', 'spearmint', 'spears', 'special', 'specialty', 'speckled', 'spectrum', 'speculoos', 'spelt', 'spent', 'spheres', 'spice', 'spiced', 'spices', 'spicier', 'spicy', 'spike', 'spinach', 'spines', 'spiral', 'spiralized', 'spirals', 'spirulina', 'spit', 'splash', 'splashes', 'splenda', 'split', 'sponge', 'spoon', 'spoonable', 'spooned', 'spoons', 'sport', 'sports', 'spot', 'spray', 'sprays', 'spread', 'spreadable', 'spreadables', 'spreading', 'sprig', 'sprigs', 'spring', 'springform', 'sprinkle', 'sprinkles', 'sprinkling', 'sprite', 'spritzed', 'spritzer', 'sprouted', 'sprouts', 'spumante', 'spun', 'square', 'squares', 'squash', 'squashes', 'squeezable', 'squeeze', 'squeezed', 'squeezes', 'squid', 'squirrels', 'sriracha', 'st', 'stable', 'stacked', 'stale', 'stalk', 'stalks', 'stamen', 'stand', 'standard', 'standing', 'star', 'starbucks', 'starburst', 'starch', 'starchy', 'starlight', 'stars', 'start', 'starter', 'starters', 'state', 'staybrite', 'steak', 'steakhouse', 'steaks', 'steam', 'steamcrisp', 'steamed', 'steamer', 'steamers', 'steamfresh', 'steaming', 'steel', 'steelhead', 'stella', 'stem', 'stemmed', 'stems', 'stencils', 'step', 'sterilized', 'steve', 'stevia', 'stew', 'stewed', 'stewing', 'stick', 'stickers', 'sticks', 'sticky', 'stiff', 'stiffly', 'still', 'stilton', 'stinging', 'stir', 'stirred', 'stock', 'stoli', 'stomach', 'stone', 'stones', 'stonewall', 'storage', 'store', 'stout', 'stove', 'stovetop', 'strained', 'strands', 'straw', 'strawberries', 'strawberry', 'straws', 'stray', 'strength', 'streusel', 'string', 'strings', 'strip', 'stripe', 'striped', 'stripes', 'stripped', 'strips', 'strong', 'strongly', 'struffoli', 'stuf', 'stuffed', 'stuffing', 'stumptown', 'sturdy', 'style', 'styrofoam', 'su', 'sub', 'submarine', 'substitute', 'substituted', 'substitutes', 'sucanat', 'succotash', 'suckling', 'sucralose', 'sucrolose', 'suet', 'sueur', 'sugar', 'sugars', 'suggested', 'suggestions', 'suisse', 'suitable', 'sukhi', 'sukiyaki', 'sultana', 'sultanas', 'sum', 'sumac', 'summer', 'sun', 'sunchokes', 'sundae', 'sunflower', 'sunnyd', 'sunrise', 'sunsweet', 'super', 'superfine', 'supplement', 'supreme', 'sure', 'surface', 'surimi', 'surprise', 'sushi', 'sutton', 'svedka', 'swai', 'swan', 'swans', 'swanson', 'sweet', 'sweetbreads', 'sweetened', 'sweetener', 'swirl', 'swiss', 'swordfish', 'syrah', 'syrian', 'syrup', 'szechuan', 'szechwan', 'tabasco', 'table', 'tablespoon', 'tablespoons', 'tablet', 'tablets', 'taco', 'tacos', 'tagine', 'tagliatelle', 'tahini', 'tai', 'tail', 'tails', 'tajin', 'tall', 'tamale', 'tamales', 'tamari', 'tamarind', 'tandoori', 'tang', 'tangerine', 'tangerines', 'tango', 'tangy', 'tanqueray', 'tap', 'tapatio', 'tape', 'tapenade', 'tapioca', 'taquitos', 'tarbais', 'tarka', 'taro', 'tarragon', 'tart', 'tartar', 'tartaric', 'tartine', 'tarts', 'tasso', 'taste', 'tastefully', 'taster', 'tasters', 'tater', 'tawny', 'tazo', 'tea', 'teabags', 'teardrop', 'teaspoon', 'teaspoons', 'teddy', 'teff', 'tel', 'telera', 'tempeh', 'temperature', 'tempering', 'tempura', 'tender', 'tenderflake', 'tenderized', 'tenderizer', 'tenderloin', 'tenderloins', 'tenders', 'tenkasu', 'tennessee', 'tentacles', 'tepid', 'tequila', 'teriyaki', 'tex', 'texas', 'texmati', 'texture', 'textured', 'texturized', 'tgi', 'thai', 'thaw', 'thawed', 'thick', 'thicken', 'thickly', 'thickness', 'thigh', 'thighs', 'thin', 'thinly', 'thinner', 'thins', 'third', 'thirds', 'thompson', 'thoroughly', 'thousand', 'thread', 'threads', 'three', 'thyme', 'ti', 'tia', 'tidbits', 'tie', 'tied', 'ties', 'tiger', 'tightly', 'tilapia', 'tillamook', 'time', 'times', 'tin', 'tinted', 'tiny', 'tio', 'tip', 'tipo', 'tips', 'tiramisu', 'tire', 'tito', 'tm', 'toast', 'toasted', 'toaster', 'toasting', 'toasts', 'toban', 'tobiko', 'toenjang', 'toffee', 'tofu', 'tofutti', 'togarashi', 'together', 'toll', 'tom', 'tomatillo', 'tomatillos', 'tomato', 'tomatoes', 'tombstones', 'ton', 'tongue', 'tongues', 'tonic', 'tonkatsu', 'tony', 'toor', 'toothpick', 'toothpicks', 'tootsie', 'top', 'topping', 'toppings', 'tops', 'torani', 'torched', 'torn', 'torpedo', 'tortellini', 'tortiglioni', 'tortilla', 'tortillas', 'toscano', 'tostada', 'tostadas', 'tostidos', 'tostito', 'tostitos', 'total', 'tots', 'touch', 'tough', 'toulouse', 'towel', 'towels', 'town', 'trader', 'traditional', 'trail', 'trans', 'transparent', 'tray', 'trays', 'treacle', 'treated', 'treats', 'tres', 'tri', 'triangles', 'trifle', 'triglyceride', 'trimmed', 'trimmings', 'trio', 'tripe', 'triple', 'triscuit', 'trompette', 'tropical', 'trouble', 'trout', 'truffle', 'truffled', 'truffles', 'trumpet', 'truroots', 'truvia', 'tsang', 'tteok', 'tub', 'tube', 'tubes', 'tubs', 'tumeric', 'tuna', 'tung', 'tupelo', 'turban', 'turbinado', 'turkey', 'turkeys', 'turkish', 'turmeric', 'turnip', 'turnips', 'turtle', 'tuscan', 'tuvar', 'tvp', 'twelve', 'twice', 'twigs', 'twin', 'twine', 'twinkies', 'twist', 'twisted', 'twists', 'twizzlers', 'two', 'tying', 'type', 'tyson', 'tzatziki', 'ube', 'udi', 'udon', 'ultragrain', 'umbrellas', 'unagi', 'unbaked', 'unbleached', 'unchopped', 'uncle', 'uncooked', 'uncured', 'uncut', 'underripe', 'undiluted', 'undrained', 'undyed', 'unfiltered', 'unflavored', 'unfolded', 'unhusked', 'unopened', 'unpacked', 'unpasteurized', 'unpeeled', 'unpopped', 'unprepared', 'unprocessed', 'unrefined', 'unrinsed', 'unripe', 'unrolled', 'unseasoned', 'unshelled', 'unsifted', 'unsliced', 'unsmoked', 'unsplit', 'unsulfured', 'unsweetened', 'unthawed', 'untoasted', 'untreated', 'untrimmed', 'unwashed', 'unwrap', 'unwrapped', 'ups', 'upside', 'urad', 'urfa', 'use', 'used', 'using', 'utz', 'uv', 'vacuum', 'valdeon', 'valencia', 'valentina', 'valley', 'value', 'vanilla', 'vareniky', 'varenyky', 'varies', 'varieties', 'variety', 'vay', 'veal', 'veg', 'vega', 'vegan', 'veganaise', 'vegata', 'vegemite', 'vegenaise', 'vegeta', 'vegetable', 'vegetables', 'vegetarian', 'veggie', 'veggies', 'vein', 'veined', 'veins', 'velveeta', 'velvet', 'venice', 'venison', 'vera', 'verbena', 'verde', 'verdelho', 'vermicelli', 'vermont', 'vermouth', 'vernors', 'vertically', 'verts', 'vh', 'via', 'vidalia', 'vietnamese', 'vietti', 'vinaigrette', 'vindaloo', 'vine', 'vinegar', 'vines', 'vino', 'violet', 'virgin', 'virginia', 'visible', 'vital', 'vitamin', 'vitar', 'vodka', 'voskos', 'wafer', 'wafers', 'waffle', 'waffles', 'wages', 'wagon', 'wakame', 'walden', 'walla', 'walleye', 'walnut', 'walnuts', 'want', 'warm', 'warmed', 'wasabi', 'wash', 'washed', 'washington', 'water', 'watercress', 'watermelon', 'watermelons', 'waters', 'watkins', 'watson', 'wavy', 'wax', 'waxed', 'way', 'wear', 'weber', 'wedge', 'wedged', 'wedges', 'wee', 'weed', 'wegmans', 'weight', 'weiners', 'welch', 'well', 'werther', 'wesson', 'west', 'wet', 'whatever', 'wheat', 'wheel', 'wheels', 'whey', 'whip', 'whipped', 'whipping', 'whips', 'whisked', 'whiskey', 'whisky', 'white', 'whitefish', 'whitelily', 'whites', 'whiting', 'whiz', 'whole', 'wholesome', 'wholly', 'wide', 'wider', 'width', 'widthwise', 'wieners', 'wilco', 'wild', 'wildflower', 'willamette', 'williams', 'williamsburg', 'wilted', 'wilton', 'wine', 'wing', 'wings', 'wingtips', 'winter', 'wip', 'wisconsin', 'wise', 'wish', 'wishbone', 'witch', 'without', 'wok', 'wolf', 'wolfberries', 'wonder', 'wonderful', 'wondra', 'wong', 'wonton', 'wontons', 'wood', 'woodchuck', 'wooden', 'woodruff', 'woods', 'worcestershire', 'work', 'works', 'world', 'worm', 'worms', 'wrap', 'wrapped', 'wrapper', 'wrappers', 'wrapping', 'wraps', 'wray', 'wuyi', 'xanthan', 'xx', 'ya', 'yacon', 'yakisoba', 'yam', 'yams', 'yards', 'yautia', 'yazzo', 'year', 'yeast', 'yellow', 'yellowfin', 'yellowtail', 'yerba', 'yogurt', 'yolk', 'yolks', 'yoplait', 'york', 'yorkshire', 'young', 'yu', 'yuca', 'yucca', 'yuengling', 'yukon', 'yum', 'yuzu', 'yves', 'za', 'zaanse', 'zaatar', 'zang', 'zapallo', 'zatarain', 'zatarains', 'zatarian', 'zen', 'zest', 'zested', 'zesty', 'zinfandel', 'zing', 'zip', 'ziti', 'zucchini', 'zucchinis', 'zwieback']\n"
     ]
    }
   ],
   "source": [
    "# Extract features from the text\n",
    "# count_vectorizer\n",
    "\n",
    "corpus = recipes_ingredients\n",
    "\n",
    "count_vectorizer = CountVectorizer(stop_words = our_stopwords)\n",
    "ingr_ct = count_vectorizer.fit_transform(corpus)\n",
    "\n",
    "print(count_vectorizer.get_feature_names())"
   ]
  },
  {
   "cell_type": "code",
   "execution_count": 29,
   "id": "263a90aa",
   "metadata": {},
   "outputs": [
    {
     "name": "stdout",
     "output_type": "stream",
     "text": [
      "['abalone', 'absinthe', 'absolut', 'abuelita', 'ac', 'acado', 'acai', 'accent', 'accents', 'accompaniments', 'according', 'achiote', 'acid', 'acidity', 'acids', 'acini', 'acorn', 'across', 'act', 'active', 'activedry', 'adams', 'add', 'added', 'addition', 'additional', 'additions', 'adjust', 'adjustable', 'adobo', 'adzuki', 'aerated', 'african', 'agar', 'agave', 'age', 'aged', 'ahead', 'ahi', 'aid', 'aidells', 'aioli', 'air', 'airheads', 'aisle', 'aji', 'ajicitos', 'ajies', 'al', 'alaska', 'alaskan', 'albacore', 'alcaparrado', 'alcohol', 'alder', 'ale', 'aleppo', 'alessi', 'alexia', 'alfalfa', 'alfredo', 'alligator', 'allspice', 'allwhites', 'almond', 'almondmilk', 'almonds', 'almost', 'aloe', 'aloha', 'along', 'alouette', 'alphabet', 'already', 'alternative', 'alum', 'aluminum', 'amaranth', 'amaretti', 'amaretto', 'amarillo', 'amaro', 'amaz', 'amber', 'amberjack', 'amchoor', 'amchur', 'amer', 'american', 'amino', 'aminos', 'amish', 'ammonia', 'amontillado', 'amount', 'amsterdam', 'anaheim', 'anapakaya', 'ancho', 'anchovies', 'anchovy', 'ancient', 'andes', 'andouille', 'andre', 'anejo', 'angel', 'angelica', 'angle', 'angostura', 'angus', 'animal', 'anise', 'anisette', 'anjou', 'annatto', 'annie', 'another', 'antelope', 'apart', 'aperitif', 'aperol', 'apple', 'applejack', 'apples', 'applesauce', 'appleton', 'applewood', 'approx', 'apricot', 'apricots', 'apriplums', 'aquafaba', 'aquavit', 'arame', 'arbol', 'arborio', 'archer', 'arctic', 'arepas', 'argentinian', 'argo', 'arils', 'arm', 'armagnac', 'aromatic', 'arrowhead', 'arrowroot', 'arthur', 'artichoke', 'artichokes', 'artificial', 'artisan', 'artisanal', 'arugula', 'asada', 'asadero', 'asafoetida', 'ascorbic', 'asiago', 'asian', 'aside', 'asparagus', 'aspartame', 'assemble', 'assembly', 'assi', 'assorted', 'assortment', 'asti', 'asturian', 'astwix', 'aswad', 'atar', 'athenos', 'atlantic', 'attached', 'au', 'aunt', 'authentic', 'autry', 'autumn', 'available', 'avgolemono', 'aviation', 'avocado', 'avocados', 'away', 'aylmer', 'azafran', 'añejo', 'babka', 'baby', 'bacardi', 'back', 'backbone', 'backdraft', 'backs', 'backstrap', 'bacon', 'baconnaise', 'badi', 'badia', 'bag', 'bagel', 'bagels', 'bagged', 'bagoong', 'bags', 'baguette', 'baguettes', 'baharat', 'bai', 'bailey', 'baileys', 'bake', 'baked', 'baker', 'bakers', 'bakery', 'bakeware', 'baking', 'balance', 'balanced', 'ball', 'baller', 'balls', 'balm', 'balsamic', 'baltimore', 'bam', 'bamboo', 'banana', 'bananas', 'bands', 'bangus', 'bannock', 'banquet', 'bar', 'barbados', 'barbecue', 'barbecued', 'barbeque', 'barbequed', 'barberries', 'bare', 'barefoot', 'barely', 'barilla', 'bark', 'barley', 'barolo', 'barramundi', 'barrel', 'bars', 'bartlett', 'base', 'baseball', 'based', 'basic', 'basics', 'basil', 'basket', 'baskets', 'basmati', 'bass', 'baste', 'basting', 'batavia', 'batter', 'bavarian', 'bay', 'bayou', 'bbq', 'beam', 'bean', 'beans', 'bear', 'bearnaise', 'bears', 'beaten', 'beaters', 'beau', 'beauty', 'becel', 'bechamel', 'bee', 'beech', 'beecher', 'beef', 'beefsteak', 'beefy', 'beer', 'beers', 'beet', 'beets', 'belacan', 'belachan', 'belgian', 'belgioioso', 'believe', 'belizean', 'bell', 'bella', 'bellas', 'belly', 'belts', 'beluga', 'ben', 'benedict', 'benedictine', 'bengal', 'beni', 'berbere', 'bermuda', 'berries', 'berry', 'bertolli', 'besan', 'best', 'better', 'betty', 'beurre', 'beverage', 'beverages', 'bhaji', 'bias', 'bibb', 'biber', 'big', 'biga', 'bilbao', 'bing', 'bird', 'birds', 'biryani', 'biscoff', 'biscotti', 'biscuit', 'biscuits', 'bison', 'bisque', 'bisquick', 'bistro', 'bit', 'bite', 'bites', 'bits', 'bitter', 'bittermens', 'bitters', 'bittersweet', 'black', 'blackberries', 'blackberry', 'blackcurrant', 'blackened', 'blackening', 'blackeye', 'blackstrap', 'blackwell', 'blade', 'blanc', 'blanca', 'blanched', 'blanco', 'blank', 'blast', 'bleached', 'blend', 'blended', 'blender', 'blending', 'blends', 'bleu', 'blintzes', 'bliss', 'block', 'blocks', 'blood', 'bloody', 'blooming', 'blossom', 'blossoms', 'blue', 'blueberries', 'blueberry', 'bluefish', 'boar', 'board', 'boards', 'bob', 'boboli', 'boca', 'bocconcini', 'bock', 'bodied', 'body', 'boil', 'boiled', 'boiler', 'boiling', 'bok', 'bold', 'bolillo', 'bologna', 'bolognese', 'bonal', 'bone', 'boned', 'boneless', 'bones', 'bonito', 'bonnet', 'boost', 'borden', 'borlotti', 'bosc', 'boston', 'bottle', 'bottled', 'bottles', 'bottom', 'bottomed', 'bottoms', 'boudin', 'bought', 'bouillon', 'bouqet', 'bouquet', 'bourbon', 'boursin', 'bow', 'bowl', 'bowls', 'box', 'boxed', 'boxes', 'boysenberries', 'boysenberry', 'brach', 'braeburn', 'bragg', 'brain', 'braising', 'bran', 'brand', 'branded', 'brands', 'brandy', 'branston', 'brat', 'bratwurst', 'bratwursts', 'braunschweiger', 'brazil', 'brazilian', 'bread', 'breadcrumb', 'breadcrumbs', 'breaded', 'breader', 'breading', 'breads', 'breadstick', 'breadsticks', 'breakfast', 'breakstone', 'bream', 'breast', 'breasts', 'breeze', 'brew', 'brewed', 'brewers', 'briannas', 'brick', 'brickle', 'bridgford', 'brie', 'briefly', 'brien', 'brine', 'brined', 'brinjal', 'brioche', 'briquets', 'briquettes', 'brisket', 'briskets', 'brittle', 'broad', 'broccoli', 'broccolini', 'broil', 'broiler', 'broken', 'brooks', 'broth', 'brothers', 'brown', 'browned', 'brownie', 'brownies', 'browning', 'browns', 'bruce', 'bruised', 'brujo', 'brush', 'brushed', 'brushing', 'brussels', 'brut', 'bubblegum', 'bucatini', 'buckwheat', 'bud', 'buddig', 'buds', 'budweiser', 'buena', 'buffalo', 'bugles', 'buitoni', 'bulb', 'bulbs', 'bulgar', 'bulgarian', 'bulgur', 'bulk', 'bull', 'bulleit', 'bumble', 'bun', 'bunch', 'bunches', 'bundled', 'bunny', 'buns', 'burdock', 'burger', 'burgers', 'burgundy', 'burmese', 'burnett', 'burrata', 'burrito', 'burritos', 'bush', 'butcher', 'butt', 'butter', 'butterball', 'buttercream', 'buttercrunch', 'buttercup', 'buttered', 'butterfinger', 'butterfish', 'butterflied', 'butterfly', 'butterhead', 'buttermilk', 'butternut', 'butterscotch', 'buttershots', 'butterworth', 'buttery', 'button', 'buttons', 'buy', 'béarnaise', 'cabbage', 'cabernet', 'cabot', 'cabra', 'cabrales', 'cacao', 'cachaca', 'cachere', 'cacho', 'cactus', 'cadbury', 'caesar', 'caffeinated', 'caffeine', 'cajeta', 'cajon', 'cajun', 'cake', 'cakes', 'calabash', 'calabaza', 'calabrian', 'calamansi', 'calamari', 'calamata', 'calcium', 'calendula', 'calf', 'california', 'calimyrna', 'callaloo', 'callebaut', 'callender', 'calorie', 'calrose', 'calumet', 'calvados', 'calves', 'camembert', 'campanelle', 'campari', 'campbell', 'camphor', 'canada', 'canadian', 'candied', 'candies', 'candiquick', 'candlenuts', 'candy', 'cane', 'canes', 'canilla', 'canister', 'canned', 'cannellini', 'cannelloni', 'canning', 'cannoli', 'canola', 'cans', 'cantaloupe', 'cantaloupes', 'canton', 'cantonese', 'cap', 'capacola', 'capelin', 'capellini', 'caper', 'capers', 'cappuccino', 'caps', 'captain', 'capuccino', 'cara', 'caramel', 'caramelized', 'caramels', 'carapelli', 'caraway', 'carb', 'carbohydrate', 'carbonated', 'carbquik', 'carcass', 'carcasses', 'cardamom', 'cardboard', 'caribbean', 'carl', 'carlo', 'carnaroli', 'carnation', 'carnations', 'carne', 'carob', 'carolina', 'carp', 'carpaccio', 'carrageen', 'carroll', 'carrot', 'carrots', 'cartilage', 'carton', 'cartons', 'carving', 'casbah', 'cascadian', 'casera', 'cashew', 'cashews', 'casing', 'casings', 'cassava', 'casserole', 'cassia', 'cassis', 'castelvetrano', 'caster', 'castor', 'cat', 'catalina', 'catelli', 'catfish', 'cattlemen', 'caul', 'cauldron', 'cauliflower', 'cavatapi', 'cavatappi', 'cavatelli', 'cavender', 'caviar', 'cayenne', 'cecco', 'cedar', 'celeriac', 'celery', 'cellentani', 'cellophane', 'celtic', 'cent', 'center', 'centers', 'cento', 'century', 'cereal', 'certified', 'certo', 'ceylon', 'chablis', 'chachere', 'chai', 'chain', 'challah', 'chambord', 'champagne', 'chana', 'chanco', 'chang', 'channa', 'chantaboon', 'chanterelle', 'chanterelles', 'chapssal', 'char', 'charcoal', 'chard', 'chardonnay', 'charred', 'chayote', 'chayotes', 'cheap', 'cheddar', 'cheddarwurst', 'chee', 'cheek', 'cheeks', 'cheerios', 'cheese', 'cheesecake', 'cheesecloth', 'cheeses', 'cheesy', 'cheetos', 'cheez', 'chef', 'chenel', 'chenin', 'cheong', 'chermoula', 'cherokee', 'cherries', 'cherry', 'cherrystone', 'chervil', 'chestnut', 'chestnuts', 'chevon', 'chevre', 'chewy', 'chex', 'chi', 'chia', 'chianti', 'chicago', 'chick', 'chicken', 'chickens', 'chickpea', 'chickpeas', 'chicks', 'chicory', 'chiffonade', 'chihuahua', 'chik', 'chile', 'chilean', 'chiles', 'chili', 'chilies', 'chilis', 'chilled', 'chilli', 'chimichurri', 'chinese', 'chip', 'chipits', 'chipolata', 'chipolte', 'chipotle', 'chipotles', 'chipped', 'chips', 'chitterlings', 'chive', 'chives', 'chlies', 'chlorella', 'chloride', 'chlorinated', 'chobani', 'chocolate', 'chocolates', 'choice', 'cholesterol', 'cholula', 'chong', 'chop', 'chops', 'chorize', 'chorizo', 'chourico', 'choux', 'chow', 'chowder', 'choy', 'choya', 'chubritsa', 'chuck', 'chunk', 'chunked', 'chunks', 'chunky', 'churned', 'churros', 'chutney', 'ciabatta', 'cider', 'cigars', 'cilantro', 'ciliegine', 'cinderella', 'cindy', 'cinghiale', 'cinnamon', 'cipollini', 'circles', 'circular', 'ciroc', 'citric', 'citron', 'citrus', 'city', 'clam', 'clamato', 'clams', 'clamshell', 'clarified', 'clasico', 'classic', 'classicmac', 'classico', 'classics', 'claussen', 'claw', 'claws', 'clean', 'cleaned', 'clear', 'clearjel', 'clementine', 'clementines', 'cling', 'clingstone', 'cloud', 'clove', 'clover', 'cloves', 'clovis', 'club', 'clusters', 'cm', 'co', 'coalho', 'coarsely', 'coarsley', 'coated', 'coating', 'coatings', 'cob', 'cobbler', 'cobia', 'cobs', 'coca', 'cocina', 'cockatiels', 'cocktail', 'cocktails', 'coco', 'cocoa', 'coconut', 'coconutmilk', 'coconuts', 'cocowhip', 'cod', 'coffee', 'coffeecake', 'cognac', 'coho', 'coin', 'coins', 'cointreau', 'coke', 'cola', 'colaciones', 'colada', 'colby', 'colcannon', 'cold', 'cole', 'coleman', 'coleslaw', 'collard', 'college', 'collins', 'color', 'colored', 'coloring', 'colors', 'colossal', 'colour', 'colouring', 'combination', 'combinbation', 'combine', 'combined', 'comfort', 'comice', 'completa', 'complete', 'completely', 'components', 'compote', 'compound', 'compressed', 'comte', 'comté', 'con', 'concentrate', 'concentrated', 'concern', 'conch', 'conchiglie', 'concord', 'condensed', 'condiment', 'condiments', 'cone', 'conecuh', 'cones', 'confection', 'confectioner', 'confectioners', 'confectionery', 'confetti', 'confit', 'consistency', 'consomme', 'construction', 'contadina', 'container', 'containers', 'conversation', 'converted', 'cook', 'cooked', 'cooker', 'cookers', 'cookie', 'cookies', 'cooking', 'cooks', 'cool', 'cooled', 'cooler', 'coors', 'coppa', 'corazon', 'core', 'cored', 'cores', 'coriander', 'corkscrew', 'corn', 'cornbread', 'corned', 'cornflake', 'cornflakes', 'cornhusks', 'cornichons', 'cornish', 'cornmeal', 'cornnuts', 'cornstarch', 'corona', 'cortland', 'cosmopolitan', 'costco', 'costeno', 'cotechino', 'cotes', 'cotija', 'cottage', 'cottas', 'cotto', 'cotton', 'coulis', 'count', 'country', 'county', 'courgette', 'courgettes', 'course', 'couscous', 'cove', 'cover', 'covered', 'cow', 'cowpeas', 'cox', 'coyote', 'crab', 'crabapples', 'crabmeat', 'crabs', 'cracked', 'cracker', 'crackers', 'cracklin', 'cracklings', 'craft', 'crafts', 'craisins', 'cran', 'cranberries', 'cranberry', 'crawfish', 'crazy', 'cream', 'creamed', 'creamer', 'creamy', 'creating', 'creations', 'crema', 'creme', 'cremini', 'crenshaw', 'creole', 'crepe', 'crepes', 'crescent', 'crescents', 'cricket', 'crimini', 'crimped', 'criollo', 'crisco', 'crisp', 'crispix', 'crisply', 'crisps', 'crispy', 'crock', 'crocker', 'croissants', 'croix', 'crookneck', 'croquettes', 'cross', 'crosse', 'crossways', 'crosswise', 'crostini', 'croutons', 'crowder', 'crown', 'crowns', 'crullers', 'crumb', 'crumbed', 'crumble', 'crumbled', 'crumbles', 'crumbs', 'crumpet', 'crunch', 'crunchies', 'crunchy', 'crush', 'crust', 'crusted', 'crustless', 'crusts', 'crusty', 'cruz', 'cruzan', 'crystal', 'crystallized', 'crystals', 'crème', 'cuban', 'cubanella', 'cubanelle', 'cube', 'cubed', 'cubes', 'cucumber', 'cucumbers', 'cuervo', 'cuisine', 'cukes', 'culantro', 'culinary', 'culture', 'cultured', 'cultures', 'cumin', 'cup', 'cupcake', 'cupcakes', 'cups', 'curacao', 'curd', 'curds', 'cure', 'cured', 'curing', 'curl', 'curls', 'curly', 'currant', 'currants', 'curried', 'curry', 'cushaw', 'custard', 'cut', 'cutlets', 'cuts', 'cutter', 'cutters', 'cutting', 'daal', 'daechu', 'daikon', 'daiquiri', 'dairy', 'daisy', 'daiya', 'dal', 'dalchini', 'dale', 'dam', 'damn', 'dandelion', 'dang', 'dangmyun', 'daniel', 'danish', 'dannon', 'darjeeling', 'dark', 'darker', 'dash', 'dashes', 'dashi', 'date', 'dates', 'dave', 'day', 'de', 'dean', 'debearded', 'deboned', 'decaf', 'decaffeinated', 'decals', 'decorate', 'decorating', 'decoration', 'decorations', 'decorative', 'decorator', 'decors', 'deep', 'deer', 'defrost', 'defrosted', 'deglaze', 'degree', 'degrees', 'dehydrated', 'dei', 'dekuyper', 'del', 'deli', 'delicata', 'delicious', 'delight', 'delightfulls', 'delmonico', 'deluxe', 'demerara', 'demi', 'demiglace', 'dense', 'dente', 'depending', 'deseeded', 'design', 'desilked', 'desired', 'dessert', 'deveined', 'devil', 'deviled', 'dew', 'dextrose', 'dhal', 'di', 'diagonal', 'diagonally', 'diameter', 'diamond', 'diavolo', 'dice', 'dickinson', 'diet', 'dietz', 'different', 'digestive', 'digiorno', 'dijon', 'dill', 'dinner', 'dino', 'dinosaur', 'dip', 'dipped', 'dipping', 'dips', 'directed', 'directions', 'dirt', 'dirty', 'disaronno', 'discard', 'discarded', 'discarding', 'discs', 'dish', 'disks', 'disney', 'disposable', 'dissolved', 'distilled', 'ditalini', 'divided', 'djan', 'dodge', 'doenjang', 'dog', 'dogs', 'dolce', 'dole', 'domestic', 'dominoes', 'done', 'dong', 'donut', 'donuts', 'doone', 'door', 'doritos', 'doubanjiang', 'double', 'dough', 'doughnut', 'doughnuts', 'dover', 'dr', 'dragees', 'dragon', 'drain', 'drained', 'drake', 'dramatically', 'drambuie', 'draught', 'draw', 'dream', 'dreamfields', 'dredging', 'dressed', 'dressing', 'dreyer', 'dried', 'drink', 'drippings', 'drizzle', 'drizzling', 'drop', 'drops', 'drum', 'drumettes', 'drummettes', 'drums', 'drumstick', 'drumsticks', 'dry', 'drying', 'du', 'dubliner', 'duck', 'duckling', 'ducklings', 'duct', 'duke', 'dukkah', 'dulce', 'dulces', 'dulse', 'dumpling', 'dumplings', 'duncan', 'dungeness', 'dunya', 'duoz', 'durian', 'durkee', 'durum', 'dusseldorf', 'dust', 'dusting', 'dutch', 'duty', 'dye', 'dyed', 'eagle', 'ear', 'earl', 'early', 'ears', 'earth', 'earthbound', 'easily', 'east', 'easter', 'eastern', 'easy', 'eat', 'eating', 'eckrich', 'eclair', 'edam', 'edamame', 'edge', 'edges', 'edible', 'editor', 'edy', 'eel', 'eg', 'egg', 'eggland', 'eggnog', 'eggo', 'eggplant', 'eggplants', 'eggs', 'egyptian', 'eight', 'eighths', 'either', 'el', 'elaichi', 'elberta', 'elbow', 'elbows', 'elderberries', 'elderflower', 'elephant', 'elk', 'else', 'embasa', 'emerald', 'emeril', 'emmental', 'emmentaler', 'emmenthaler', 'empty', 'emulsion', 'enchilada', 'enchilado', 'encona', 'end', 'endive', 'endives', 'endless', 'ends', 'ener', 'energy', 'england', 'english', 'enhancer', 'enjoy', 'enoki', 'enough', 'enriched', 'entenmann', 'envelope', 'envelopes', 'epazote', 'equal', 'equivalent', 'erythritol', 'escargots', 'escarole', 'especial', 'espelette', 'espresso', 'essence', 'essentials', 'estate', 'etc', 'ethiopian', 'europe', 'european', 'evan', 'evans', 'evaporated', 'even', 'evenly', 'everclear', 'everglades', 'everyday', 'everything', 'ew', 'except', 'excess', 'exclude', 'excluding', 'express', 'extra', 'extract', 'extracted', 'eye', 'eyeballs', 'eyed', 'eyes', 'ez', 'fabada', 'face', 'factory', 'fage', 'fah', 'fajita', 'fajitas', 'falafel', 'fall', 'family', 'famous', 'fancy', 'farang', 'farfalle', 'farfel', 'farina', 'farl', 'farm', 'farmer', 'farmers', 'farmhouse', 'farmland', 'farms', 'farro', 'fashioned', 'fast', 'fat', 'fatback', 'fattier', 'fatty', 'fava', 'favorite', 'fe', 'fed', 'fee', 'feet', 'female', 'fennel', 'fenugreek', 'fermented', 'ferns', 'feta', 'fettuccine', 'fettuccini', 'fettucine', 'fiber', 'fiddlehead', 'fiddleheads', 'fideo', 'field', 'fiesta', 'fifths', 'fig', 'figs', 'filberts', 'file', 'filet', 'filets', 'filing', 'filipino', 'fill', 'filled', 'fillet', 'fillets', 'filling', 'fillings', 'filter', 'filtered', 'filters', 'fin', 'final', 'fines', 'finger', 'fingerling', 'fingers', 'finish', 'finishing', 'finlandia', 'fino', 'fiori', 'fire', 'fireball', 'fireweed', 'firm', 'firmly', 'first', 'fish', 'fit', 'five', 'fixings', 'fizz', 'fizzy', 'fl', 'flagship', 'flake', 'flaked', 'flakes', 'flaky', 'flan', 'flank', 'flanken', 'flap', 'flared', 'flat', 'flatbread', 'flatbreads', 'flatout', 'flattened', 'flautas', 'flavor', 'flavored', 'flavoring', 'flavorless', 'flavors', 'flavoured', 'flax', 'flaxseed', 'fleischmann', 'flesh', 'fleshed', 'fleur', 'flexible', 'florentine', 'floret', 'florets', 'florida', 'floss', 'flounder', 'flour', 'flourless', 'flower', 'flowerets', 'flowers', 'fluff', 'fluffy', 'fluid', 'fly', 'foam', 'foamy', 'focaccia', 'foglie', 'foie', 'foil', 'folded', 'folgers', 'follow', 'follows', 'fond', 'fondant', 'fondue', 'fong', 'fontina', 'food', 'foods', 'footnote', 'forbidden', 'fordhook', 'forest', 'fork', 'form', 'formed', 'formula', 'fortified', 'fortress', 'foster', 'found', 'four', 'fourths', 'foxtrot', 'fragments', 'fragrant', 'fraiche', 'frais', 'framboise', 'frangelico', 'frangipane', 'frank', 'frankfurters', 'franks', 'fratelli', 'fred', 'free', 'freekeh', 'freestone', 'freeze', 'freezer', 'french', 'frenched', 'fresca', 'fresco', 'fresno', 'friday', 'fried', 'friendship', 'fries', 'frills', 'frisee', 'fritos', 'fritter', 'fritters', 'frog', 'fromage', 'fronds', 'frontera', 'froot', 'frosted', 'frosting', 'frothy', 'frozen', 'fructose', 'fruit', 'fruitcake', 'fruited', 'fruits', 'fruity', 'fry', 'fryer', 'frying', 'frymix', 'fudge', 'fuggles', 'fugi', 'fuji', 'full', 'fully', 'fulton', 'fumi', 'fun', 'funfetti', 'fungus', 'furikake', 'fusili', 'fusilli', 'fuyu', 'gai', 'gala', 'galangal', 'galletas', 'galliano', 'gallo', 'gallon', 'gallons', 'game', 'ganache', 'gandules', 'garae', 'garam', 'garbanzo', 'garbanzos', 'garden', 'gardenburger', 'gari', 'garland', 'garlic', 'garni', 'garnier', 'garnish', 'garnishes', 'garnishing', 'gastrique', 'gatorade', 'gay', 'gebhardt', 'gel', 'gelatin', 'gelato', 'gels', 'gemelli', 'general', 'generous', 'gennaro', 'genoa', 'genovese', 'gentiane', 'gently', 'germ', 'germain', 'german', 'germinated', 'gewurztraminer', 'gf', 'ghee', 'gherkin', 'gherkins', 'ghirardelli', 'ghost', 'ghosts', 'gianduja', 'giant', 'giardiniera', 'giblets', 'gills', 'gimme', 'gin', 'ginger', 'gingerade', 'gingerbread', 'gingered', 'gingerroot', 'gingersnap', 'gingersnaps', 'ginseng', 'girard', 'girl', 'gizzards', 'glace', 'glaces', 'glass', 'glasses', 'glaze', 'glazed', 'glazing', 'glen', 'glitter', 'globe', 'gloves', 'glucose', 'glue', 'glutamate', 'gluten', 'glutino', 'glutinous', 'glycerin', 'gnocchi', 'go', 'goat', 'gochugaru', 'gochujang', 'goddess', 'godiva', 'gods', 'going', 'goji', 'gojuchang', 'gold', 'golden', 'goldfish', 'goldings', 'goldish', 'goldust', 'gone', 'good', 'goodies', 'goodman', 'goodness', 'goose', 'gooseberries', 'gorgonzola', 'gouda', 'gourd', 'gourmet', 'goya', 'grade', 'graham', 'grahams', 'grain', 'grained', 'grains', 'grainy', 'gram', 'grams', 'gran', 'grana', 'grand', 'grandma', 'grandmother', 'grands', 'granita', 'granny', 'granola', 'granular', 'granulated', 'granules', 'grape', 'grapefruit', 'grapes', 'grapeseed', 'gras', 'grass', 'grater', 'gratin', 'gravenstein', 'gravlax', 'gravy', 'gravymaster', 'gray', 'grease', 'greasing', 'great', 'greek', 'green', 'greenery', 'greens', 'gremolata', 'grenadine', 'grey', 'grigio', 'grill', 'grille', 'grilled', 'grilling', 'grind', 'grinder', 'grinders', 'grinding', 'grinds', 'grits', 'groats', 'grocer', 'ground', 'grouper', 'grouse', 'grown', 'gruyere', 'gruyère', 'gua', 'guacamole', 'guajillo', 'guanciale', 'guar', 'guava', 'guavas', 'guinness', 'guittard', 'gulden', 'gulf', 'gum', 'gumbo', 'gumdrops', 'gummi', 'gummy', 'gutted', 'gwaltney', 'gyoza', 'gypsy', 'haas', 'habanero', 'habaneros', 'hachiya', 'haddock', 'hair', 'hake', 'hakurei', 'haldi', 'half', 'halibut', 'halloumi', 'halloween', 'halved', 'halves', 'ham', 'hamachi', 'hamburger', 'hand', 'handful', 'handle', 'hands', 'hangar', 'hanger', 'hanout', 'hard', 'hardwood', 'haricots', 'harina', 'harissa', 'harmless', 'harp', 'hartshorn', 'harvest', 'hash', 'hashbrowns', 'hass', 'hatch', 'haupia', 'havarti', 'hawaiian', 'hazelnut', 'hazelnuts', 'head', 'headless', 'heads', 'healthy', 'heaping', 'heart', 'hearts', 'hearty', 'heat', 'heated', 'heath', 'heavy', 'heels', 'heering', 'hefeweizen', 'heineken', 'heinz', 'heirloom', 'helix', 'hellman', 'hellmann', 'helper', 'hemp', 'hen', 'hendrick', 'hens', 'herb', 'herbal', 'herbamare', 'herbed', 'herbes', 'herbs', 'herbsaint', 'herdez', 'herman', 'hero', 'herring', 'hershey', 'hibiscus', 'hickory', 'hidden', 'high', 'hillshire', 'himalayan', 'hines', 'hing', 'hinged', 'hint', 'hispanic', 'hoagie', 'hock', 'hocks', 'hodgson', 'hog', 'hoisin', 'holders', 'holes', 'holiday', 'holland', 'hollandaise', 'hollowed', 'holly', 'holy', 'home', 'homemade', 'homestyle', 'hometown', 'hominy', 'hondashi', 'honey', 'honeycomb', 'honeycrisp', 'honeydew', 'honkers', 'hooters', 'hops', 'horizon', 'horizontally', 'hormel', 'horn', 'horseradish', 'hot', 'hothouse', 'hotness', 'hots', 'hour', 'hours', 'house', 'hp', 'hsing', 'hubbard', 'huckleberries', 'hugs', 'hull', 'hulled', 'hummus', 'hundred', 'hung', 'hungarian', 'hungry', 'hunt', 'hunts', 'husk', 'husked', 'husks', 'huy', 'hydrogenated', 'hydroxide', 'ibarra', 'ice', 'iceberg', 'iced', 'icing', 'ida', 'idaho', 'idahoan', 'ie', 'ii', 'imagine', 'imitation', 'immaculate', 'imperial', 'imported', 'inch', 'inches', 'included', 'including', 'indian', 'individual', 'individually', 'indonesian', 'indulgence', 'infant', 'infused', 'infusions', 'ingredient', 'ingredients', 'injectable', 'injection', 'injector', 'injera', 'ink', 'inn', 'inner', 'innovasian', 'insam', 'insects', 'inside', 'inspired', 'instacure', 'instant', 'instructions', 'intact', 'international', 'inthe', 'iodized', 'ipa', 'irish', 'iron', 'isaly', 'island', 'islands', 'israeli', 'italian', 'italiano', 'ivanhoe', 'jack', 'jackfruit', 'jagermeister', 'jaggery', 'jalapeno', 'jalapenos', 'jalapeño', 'jam', 'jamaican', 'jambalaya', 'jameed', 'jameson', 'jane', 'jap', 'japanese', 'japones', 'jar', 'jarlsberg', 'jarred', 'jars', 'jasmati', 'jasmine', 'jeera', 'jell', 'jellied', 'jello', 'jelly', 'jellybeans', 'jellyrolls', 'jemima', 'jen', 'jennie', 'jerk', 'jerry', 'jerusalem', 'jet', 'jewel', 'jewish', 'jicama', 'jicamas', 'jif', 'jiffy', 'jigger', 'jiggers', 'jim', 'jimmies', 'jimmy', 'joconde', 'joe', 'joes', 'johnagold', 'johnny', 'johnson', 'johnsonville', 'joint', 'joints', 'jolly', 'jonathan', 'jones', 'jose', 'jowl', 'joy', 'jr', 'juice', 'juiced', 'juices', 'juicing', 'juicy', 'jujube', 'julienne', 'julienned', 'jumbo', 'junior', 'juniper', 'jus', 'jwala', 'kaali', 'kabob', 'kabobs', 'kabocha', 'kabsa', 'kacha', 'kaffir', 'kahlua', 'kaiser', 'kala', 'kalamansi', 'kalamata', 'kalbi', 'kale', 'kalonji', 'kamut', 'kangaroo', 'kansas', 'kantong', 'karat', 'karo', 'karpoor', 'kary', 'kasandrino', 'kasha', 'kashmiri', 'kasih', 'kasoori', 'kasturi', 'kat', 'kataifi', 'katinka', 'kc', 'kecap', 'kee', 'keebler', 'keen', 'kefalotiri', 'kefir', 'kellogg', 'kelp', 'ken', 'kent', 'kentucky', 'kept', 'kern', 'kernel', 'kernels', 'kerr', 'ketchup', 'kettle', 'kewpie', 'key', 'keystone', 'khus', 'kibbeh', 'kid', 'kidney', 'kidneys', 'kids', 'kielbasa', 'kikkoman', 'kim', 'kimchee', 'kimchi', 'kind', 'king', 'kingsford', 'kirby', 'kirkland', 'kirsch', 'kirschwasser', 'kiss', 'kisses', 'kit', 'kitchen', 'kiwi', 'kiwifruit', 'kiwis', 'kix', 'klondike', 'kluski', 'kneading', 'knife', 'knipla', 'knoephla', 'knorr', 'knots', 'knotted', 'knox', 'knuckle', 'knudsen', 'kobe', 'kochujang', 'koeksisters', 'koftas', 'kohlrabi', 'koji', 'kombu', 'konbu', 'kool', 'korean', 'korma', 'kosher', 'koshi', 'kraft', 'kraken', 'kraprao', 'kraut', 'krazy', 'krispies', 'kroger', 'kucai', 'kum', 'kummelweck', 'kumquat', 'kumquats', 'la', 'label', 'labeled', 'labneh', 'lacinato', 'lactaid', 'lacy', 'lady', 'ladyfinger', 'ladyfingers', 'lager', 'lagunitas', 'laird', 'lakes', 'lamb', 'lan', 'land', 'langostinos', 'laphroiag', 'lapsang', 'lard', 'larger', 'lars', 'lasagna', 'lasagne', 'last', 'latex', 'latik', 'latina', 'latkes', 'latte', 'lattice', 'laughing', 'laura', 'laurel', 'lava', 'lavang', 'lavash', 'lavender', 'lawry', 'lay', 'layer', 'layered', 'layers', 'lb', 'le', 'lea', 'leaf', 'leafy', 'lean', 'leaner', 'least', 'leather', 'leave', 'leaves', 'leaving', 'lebanese', 'leche', 'lechera', 'leches', 'lecithin', 'lee', 'leek', 'leeks', 'left', 'leftover', 'leg', 'legs', 'leicester', 'lemon', 'lemonade', 'lemongrass', 'lemons', 'lengkuas', 'length', 'lengths', 'lengthwise', 'lentil', 'lentils', 'leones', 'less', 'lesueur', 'lettuce', 'lettuces', 'leveled', 'libby', 'licorice', 'lid', 'lids', 'life', 'ligament', 'light', 'lighten', 'lighter', 'lightlife', 'lightly', 'like', 'lillet', 'lily', 'lima', 'lime', 'limeade', 'limes', 'limon', 'limoncello', 'lindor', 'lindsay', 'lindt', 'liner', 'liners', 'ling', 'lingcod', 'lingonberries', 'lingonberry', 'linguica', 'linguine', 'linguini', 'lining', 'link', 'linked', 'links', 'lipped', 'lipton', 'liquefy', 'liqueur', 'liquid', 'liquor', 'lit', 'lite', 'liter', 'liters', 'little', 'littleneck', 'live', 'liver', 'livers', 'liverwurst', 'lo', 'loaf', 'loaves', 'lobster', 'lobsters', 'located', 'locatella', 'locatelli', 'locoto', 'log', 'loin', 'lollipop', 'london', 'long', 'longer', 'longhorn', 'loomi', 'loops', 'loosely', 'lop', 'lopez', 'loquat', 'loquats', 'lorann', 'lorna', 'lorraine', 'lotus', 'louis', 'louisiana', 'lower', 'lowfat', 'lox', 'luck', 'lucky', 'luke', 'lukewarm', 'lumaconi', 'lump', 'lumpfish', 'lumpia', 'lumps', 'lunch', 'luncheon', 'lung', 'lup', 'lychee', 'lychees', 'mac', 'maca', 'macadamia', 'macademia', 'macapuno', 'macaroni', 'macarons', 'macaroon', 'macaroons', 'macchiato', 'mace', 'macedonian', 'mache', 'machine', 'macintosh', 'mackerel', 'macoun', 'macrina', 'made', 'madeira', 'madras', 'mae', 'maekrua', 'mafalda', 'magazine', 'maggi', 'magic', 'magical', 'magnesium', 'maharaja', 'mahatma', 'mahi', 'mahleb', 'mai', 'maid', 'maifun', 'maille', 'maine', 'maitake', 'maja', 'major', 'make', 'maker', 'malagkit', 'malaysian', 'malbec', 'maldon', 'malibu', 'malitol', 'malt', 'malted', 'maltose', 'mam', 'mama', 'manchego', 'mandarin', 'mandoline', 'mango', 'mangoes', 'mangos', 'manicotti', 'manis', 'manischewitz', 'manteca', 'manuka', 'manwich', 'manzanilla', 'maple', 'maraschino', 'marble', 'marbled', 'marcona', 'mardi', 'margarine', 'margarita', 'margherita', 'maria', 'marias', 'marie', 'marinade', 'marinades', 'marinara', 'marinated', 'marinating', 'marion', 'marionberries', 'marjoram', 'mark', 'market', 'markets', 'marlin', 'marmalade', 'marmite', 'marnier', 'marrons', 'marrow', 'marsala', 'marshmallow', 'marshmallows', 'martha', 'martini', 'maruchan', 'marukan', 'mary', 'marzano', 'marzetti', 'marzettis', 'marzipan', 'masa', 'masago', 'masala', 'mascarpone', 'mash', 'mashed', 'masher', 'mask', 'mason', 'masoor', 'master', 'masterpiece', 'match', 'matcha', 'matchbox', 'matchlike', 'matchstick', 'matchsticks', 'mate', 'mates', 'mature', 'matzah', 'matzo', 'matzos', 'maui', 'maxwell', 'may', 'mayer', 'mayo', 'mayocoba', 'mayonnaise', 'maytag', 'mazin', 'mazola', 'mccain', 'mccann', 'mccormick', 'mcintosh', 'mct', 'meal', 'measure', 'measuring', 'meat', 'meatballs', 'meatless', 'meatloaf', 'meats', 'meaty', 'medal', 'medallions', 'media', 'mediterranean', 'medjool', 'medley', 'mein', 'melba', 'melissa', 'mellow', 'melon', 'melons', 'melt', 'melted', 'melting', 'melts', 'membrane', 'membranes', 'memphis', 'menthe', 'merguez', 'meringue', 'merlot', 'mesclun', 'mesquite', 'metal', 'methi', 'mex', 'mexene', 'mexi', 'mexican', 'mexicana', 'mexico', 'mexicorn', 'meyer', 'mezcal', 'mezze', 'mezzetta', 'miami', 'mian', 'michelada', 'michigan', 'michter', 'microgreens', 'microwave', 'microwaveable', 'microwaved', 'middle', 'middleneck', 'midori', 'mignon', 'mike', 'milano', 'mild', 'milder', 'milk', 'milkfat', 'milkfish', 'milkshakes', 'mill', 'milled', 'miller', 'millet', 'milliliter', 'mills', 'mincemeat', 'mineral', 'minestrone', 'mini', 'miniature', 'minis', 'mint', 'mints', 'minute', 'minutes', 'miracle', 'mirepoix', 'mirin', 'mirlitons', 'miso', 'miss', 'mission', 'mist', 'mister', 'mistika', 'mix', 'mixed', 'mixer', 'mixing', 'mixoflour', 'mixture', 'mizithra', 'mizuna', 'ml', 'mlo', 'mm', 'mocha', 'mochi', 'mochiko', 'modelo', 'moida', 'moist', 'moistened', 'moisture', 'mojito', 'mojo', 'molasses', 'mold', 'molds', 'mole', 'momokawa', 'monde', 'mongolian', 'monin', 'monk', 'monkfish', 'monosodium', 'monte', 'montenegro', 'monterey', 'month', 'montreal', 'moo', 'moon', 'moong', 'moons', 'moonshine', 'moose', 'mop', 'morcilla', 'morel', 'morello', 'mores', 'morgan', 'mori', 'moringa', 'moritas', 'morningstar', 'moroccan', 'morsels', 'mortadella', 'mortar', 'morton', 'moscato', 'moser', 'moss', 'mostaccioli', 'mostly', 'moto', 'motorvatin', 'mott', 'moulds', 'mountain', 'mousse', 'mouth', 'mozza', 'mozzarella', 'mr', 'mrs', 'ms', 'msg', 'mt', 'mu', 'much', 'muenster', 'muesli', 'muffin', 'muffins', 'mug', 'muir', 'mulato', 'mulberries', 'mullet', 'mulling', 'multi', 'multicolored', 'multigrain', 'mulyeot', 'mung', 'muscat', 'muscle', 'muscles', 'muscovado', 'mushroom', 'mushrooms', 'musketeers', 'musselman', 'mussels', 'mustard', 'mutton', 'myers', 'myun', 'naan', 'nabisco', 'nacho', 'nail', 'nam', 'nama', 'nameko', 'napa', 'napoletana', 'naruto', 'nasoya', 'nasturtium', 'natural', 'naturally', 'naturals', 'nature', 'naturegg', 'naval', 'navel', 'navy', 'neapolitan', 'near', 'nearly', 'necco', 'necessary', 'neck', 'necks', 'nectar', 'nectarine', 'nectarines', 'need', 'needed', 'neese', 'negra', 'negro', 'neon', 'nephew', 'neroli', 'nescafe', 'nesquick', 'nesquik', 'nestle', 'netting', 'nettle', 'nettles', 'neufchatel', 'neufchâtel', 'neutral', 'new', 'newcastle', 'newfoundland', 'newman', 'niblet', 'niblets', 'nibs', 'nickel', 'nicoise', 'nigari', 'nigella', 'nilla', 'nissin', 'noir', 'non', 'nondairy', 'none', 'nonpareil', 'nonpareils', 'nonstick', 'noodle', 'noodles', 'nopales', 'nopalitos', 'nordica', 'nori', 'north', 'northern', 'note', 'notes', 'nougat', 'nu', 'nugget', 'nuggets', 'number', 'nuoc', 'nut', 'nutella', 'nutmeg', 'nutritional', 'nuts', 'nutter', 'ny', 'nylon', 'oat', 'oatmeal', 'oats', 'oaxaca', 'ocean', 'octoberfest', 'octopus', 'odom', 'oelek', 'oetker', 'often', 'ogorki', 'oikos', 'oil', 'okra', 'oktoberfest', 'old', 'olde', 'olive', 'olives', 'olivia', 'omega', 'omelets', 'one', 'ones', 'onion', 'onions', 'open', 'opo', 'option', 'optional', 'options', 'orange', 'oranges', 'orchard', 'ore', 'orecchiette', 'oregano', 'oreo', 'oreos', 'organic', 'orgeat', 'oriental', 'original', 'originale', 'originals', 'orrington', 'ortega', 'orzo', 'oscar', 'ossobuco', 'otto', 'ottogi', 'ounce', 'ounces', 'outer', 'outs', 'ouzo', 'oval', 'ovalette', 'ovaltine', 'oven', 'overnight', 'overripe', 'owens', 'oxtail', 'oxtails', 'oyster', 'oysters', 'oz', 'paca', 'pace', 'pacific', 'pack', 'package', 'packaged', 'packages', 'packed', 'packet', 'packets', 'pad', 'padano', 'padi', 'padron', 'paella', 'paisano', 'pak', 'pale', 'paleo', 'palm', 'palouse', 'pam', 'pan', 'panang', 'pancake', 'pancakes', 'pancetta', 'pancit', 'pandan', 'paneer', 'paneriso', 'panettone', 'panko', 'panna', 'panquehue', 'pans', 'pantry', 'pao', 'papaccelle', 'papaya', 'papayas', 'papayiannides', 'paper', 'pappardelle', 'pappy', 'paprika', 'paraffin', 'parboiled', 'parchment', 'pared', 'pareils', 'pareve', 'parilla', 'paris', 'parisian', 'park', 'parkay', 'parker', 'parma', 'parmagiano', 'parmesan', 'parmigiano', 'parsley', 'parsnip', 'parsnips', 'part', 'partially', 'partridge', 'parts', 'party', 'pasa', 'pasilla', 'paso', 'passata', 'passing', 'passion', 'passover', 'pasta', 'paste', 'pastel', 'pasteurized', 'pastina', 'pastor', 'pastrami', 'pastries', 'pastry', 'pat', 'patagonian', 'patak', 'patch', 'pate', 'patis', 'pato', 'patron', 'pats', 'patted', 'pattern', 'patterson', 'patties', 'patty', 'pattypan', 'paul', 'paula', 'pav', 'pawpaw', 'pb', 'pea', 'peach', 'peaches', 'peak', 'peaks', 'peanut', 'peanuts', 'pear', 'pearl', 'pearled', 'pearlini', 'pearlized', 'pearls', 'pears', 'peas', 'pebbles', 'pecan', 'pecans', 'pecorino', 'pectin', 'pee', 'peel', 'peeled', 'peeler', 'peelings', 'peels', 'peeps', 'peg', 'pekoe', 'pellegrino', 'pellets', 'penne', 'penzey', 'penzeys', 'penzy', 'pepe', 'peperoncini', 'pepitas', 'peppadew', 'peppadrops', 'pepper', 'peppercorn', 'peppercorns', 'peppered', 'pepperidge', 'pepperjack', 'peppermint', 'pepperoncini', 'pepperoni', 'peppers', 'peppery', 'peppino', 'pequin', 'per', 'perch', 'perfect', 'perfectly', 'peri', 'perlato', 'perle', 'perline', 'pernod', 'perrier', 'perrins', 'persian', 'persimmon', 'persimmons', 'peruvian', 'pesto', 'pet', 'petal', 'petals', 'pete', 'peter', 'petes', 'petite', 'peychaud', 'pheasant', 'pheasants', 'phil', 'philadelphia', 'pho', 'phyllo', 'pica', 'picante', 'picapeppa', 'pickapeppa', 'picked', 'pickle', 'pickled', 'pickles', 'pickling', 'picks', 'picnic', 'pico', 'picon', 'pie', 'piece', 'pieces', 'pierced', 'pierogies', 'pies', 'pig', 'pigeon', 'pignoli', 'pilaf', 'pillsbury', 'piloncillo', 'pilsner', 'pimenta', 'pimento', 'pimenton', 'pimentos', 'pimiento', 'pimientos', 'pimm', 'pin', 'pina', 'pinch', 'pinches', 'pine', 'pineapple', 'pinenuts', 'pink', 'pinot', 'pinquito', 'pint', 'pinto', 'pints', 'pipette', 'piping', 'pippin', 'piquillo', 'piri', 'pisco', 'pistachio', 'pistachios', 'pistolette', 'pit', 'pita', 'pitas', 'pitaya', 'pitch', 'pith', 'pits', 'pizza', 'pizzas', 'pkg', 'pla', 'place', 'plank', 'planks', 'plantain', 'plantains', 'planters', 'plastic', 'plata', 'plochman', 'ploy', 'plucked', 'plum', 'plump', 'plumped', 'plums', 'pluots', 'plus', 'poached', 'poaching', 'poblano', 'pocket', 'pocketless', 'pockets', 'pod', 'pods', 'point', 'polenta', 'polish', 'pollock', 'polska', 'polskie', 'polydextrose', 'pomegranate', 'pomegranates', 'pomfret', 'pompano', 'ponzu', 'poolish', 'pop', 'popchips', 'popcorn', 'popped', 'popping', 'poppy', 'poppyseed', 'pops', 'popsicle', 'porcini', 'pork', 'port', 'portabella', 'portabello', 'porter', 'porterhouse', 'portion', 'portions', 'portobella', 'portobello', 'portuguese', 'possible', 'post', 'pot', 'potato', 'potatoes', 'potpourri', 'potsticker', 'potstickers', 'pouch', 'pouches', 'poulet', 'poultry', 'pound', 'pounded', 'pounds', 'poupon', 'powder', 'prague', 'praline', 'prawn', 'prawns', 'pre', 'prebaked', 'precooked', 'prefer', 'preferably', 'preferred', 'prego', 'premade', 'premier', 'premium', 'prepared', 'preparing', 'prerolled', 'preserved', 'preserves', 'preserving', 'presidente', 'pressed', 'pressurized', 'pretzel', 'pretzels', 'prevent', 'prewashed', 'pricked', 'prickly', 'pride', 'prik', 'primal', 'primavera', 'prime', 'private', 'process', 'processed', 'processor', 'product', 'professional', 'progresso', 'prohibition', 'pronto', 'proof', 'prosciutto', 'prosecco', 'protein', 'provence', 'provolone', 'prudhomme', 'prune', 'prunes', 'psyllium', 'pucker', 'pudding', 'pueblo', 'puerto', 'puff', 'puffed', 'puffs', 'pulique', 'pulled', 'pulp', 'pumpernickel', 'pumpernikel', 'pumpkin', 'pumpkins', 'punch', 'puppy', 'purchased', 'pure', 'puree', 'pureed', 'purely', 'puri', 'purple', 'purpose', 'purslane', 'pushcart', 'pushed', 'puss', 'quail', 'quaker', 'quality', 'quantity', 'quark', 'quart', 'quarter', 'quartered', 'quarters', 'quarts', 'que', 'queen', 'queijo', 'quesadilla', 'quesadillas', 'queso', 'quiche', 'quick', 'quina', 'quince', 'quinces', 'quinoa', 'quinquina', 'quorn', 'rabbit', 'rabe', 'rack', 'racks', 'radiatore', 'radicchio', 'radish', 'radishes', 'raffaello', 'ragu', 'rainbow', 'rainbows', 'rainier', 'raised', 'raisin', 'raisins', 'rajma', 'raman', 'ramekins', 'ramen', 'ramps', 'ramyonsari', 'ranch', 'rancher', 'rancherito', 'ranchero', 'rapid', 'rapidrise', 'rapunzel', 'rare', 'ras', 'raspberries', 'raspberry', 'rava', 'ravioli', 'raw', 'ray', 'razor', 'rbgh', 'rbst', 'ready', 'real', 'realemon', 'realfruit', 'realime', 'reblochon', 'recao', 'recently', 'recipe', 'recipes', 'recommended', 'reconstituted', 'rectangles', 'rectangular', 'red', 'reddi', 'redfish', 'redhot', 'redmond', 'redpack', 'reds', 'reduce', 'reduced', 'reduction', 'reese', 'refined', 'refried', 'refrigerated', 'refrigerator', 'refritos', 'reggiano', 'regular', 'rehydrated', 'relish', 'remaining', 'remoulade', 'removable', 'remove', 'removed', 'removing', 'rendang', 'rendered', 'renee', 'rennet', 'replacement', 'replacer', 'reposado', 'request', 'resealable', 'resembling', 'reserve', 'reserved', 'reserving', 'resistant', 'rest', 'restaurant', 'retained', 'retied', 'reynolds', 'rhine', 'rhodes', 'rhone', 'rhubarb', 'rib', 'ribbons', 'ribeye', 'ribs', 'rican', 'rice', 'riced', 'ricer', 'riceselect', 'rich', 'ricotta', 'ridged', 'riesling', 'rigatoni', 'right', 'rim', 'rimming', 'rims', 'rind', 'rinded', 'rinds', 'ring', 'rings', 'rinsed', 'ripe', 'ripened', 'ripped', 'rippled', 'rise', 'rising', 'risotto', 'ritz', 'river', 'ro', 'road', 'roast', 'roasted', 'roasting', 'roasts', 'robusto', 'rock', 'rocket', 'rockfish', 'rocky', 'rods', 'roe', 'rojo', 'roll', 'rolled', 'rolling', 'rolls', 'rolo', 'roma', 'romaine', 'romanesco', 'romano', 'rome', 'roni', 'ronzoni', 'rooibos', 'room', 'root', 'roots', 'roquefort', 'rosarita', 'rose', 'rosemary', 'roses', 'rosewater', 'rossi', 'rosé', 'rotel', 'rotelle', 'roth', 'rotini', 'rotisserie', 'rouge', 'rough', 'roughly', 'roughy', 'round', 'rounds', 'route', 'roux', 'rows', 'royal', 'rub', 'rubbed', 'ruby', 'ruffles', 'rum', 'rumchata', 'rump', 'run', 'rush', 'russet', 'russets', 'russian', 'rustic', 'rutabaga', 'rutabagas', 'ruth', 'rye', 'sa', 'sabut', 'saccharine', 'sack', 'saco', 'saeujeot', 'saewujeot', 'saf', 'safe', 'safflower', 'saffron', 'sage', 'sago', 'saigon', 'sailor', 'sake', 'salad', 'salami', 'salata', 'salemville', 'salmon', 'salmonberries', 'salsa', 'salsita', 'salt', 'salted', 'saltine', 'salty', 'salvadoran', 'salvadorena', 'sam', 'sambal', 'sambar', 'sambazon', 'sambuca', 'samosa', 'samuel', 'san', 'sancerre', 'sandies', 'sanding', 'sandwich', 'sandwiches', 'sangiovese', 'sangria', 'santa', 'sanuf', 'sara', 'sardines', 'sargento', 'sashimi', 'saskatoon', 'sassafras', 'satay', 'satsuma', 'saturei', 'sauce', 'sauces', 'sauerkraut', 'saury', 'sausage', 'sausagemeat', 'sausages', 'saute', 'sauteed', 'sauteing', 'sauterne', 'sauternes', 'sauvignon', 'sauza', 'save', 'saved', 'savory', 'savoury', 'savoy', 'sawed', 'sawyer', 'sazon', 'sazonador', 'scalded', 'scaled', 'scallion', 'scallions', 'scallop', 'scalloped', 'scallops', 'scaloppini', 'scant', 'scape', 'scapes', 'schnapps', 'school', 'schubert', 'scissors', 'scones', 'scoop', 'scooped', 'scoops', 'scored', 'scotch', 'scout', 'scrambled', 'scraped', 'scrapple', 'scraps', 'scrubbed', 'se', 'sea', 'seafood', 'seal', 'seamless', 'seared', 'seashell', 'season', 'seasonal', 'seasoned', 'seasoning', 'seasonings', 'seasons', 'seattle', 'seaweed', 'sec', 'seco', 'second', 'secret', 'secrets', 'section', 'sectioned', 'sections', 'see', 'seed', 'seeded', 'seedless', 'seeds', 'seedy', 'segmented', 'segments', 'seitan', 'sel', 'select', 'selection', 'self', 'seltzer', 'semi', 'semifreddo', 'semisweet', 'semolina', 'sencha', 'sensations', 'separate', 'separated', 'separately', 'serrano', 'serve', 'serviceberries', 'serving', 'servings', 'sesame', 'set', 'setting', 'seven', 'several', 'seville', 'sfq', 'shade', 'shake', 'shaken', 'shakka', 'shallot', 'shallots', 'shank', 'shanks', 'shao', 'shaoxing', 'shape', 'shaped', 'shapes', 'shark', 'sharp', 'sharpness', 'shaved', 'shavings', 'shears', 'sheep', 'sheeps', 'sheet', 'sheets', 'shelby', 'shelf', 'shell', 'shelled', 'shellfish', 'shells', 'sherbet', 'sherry', 'shichimi', 'shiitake', 'shimeji', 'shiner', 'shirakiku', 'shirataki', 'shiraz', 'shiro', 'shishito', 'shoe', 'shoepeg', 'shoestring', 'shoga', 'shoot', 'shoots', 'shopping', 'shore', 'short', 'shortbread', 'shortcake', 'shortcakes', 'shortcrust', 'shortening', 'shot', 'shots', 'shoulder', 'shoyu', 'shredded', 'shreds', 'shrimp', 'shu', 'shucked', 'sic', 'sichuan', 'sicilia', 'side', 'sides', 'sieve', 'sieved', 'siew', 'sifted', 'signature', 'silk', 'silken', 'silks', 'silver', 'silverbeet', 'similar', 'simmering', 'simple', 'simply', 'sinew', 'single', 'singles', 'sirloin', 'sister', 'sit', 'siu', 'six', 'sixteen', 'sixths', 'size', 'sized', 'skewer', 'skewers', 'skillet', 'skim', 'skimmed', 'skin', 'skinless', 'skinned', 'skins', 'skirt', 'skittles', 'skor', 'skyline', 'skyy', 'slab', 'slabs', 'slant', 'slap', 'slaw', 'sleeve', 'sleeves', 'slender', 'slice', 'sliceable', 'sliced', 'slicer', 'slices', 'slicing', 'slider', 'slightly', 'slim', 'slit', 'slits', 'sliver', 'slivered', 'slivers', 'sloe', 'sloppy', 'slow', 'slush', 'small', 'smaller', 'smart', 'smashed', 'smelt', 'smirnoff', 'smith', 'smithfield', 'smoke', 'smoked', 'smokehouse', 'smoker', 'smokey', 'smokie', 'smokies', 'smoking', 'smoky', 'smooth', 'smoothie', 'smucker', 'snack', 'snacks', 'snails', 'snap', 'snapped', 'snapper', 'snappers', 'snapple', 'snaps', 'snickers', 'snip', 'snipped', 'snipping', 'snow', 'soaked', 'soaking', 'soba', 'sockeye', 'soda', 'sodium', 'sofrito', 'soft', 'softasilk', 'soften', 'softened', 'soju', 'sole', 'solid', 'solo', 'solution', 'somen', 'son', 'sonoma', 'sooji', 'soon', 'sopes', 'sorbet', 'sorghum', 'sorrel', 'sorted', 'sottocenere', 'souchong', 'souffle', 'soul', 'soup', 'sour', 'sourball', 'sourdough', 'soursop', 'south', 'southern', 'southwest', 'southwestern', 'souvlaki', 'soy', 'soybean', 'soybeans', 'soymilk', 'spaghetti', 'spaghettini', 'spam', 'spanish', 'spare', 'spareribs', 'sparking', 'sparkling', 'spear', 'spearmint', 'spears', 'special', 'specialty', 'speckled', 'spectrum', 'speculoos', 'spelt', 'spent', 'spheres', 'spice', 'spiced', 'spices', 'spicier', 'spicy', 'spike', 'spinach', 'spines', 'spiral', 'spiralized', 'spirals', 'spirulina', 'spit', 'splash', 'splashes', 'splenda', 'split', 'sponge', 'spoon', 'spoonable', 'spooned', 'spoons', 'sport', 'sports', 'spot', 'spray', 'sprays', 'spread', 'spreadable', 'spreadables', 'spreading', 'sprig', 'sprigs', 'spring', 'springform', 'sprinkle', 'sprinkles', 'sprinkling', 'sprite', 'spritzed', 'spritzer', 'sprouted', 'sprouts', 'spumante', 'spun', 'square', 'squares', 'squash', 'squashes', 'squeezable', 'squeeze', 'squeezed', 'squeezes', 'squid', 'squirrels', 'sriracha', 'st', 'stable', 'stacked', 'stale', 'stalk', 'stalks', 'stamen', 'stand', 'standard', 'standing', 'star', 'starbucks', 'starburst', 'starch', 'starchy', 'starlight', 'stars', 'start', 'starter', 'starters', 'state', 'staybrite', 'steak', 'steakhouse', 'steaks', 'steam', 'steamcrisp', 'steamed', 'steamer', 'steamers', 'steamfresh', 'steaming', 'steel', 'steelhead', 'stella', 'stem', 'stemmed', 'stems', 'stencils', 'step', 'sterilized', 'steve', 'stevia', 'stew', 'stewed', 'stewing', 'stick', 'stickers', 'sticks', 'sticky', 'stiff', 'stiffly', 'still', 'stilton', 'stinging', 'stir', 'stirred', 'stock', 'stoli', 'stomach', 'stone', 'stones', 'stonewall', 'storage', 'store', 'stout', 'stove', 'stovetop', 'strained', 'strands', 'straw', 'strawberries', 'strawberry', 'straws', 'stray', 'strength', 'streusel', 'string', 'strings', 'strip', 'stripe', 'striped', 'stripes', 'stripped', 'strips', 'strong', 'strongly', 'struffoli', 'stuf', 'stuffed', 'stuffing', 'stumptown', 'sturdy', 'style', 'styrofoam', 'su', 'sub', 'submarine', 'substitute', 'substituted', 'substitutes', 'sucanat', 'succotash', 'suckling', 'sucralose', 'sucrolose', 'suet', 'sueur', 'sugar', 'sugars', 'suggested', 'suggestions', 'suisse', 'suitable', 'sukhi', 'sukiyaki', 'sultana', 'sultanas', 'sum', 'sumac', 'summer', 'sun', 'sunchokes', 'sundae', 'sunflower', 'sunnyd', 'sunrise', 'sunsweet', 'super', 'superfine', 'supplement', 'supreme', 'sure', 'surface', 'surimi', 'surprise', 'sushi', 'sutton', 'svedka', 'swai', 'swan', 'swans', 'swanson', 'sweet', 'sweetbreads', 'sweetened', 'sweetener', 'swirl', 'swiss', 'swordfish', 'syrah', 'syrian', 'syrup', 'szechuan', 'szechwan', 'tabasco', 'table', 'tablespoon', 'tablespoons', 'tablet', 'tablets', 'taco', 'tacos', 'tagine', 'tagliatelle', 'tahini', 'tai', 'tail', 'tails', 'tajin', 'tall', 'tamale', 'tamales', 'tamari', 'tamarind', 'tandoori', 'tang', 'tangerine', 'tangerines', 'tango', 'tangy', 'tanqueray', 'tap', 'tapatio', 'tape', 'tapenade', 'tapioca', 'taquitos', 'tarbais', 'tarka', 'taro', 'tarragon', 'tart', 'tartar', 'tartaric', 'tartine', 'tarts', 'tasso', 'taste', 'tastefully', 'taster', 'tasters', 'tater', 'tawny', 'tazo', 'tea', 'teabags', 'teardrop', 'teaspoon', 'teaspoons', 'teddy', 'teff', 'tel', 'telera', 'tempeh', 'temperature', 'tempering', 'tempura', 'tender', 'tenderflake', 'tenderized', 'tenderizer', 'tenderloin', 'tenderloins', 'tenders', 'tenkasu', 'tennessee', 'tentacles', 'tepid', 'tequila', 'teriyaki', 'tex', 'texas', 'texmati', 'texture', 'textured', 'texturized', 'tgi', 'thai', 'thaw', 'thawed', 'thick', 'thicken', 'thickly', 'thickness', 'thigh', 'thighs', 'thin', 'thinly', 'thinner', 'thins', 'third', 'thirds', 'thompson', 'thoroughly', 'thousand', 'thread', 'threads', 'three', 'thyme', 'ti', 'tia', 'tidbits', 'tie', 'tied', 'ties', 'tiger', 'tightly', 'tilapia', 'tillamook', 'time', 'times', 'tin', 'tinted', 'tiny', 'tio', 'tip', 'tipo', 'tips', 'tiramisu', 'tire', 'tito', 'tm', 'toast', 'toasted', 'toaster', 'toasting', 'toasts', 'toban', 'tobiko', 'toenjang', 'toffee', 'tofu', 'tofutti', 'togarashi', 'together', 'toll', 'tom', 'tomatillo', 'tomatillos', 'tomato', 'tomatoes', 'tombstones', 'ton', 'tongue', 'tongues', 'tonic', 'tonkatsu', 'tony', 'toor', 'toothpick', 'toothpicks', 'tootsie', 'top', 'topping', 'toppings', 'tops', 'torani', 'torched', 'torn', 'torpedo', 'tortellini', 'tortiglioni', 'tortilla', 'tortillas', 'toscano', 'tostada', 'tostadas', 'tostidos', 'tostito', 'tostitos', 'total', 'tots', 'touch', 'tough', 'toulouse', 'towel', 'towels', 'town', 'trader', 'traditional', 'trail', 'trans', 'transparent', 'tray', 'trays', 'treacle', 'treated', 'treats', 'tres', 'tri', 'triangles', 'trifle', 'triglyceride', 'trimmed', 'trimmings', 'trio', 'tripe', 'triple', 'triscuit', 'trompette', 'tropical', 'trouble', 'trout', 'truffle', 'truffled', 'truffles', 'trumpet', 'truroots', 'truvia', 'tsang', 'tteok', 'tub', 'tube', 'tubes', 'tubs', 'tumeric', 'tuna', 'tung', 'tupelo', 'turban', 'turbinado', 'turkey', 'turkeys', 'turkish', 'turmeric', 'turnip', 'turnips', 'turtle', 'tuscan', 'tuvar', 'tvp', 'twelve', 'twice', 'twigs', 'twin', 'twine', 'twinkies', 'twist', 'twisted', 'twists', 'twizzlers', 'two', 'tying', 'type', 'tyson', 'tzatziki', 'ube', 'udi', 'udon', 'ultragrain', 'umbrellas', 'unagi', 'unbaked', 'unbleached', 'unchopped', 'uncle', 'uncooked', 'uncured', 'uncut', 'underripe', 'undiluted', 'undrained', 'undyed', 'unfiltered', 'unflavored', 'unfolded', 'unhusked', 'unopened', 'unpacked', 'unpasteurized', 'unpeeled', 'unpopped', 'unprepared', 'unprocessed', 'unrefined', 'unrinsed', 'unripe', 'unrolled', 'unseasoned', 'unshelled', 'unsifted', 'unsliced', 'unsmoked', 'unsplit', 'unsulfured', 'unsweetened', 'unthawed', 'untoasted', 'untreated', 'untrimmed', 'unwashed', 'unwrap', 'unwrapped', 'ups', 'upside', 'urad', 'urfa', 'use', 'used', 'using', 'utz', 'uv', 'vacuum', 'valdeon', 'valencia', 'valentina', 'valley', 'value', 'vanilla', 'vareniky', 'varenyky', 'varies', 'varieties', 'variety', 'vay', 'veal', 'veg', 'vega', 'vegan', 'veganaise', 'vegata', 'vegemite', 'vegenaise', 'vegeta', 'vegetable', 'vegetables', 'vegetarian', 'veggie', 'veggies', 'vein', 'veined', 'veins', 'velveeta', 'velvet', 'venice', 'venison', 'vera', 'verbena', 'verde', 'verdelho', 'vermicelli', 'vermont', 'vermouth', 'vernors', 'vertically', 'verts', 'vh', 'via', 'vidalia', 'vietnamese', 'vietti', 'vinaigrette', 'vindaloo', 'vine', 'vinegar', 'vines', 'vino', 'violet', 'virgin', 'virginia', 'visible', 'vital', 'vitamin', 'vitar', 'vodka', 'voskos', 'wafer', 'wafers', 'waffle', 'waffles', 'wages', 'wagon', 'wakame', 'walden', 'walla', 'walleye', 'walnut', 'walnuts', 'want', 'warm', 'warmed', 'wasabi', 'wash', 'washed', 'washington', 'water', 'watercress', 'watermelon', 'watermelons', 'waters', 'watkins', 'watson', 'wavy', 'wax', 'waxed', 'way', 'wear', 'weber', 'wedge', 'wedged', 'wedges', 'wee', 'weed', 'wegmans', 'weight', 'weiners', 'welch', 'well', 'werther', 'wesson', 'west', 'wet', 'whatever', 'wheat', 'wheel', 'wheels', 'whey', 'whip', 'whipped', 'whipping', 'whips', 'whisked', 'whiskey', 'whisky', 'white', 'whitefish', 'whitelily', 'whites', 'whiting', 'whiz', 'whole', 'wholesome', 'wholly', 'wide', 'wider', 'width', 'widthwise', 'wieners', 'wilco', 'wild', 'wildflower', 'willamette', 'williams', 'williamsburg', 'wilted', 'wilton', 'wine', 'wing', 'wings', 'wingtips', 'winter', 'wip', 'wisconsin', 'wise', 'wish', 'wishbone', 'witch', 'without', 'wok', 'wolf', 'wolfberries', 'wonder', 'wonderful', 'wondra', 'wong', 'wonton', 'wontons', 'wood', 'woodchuck', 'wooden', 'woodruff', 'woods', 'worcestershire', 'work', 'works', 'world', 'worm', 'worms', 'wrap', 'wrapped', 'wrapper', 'wrappers', 'wrapping', 'wraps', 'wray', 'wuyi', 'xanthan', 'xx', 'ya', 'yacon', 'yakisoba', 'yam', 'yams', 'yards', 'yautia', 'yazzo', 'year', 'yeast', 'yellow', 'yellowfin', 'yellowtail', 'yerba', 'yogurt', 'yolk', 'yolks', 'yoplait', 'york', 'yorkshire', 'young', 'yu', 'yuca', 'yucca', 'yuengling', 'yukon', 'yum', 'yuzu', 'yves', 'za', 'zaanse', 'zaatar', 'zang', 'zapallo', 'zatarain', 'zatarains', 'zatarian', 'zen', 'zest', 'zested', 'zesty', 'zinfandel', 'zing', 'zip', 'ziti', 'zucchini', 'zucchinis', 'zwieback']\n"
     ]
    }
   ],
   "source": [
    "# TF-IDF vectorizer\n",
    "\n",
    "tf_vectorizer = TfidfVectorizer(stop_words = our_stopwords)\n",
    "ingr_tfidf = tf_vectorizer.fit_transform(corpus)\n",
    "\n",
    "print(tf_vectorizer.get_feature_names())"
   ]
  },
  {
   "cell_type": "code",
   "execution_count": null,
   "id": "143a1b22",
   "metadata": {},
   "outputs": [],
   "source": [
    "# # MATRIX FACTORIZATION\n",
    "# # ! This is a standard machine learning approach that can also be used for topic modeling\n",
    "# # ! We will review two techniques:\n",
    "# # ! Latent Semantic Analysis (LSA)\n",
    "# # ! Non-Negative Matrix Factorization (NMF)\n",
    "\n",
    "# Input: Count Vectorizer or TF-IDF Vectorizer ! Parameters to Tune:\n",
    "# ! Number of Topics\n",
    "# ! Text Preprocessing (stop words, min / max doc freq, parts of speech...) ! Output: U Matrix (terms —> topics) and V Matrix (documents —> topics)"
   ]
  },
  {
   "cell_type": "code",
   "execution_count": null,
   "id": "dd532297",
   "metadata": {},
   "outputs": [],
   "source": [
    "# LDA DOES THIS IN REVERSE\n",
    "# ! Start with a corpus of documents\n",
    "# ! Assume some topic distribution in each document\n",
    "# ! Assume some word distribution in each topic\n",
    "# ! Look at the corpus and try to find what topic and word distributions would be most likely to generate that data"
   ]
  },
  {
   "cell_type": "code",
   "execution_count": 30,
   "id": "5e7ee139",
   "metadata": {},
   "outputs": [
    {
     "data": {
      "text/plain": [
       "array([0.09720144, 0.08268993, 0.06300417, 0.04362109, 0.03649215,\n",
       "       0.02543737, 0.01978484, 0.01812392, 0.01569217, 0.01515764])"
      ]
     },
     "execution_count": 30,
     "metadata": {},
     "output_type": "execute_result"
    }
   ],
   "source": [
    "# # MATRIX FACTORIZATION: Latent Semantic Analysis (LSA)\n",
    "\n",
    "lsa_10 = TruncatedSVD(10)  \n",
    "corpus_lsa_10 = lsa_10.fit_transform(ingr_ct)\n",
    "lsa_10.explained_variance_ratio_"
   ]
  },
  {
   "cell_type": "code",
   "execution_count": 31,
   "id": "303e64ea",
   "metadata": {},
   "outputs": [],
   "source": [
    "def display_topics(model, feature_names, no_top_words, topic_names=None):\n",
    "    for ix, topic in enumerate(model.components_):\n",
    "        if not topic_names or not topic_names[ix]:\n",
    "            print(\"\\nTopic \", ix)\n",
    "        else:\n",
    "            print(\"\\nTopic: '\",topic_names[ix],\"'\")\n",
    "        print(\", \".join([feature_names[i]\n",
    "                        for i in topic.argsort()[:-no_top_words - 1:-1]]))"
   ]
  },
  {
   "cell_type": "code",
   "execution_count": 32,
   "id": "de321d64",
   "metadata": {
    "scrolled": true
   },
   "outputs": [
    {
     "name": "stdout",
     "output_type": "stream",
     "text": [
      "\n",
      "Topic  0\n",
      "cup, teaspoon, cups, tablespoons, ground, ounce, salt, sugar, pepper, tablespoon\n",
      "\n",
      "Topic  1\n",
      "pepper, ounce, teaspoon, ground, tablespoons, taste, tablespoon, garlic, black, onion\n",
      "\n",
      "Topic  2\n",
      "teaspoon, ground, baking, sugar, powder, flour, extract, purpose, cinnamon, salt\n",
      "\n",
      "Topic  3\n",
      "cup, tablespoons, pepper, taste, tablespoon, oil, garlic, olive, black, red\n",
      "\n",
      "Topic  4\n",
      "cups, tablespoons, sugar, tablespoon, white, teaspoons, butter, flour, purpose, water\n",
      "\n",
      "Topic  5\n",
      "tablespoons, ounce, sugar, teaspoon, white, package, butter, sauce, juice, vanilla\n",
      "\n",
      "Topic  6\n",
      "tablespoon, sugar, white, teaspoons, ounce, oil, sauce, ground, juice, water\n",
      "\n",
      "Topic  7\n",
      "ground, teaspoons, taste, cinnamon, sugar, black, tablespoons, nutmeg, pinch, ounce\n",
      "\n",
      "Topic  8\n",
      "cheese, tablespoon, taste, butter, cream, shredded, salt, softened, cheddar, milk\n",
      "\n",
      "Topic  9\n",
      "taste, salt, pepper, white, sugar, extract, vanilla, ounce, baking, pinch\n"
     ]
    }
   ],
   "source": [
    "display_topics(lsa_10, count_vectorizer.get_feature_names(), 10) "
   ]
  },
  {
   "cell_type": "code",
   "execution_count": 33,
   "id": "016c6ca9",
   "metadata": {},
   "outputs": [
    {
     "data": {
      "text/plain": [
       "array([0.01608457, 0.03692753, 0.02040204, 0.01318278, 0.01107823,\n",
       "       0.01054706, 0.00920387, 0.00898781, 0.0087922 , 0.00858844])"
      ]
     },
     "execution_count": 33,
     "metadata": {},
     "output_type": "execute_result"
    }
   ],
   "source": [
    "# we will try it as a recomendation system\n",
    "tf_lsa_10 = lsa_10.fit_transform(ingr_tfidf)\n",
    "lsa_10.explained_variance_ratio_"
   ]
  },
  {
   "cell_type": "code",
   "execution_count": 34,
   "id": "de8b3daf",
   "metadata": {},
   "outputs": [
    {
     "name": "stdout",
     "output_type": "stream",
     "text": [
      "\n",
      "Topic  0\n",
      "cup, teaspoon, cups, sugar, tablespoons, ground, white, ounce, salt, tablespoon\n",
      "\n",
      "Topic  1\n",
      "sugar, baking, extract, vanilla, flour, purpose, cups, cup, white, soda\n",
      "\n",
      "Topic  2\n",
      "ounce, package, cream, cheese, mix, cup, shredded, frozen, chocolate, condensed\n",
      "\n",
      "Topic  3\n",
      "teaspoon, ground, ounce, package, baking, powder, cinnamon, dried, drained, nutmeg\n",
      "\n",
      "Topic  4\n",
      "cheese, shredded, cheddar, cups, flour, purpose, baking, parmesan, chicken, slices\n",
      "\n",
      "Topic  5\n",
      "cups, teaspoons, tablespoons, flour, purpose, water, ounce, powder, baking, chicken\n",
      "\n",
      "Topic  6\n",
      "tablespoons, cheese, cream, butter, taste, softened, lemon, pinch, ounces, milk\n",
      "\n",
      "Topic  7\n",
      "chicken, boneless, skinless, breast, halves, teaspoon, tablespoons, cream, dried, sauce\n",
      "\n",
      "Topic  8\n",
      "ground, cinnamon, cups, chicken, peeled, cut, inch, nutmeg, sliced, fluid\n",
      "\n",
      "Topic  9\n",
      "extract, vanilla, chocolate, taste, chips, pepper, semisweet, cut, sliced, red\n"
     ]
    }
   ],
   "source": [
    "display_topics(lsa_10, count_vectorizer.get_feature_names(), 10) "
   ]
  },
  {
   "cell_type": "code",
   "execution_count": 62,
   "id": "84b41916",
   "metadata": {},
   "outputs": [
    {
     "name": "stderr",
     "output_type": "stream",
     "text": [
      "/opt/anaconda3/lib/python3.8/site-packages/sklearn/decomposition/_nmf.py:312: FutureWarning: The 'init' value, when 'init=None' and n_components is less than n_samples and n_features, will be changed from 'nndsvd' to 'nndsvda' in 1.1 (renaming of 0.26).\n",
      "  warnings.warn((\"The 'init' value, when 'init=None' and \"\n",
      "/opt/anaconda3/lib/python3.8/site-packages/sklearn/decomposition/_nmf.py:1090: ConvergenceWarning: Maximum number of iterations 200 reached. Increase it to improve convergence.\n",
      "  warnings.warn(\"Maximum number of iterations %d reached. Increase it to\"\n"
     ]
    }
   ],
   "source": [
    "# # MATRIX FACTORIZATION Non-Negative Matrix Factorization (NMF)\n",
    "\n",
    "nmf_10 = NMF(10) \n",
    "r_nmf_10 = nmf_10.fit_transform(ingr_ct) "
   ]
  },
  {
   "cell_type": "code",
   "execution_count": 63,
   "id": "7f5dba23",
   "metadata": {},
   "outputs": [
    {
     "name": "stdout",
     "output_type": "stream",
     "text": [
      "\n",
      "Topic  0\n",
      "cup, sugar, butter, white, flour, brown, milk, purpose, water, egg\n",
      "\n",
      "Topic  1\n",
      "teaspoon, salt, powder, dried, baking, garlic, flour, extract, soda, purpose\n",
      "\n",
      "Topic  2\n",
      "pepper, sliced, cut, onion, red, chicken, garlic, cups, green, bell\n",
      "\n",
      "Topic  3\n",
      "ounce, package, drained, mix, cream, cans, fluid, frozen, beans, soup\n",
      "\n",
      "Topic  4\n",
      "cups, sugar, white, flour, teaspoons, purpose, baking, extract, butter, vanilla\n",
      "\n",
      "Topic  5\n",
      "tablespoons, butter, oil, sauce, white, juice, water, lemon, salt, vinegar\n",
      "\n",
      "Topic  6\n",
      "tablespoon, oil, sauce, juice, garlic, olive, lemon, powder, vegetable, water\n",
      "\n",
      "Topic  7\n",
      "ground, teaspoons, black, cinnamon, pepper, cloves, nutmeg, teaspoon, cumin, beef\n",
      "\n",
      "Topic  8\n",
      "cheese, shredded, cream, cheddar, cup, ounces, cups, parmesan, pound, mozzarella\n",
      "\n",
      "Topic  9\n",
      "taste, pepper, salt, black, pinch, garlic, olive, oil, onion, optional\n"
     ]
    }
   ],
   "source": [
    "display_topics(nmf_10, count_vectorizer.get_feature_names(), 10)"
   ]
  },
  {
   "cell_type": "code",
   "execution_count": 37,
   "id": "4b87c599",
   "metadata": {},
   "outputs": [
    {
     "data": {
      "text/plain": [
       "97"
      ]
     },
     "execution_count": 37,
     "metadata": {},
     "output_type": "execute_result"
    }
   ],
   "source": [
    "# we collected new stopwords \n",
    "collected_stopwords=['tablespoons','tablespoon', 'teaspoon', 'teaspoons' ,'cups', 'cup','ounce', 'packed','taste', 'flakes','italian','topping', 'half', 'container', 'beaten','cooked','uncooked',\n",
    "                      'sauce','juice', 'extract','baking', 'purpose', 'white','whites', 'black' ,'green', 'red' , 'brown' , 'yellow' ,'ground','powder', 'shredded', 'ice', 'whole', ' beaten'\n",
    "                     'package',' package', 'softened', 'sliced', 'cut', 'inch', 'pound', 'pounds' ,'pieces', 'ounces','sour','condensed', 'virgin','extra', 'confectioners', 'crumbled', 'boiling',\n",
    "                     'hot', 'drained', 'mix' , 'fluid','halves','dry','flavored','heavy', 'frozen','melted' , 'pinch','divided', 'peeled', 'needed' ,'cold', 'syrup', 'cubed', 'cubes',\n",
    "                     'peeled','thinly','dried','boneless','skinless','slices','dried','pound', 'optional', 'whipping','whipped', 'packages','cans','semisweet','unsweetened','squares',\n",
    "                     'zest', 'degrees', 'active', 'warm', 'sweetened', 'thawed','evaporated', 'pie','crumbs','instant','seeds', 'soup']\n",
    "\n",
    "\n",
    "len(collected_stopwords)"
   ]
  },
  {
   "cell_type": "code",
   "execution_count": 40,
   "id": "9039ca82",
   "metadata": {},
   "outputs": [
    {
     "name": "stdout",
     "output_type": "stream",
     "text": [
      "302\n"
     ]
    }
   ],
   "source": [
    "new_stopwords = our_stopwords + collected_stopwords\n",
    "print(len(new_stopwords))"
   ]
  },
  {
   "cell_type": "code",
   "execution_count": 41,
   "id": "001cafdf",
   "metadata": {},
   "outputs": [
    {
     "name": "stderr",
     "output_type": "stream",
     "text": [
      "/opt/anaconda3/lib/python3.8/site-packages/sklearn/feature_extraction/text.py:388: UserWarning: Your stop_words may be inconsistent with your preprocessing. Tokenizing the stop words generated tokens ['beatenpackage', 'fat', 'free', 'full', 'package'] not in stop_words.\n",
      "  warnings.warn('Your stop_words may be inconsistent with '\n"
     ]
    },
    {
     "name": "stdout",
     "output_type": "stream",
     "text": [
      "['abalone', 'absinthe', 'absolut', 'abuelita', 'ac', 'acado', 'acai', 'accent', 'accents', 'accompaniments', 'according', 'achiote', 'acid', 'acidity', 'acids', 'acini', 'acorn', 'across', 'act', 'activedry', 'adams', 'add', 'added', 'addition', 'additional', 'additions', 'adjust', 'adjustable', 'adobo', 'adzuki', 'aerated', 'african', 'agar', 'agave', 'age', 'aged', 'ahead', 'ahi', 'aid', 'aidells', 'aioli', 'air', 'airheads', 'aisle', 'aji', 'ajicitos', 'ajies', 'al', 'alaska', 'alaskan', 'albacore', 'alcaparrado', 'alcohol', 'alder', 'ale', 'aleppo', 'alessi', 'alexia', 'alfalfa', 'alfredo', 'alligator', 'allspice', 'allwhites', 'almond', 'almondmilk', 'almonds', 'almost', 'aloe', 'aloha', 'along', 'alouette', 'alphabet', 'already', 'alternative', 'alum', 'aluminum', 'amaranth', 'amaretti', 'amaretto', 'amarillo', 'amaro', 'amaz', 'amber', 'amberjack', 'amchoor', 'amchur', 'amer', 'american', 'amino', 'aminos', 'amish', 'ammonia', 'amontillado', 'amount', 'amsterdam', 'anaheim', 'anapakaya', 'ancho', 'anchovies', 'anchovy', 'ancient', 'andes', 'andouille', 'andre', 'anejo', 'angel', 'angelica', 'angle', 'angostura', 'angus', 'animal', 'anise', 'anisette', 'anjou', 'annatto', 'annie', 'another', 'antelope', 'apart', 'aperitif', 'aperol', 'apple', 'applejack', 'apples', 'applesauce', 'appleton', 'applewood', 'approx', 'apricot', 'apricots', 'apriplums', 'aquafaba', 'aquavit', 'arame', 'arbol', 'arborio', 'archer', 'arctic', 'arepas', 'argentinian', 'argo', 'arils', 'arm', 'armagnac', 'aromatic', 'arrowhead', 'arrowroot', 'arthur', 'artichoke', 'artichokes', 'artificial', 'artisan', 'artisanal', 'arugula', 'asada', 'asadero', 'asafoetida', 'ascorbic', 'asiago', 'asian', 'aside', 'asparagus', 'aspartame', 'assemble', 'assembly', 'assi', 'assorted', 'assortment', 'asti', 'asturian', 'astwix', 'aswad', 'atar', 'athenos', 'atlantic', 'attached', 'au', 'aunt', 'authentic', 'autry', 'autumn', 'available', 'avgolemono', 'aviation', 'avocado', 'avocados', 'away', 'aylmer', 'azafran', 'añejo', 'babka', 'baby', 'bacardi', 'back', 'backbone', 'backdraft', 'backs', 'backstrap', 'bacon', 'baconnaise', 'badi', 'badia', 'bag', 'bagel', 'bagels', 'bagged', 'bagoong', 'bags', 'baguette', 'baguettes', 'baharat', 'bai', 'bailey', 'baileys', 'bake', 'baked', 'baker', 'bakers', 'bakery', 'bakeware', 'balance', 'balanced', 'ball', 'baller', 'balls', 'balm', 'balsamic', 'baltimore', 'bam', 'bamboo', 'banana', 'bananas', 'bands', 'bangus', 'bannock', 'banquet', 'bar', 'barbados', 'barbecue', 'barbecued', 'barbeque', 'barbequed', 'barberries', 'bare', 'barefoot', 'barely', 'barilla', 'bark', 'barley', 'barolo', 'barramundi', 'barrel', 'bars', 'bartlett', 'base', 'baseball', 'based', 'basic', 'basics', 'basil', 'basket', 'baskets', 'basmati', 'bass', 'baste', 'basting', 'batavia', 'batter', 'bavarian', 'bay', 'bayou', 'bbq', 'beam', 'bean', 'beans', 'bear', 'bearnaise', 'bears', 'beaters', 'beau', 'beauty', 'becel', 'bechamel', 'bee', 'beech', 'beecher', 'beef', 'beefsteak', 'beefy', 'beer', 'beers', 'beet', 'beets', 'belacan', 'belachan', 'belgian', 'belgioioso', 'believe', 'belizean', 'bell', 'bella', 'bellas', 'belly', 'belts', 'beluga', 'ben', 'benedict', 'benedictine', 'bengal', 'beni', 'berbere', 'bermuda', 'berries', 'berry', 'bertolli', 'besan', 'best', 'better', 'betty', 'beurre', 'beverage', 'beverages', 'bhaji', 'bias', 'bibb', 'biber', 'big', 'biga', 'bilbao', 'bing', 'bird', 'birds', 'biryani', 'biscoff', 'biscotti', 'biscuit', 'biscuits', 'bison', 'bisque', 'bisquick', 'bistro', 'bit', 'bite', 'bites', 'bits', 'bitter', 'bittermens', 'bitters', 'bittersweet', 'blackberries', 'blackberry', 'blackcurrant', 'blackened', 'blackening', 'blackeye', 'blackstrap', 'blackwell', 'blade', 'blanc', 'blanca', 'blanched', 'blanco', 'blank', 'blast', 'bleached', 'blend', 'blended', 'blender', 'blending', 'blends', 'bleu', 'blintzes', 'bliss', 'block', 'blocks', 'blood', 'bloody', 'blooming', 'blossom', 'blossoms', 'blue', 'blueberries', 'blueberry', 'bluefish', 'boar', 'board', 'boards', 'bob', 'boboli', 'boca', 'bocconcini', 'bock', 'bodied', 'body', 'boil', 'boiled', 'boiler', 'bok', 'bold', 'bolillo', 'bologna', 'bolognese', 'bonal', 'bone', 'boned', 'bones', 'bonito', 'bonnet', 'boost', 'borden', 'borlotti', 'bosc', 'boston', 'bottle', 'bottled', 'bottles', 'bottom', 'bottomed', 'bottoms', 'boudin', 'bought', 'bouillon', 'bouqet', 'bouquet', 'bourbon', 'boursin', 'bow', 'bowl', 'bowls', 'box', 'boxed', 'boxes', 'boysenberries', 'boysenberry', 'brach', 'braeburn', 'bragg', 'brain', 'braising', 'bran', 'brand', 'branded', 'brands', 'brandy', 'branston', 'brat', 'bratwurst', 'bratwursts', 'braunschweiger', 'brazil', 'brazilian', 'bread', 'breadcrumb', 'breadcrumbs', 'breaded', 'breader', 'breading', 'breads', 'breadstick', 'breadsticks', 'breakfast', 'breakstone', 'bream', 'breast', 'breasts', 'breeze', 'brew', 'brewed', 'brewers', 'briannas', 'brick', 'brickle', 'bridgford', 'brie', 'briefly', 'brien', 'brine', 'brined', 'brinjal', 'brioche', 'briquets', 'briquettes', 'brisket', 'briskets', 'brittle', 'broad', 'broccoli', 'broccolini', 'broil', 'broiler', 'broken', 'brooks', 'broth', 'brothers', 'browned', 'brownie', 'brownies', 'browning', 'browns', 'bruce', 'bruised', 'brujo', 'brush', 'brushed', 'brushing', 'brussels', 'brut', 'bubblegum', 'bucatini', 'buckwheat', 'bud', 'buddig', 'buds', 'budweiser', 'buena', 'buffalo', 'bugles', 'buitoni', 'bulb', 'bulbs', 'bulgar', 'bulgarian', 'bulgur', 'bulk', 'bull', 'bulleit', 'bumble', 'bun', 'bunch', 'bunches', 'bundled', 'bunny', 'buns', 'burdock', 'burger', 'burgers', 'burgundy', 'burmese', 'burnett', 'burrata', 'burrito', 'burritos', 'bush', 'butcher', 'butt', 'butter', 'butterball', 'buttercream', 'buttercrunch', 'buttercup', 'buttered', 'butterfinger', 'butterfish', 'butterflied', 'butterfly', 'butterhead', 'buttermilk', 'butternut', 'butterscotch', 'buttershots', 'butterworth', 'buttery', 'button', 'buttons', 'buy', 'béarnaise', 'cabbage', 'cabernet', 'cabot', 'cabra', 'cabrales', 'cacao', 'cachaca', 'cachere', 'cacho', 'cactus', 'cadbury', 'caesar', 'caffeinated', 'caffeine', 'cajeta', 'cajon', 'cajun', 'cake', 'cakes', 'calabash', 'calabaza', 'calabrian', 'calamansi', 'calamari', 'calamata', 'calcium', 'calendula', 'calf', 'california', 'calimyrna', 'callaloo', 'callebaut', 'callender', 'calorie', 'calrose', 'calumet', 'calvados', 'calves', 'camembert', 'campanelle', 'campari', 'campbell', 'camphor', 'canada', 'canadian', 'candied', 'candies', 'candiquick', 'candlenuts', 'candy', 'cane', 'canes', 'canilla', 'canister', 'canned', 'cannellini', 'cannelloni', 'canning', 'cannoli', 'canola', 'cantaloupe', 'cantaloupes', 'canton', 'cantonese', 'cap', 'capacola', 'capelin', 'capellini', 'caper', 'capers', 'cappuccino', 'caps', 'captain', 'capuccino', 'cara', 'caramel', 'caramelized', 'caramels', 'carapelli', 'caraway', 'carb', 'carbohydrate', 'carbonated', 'carbquik', 'carcass', 'carcasses', 'cardamom', 'cardboard', 'caribbean', 'carl', 'carlo', 'carnaroli', 'carnation', 'carnations', 'carne', 'carob', 'carolina', 'carp', 'carpaccio', 'carrageen', 'carroll', 'carrot', 'carrots', 'cartilage', 'carton', 'cartons', 'carving', 'casbah', 'cascadian', 'casera', 'cashew', 'cashews', 'casing', 'casings', 'cassava', 'casserole', 'cassia', 'cassis', 'castelvetrano', 'caster', 'castor', 'cat', 'catalina', 'catelli', 'catfish', 'cattlemen', 'caul', 'cauldron', 'cauliflower', 'cavatapi', 'cavatappi', 'cavatelli', 'cavender', 'caviar', 'cayenne', 'cecco', 'cedar', 'celeriac', 'celery', 'cellentani', 'cellophane', 'celtic', 'cent', 'center', 'centers', 'cento', 'century', 'cereal', 'certified', 'certo', 'ceylon', 'chablis', 'chachere', 'chai', 'chain', 'challah', 'chambord', 'champagne', 'chana', 'chanco', 'chang', 'channa', 'chantaboon', 'chanterelle', 'chanterelles', 'chapssal', 'char', 'charcoal', 'chard', 'chardonnay', 'charred', 'chayote', 'chayotes', 'cheap', 'cheddar', 'cheddarwurst', 'chee', 'cheek', 'cheeks', 'cheerios', 'cheese', 'cheesecake', 'cheesecloth', 'cheeses', 'cheesy', 'cheetos', 'cheez', 'chef', 'chenel', 'chenin', 'cheong', 'chermoula', 'cherokee', 'cherries', 'cherry', 'cherrystone', 'chervil', 'chestnut', 'chestnuts', 'chevon', 'chevre', 'chewy', 'chex', 'chi', 'chia', 'chianti', 'chicago', 'chick', 'chicken', 'chickens', 'chickpea', 'chickpeas', 'chicks', 'chicory', 'chiffonade', 'chihuahua', 'chik', 'chile', 'chilean', 'chiles', 'chili', 'chilies', 'chilis', 'chilled', 'chilli', 'chimichurri', 'chinese', 'chip', 'chipits', 'chipolata', 'chipolte', 'chipotle', 'chipotles', 'chipped', 'chips', 'chitterlings', 'chive', 'chives', 'chlies', 'chlorella', 'chloride', 'chlorinated', 'chobani', 'chocolate', 'chocolates', 'choice', 'cholesterol', 'cholula', 'chong', 'chop', 'chops', 'chorize', 'chorizo', 'chourico', 'choux', 'chow', 'chowder', 'choy', 'choya', 'chubritsa', 'chuck', 'chunk', 'chunked', 'chunks', 'chunky', 'churned', 'churros', 'chutney', 'ciabatta', 'cider', 'cigars', 'cilantro', 'ciliegine', 'cinderella', 'cindy', 'cinghiale', 'cinnamon', 'cipollini', 'circles', 'circular', 'ciroc', 'citric', 'citron', 'citrus', 'city', 'clam', 'clamato', 'clams', 'clamshell', 'clarified', 'clasico', 'classic', 'classicmac', 'classico', 'classics', 'claussen', 'claw', 'claws', 'clean', 'cleaned', 'clear', 'clearjel', 'clementine', 'clementines', 'cling', 'clingstone', 'cloud', 'clove', 'clover', 'cloves', 'clovis', 'club', 'clusters', 'cm', 'co', 'coalho', 'coarsely', 'coarsley', 'coated', 'coating', 'coatings', 'cob', 'cobbler', 'cobia', 'cobs', 'coca', 'cocina', 'cockatiels', 'cocktail', 'cocktails', 'coco', 'cocoa', 'coconut', 'coconutmilk', 'coconuts', 'cocowhip', 'cod', 'coffee', 'coffeecake', 'cognac', 'coho', 'coin', 'coins', 'cointreau', 'coke', 'cola', 'colaciones', 'colada', 'colby', 'colcannon', 'cole', 'coleman', 'coleslaw', 'collard', 'college', 'collins', 'color', 'colored', 'coloring', 'colors', 'colossal', 'colour', 'colouring', 'combination', 'combinbation', 'combine', 'combined', 'comfort', 'comice', 'completa', 'complete', 'completely', 'components', 'compote', 'compound', 'compressed', 'comte', 'comté', 'con', 'concentrate', 'concentrated', 'concern', 'conch', 'conchiglie', 'concord', 'condiment', 'condiments', 'cone', 'conecuh', 'cones', 'confection', 'confectioner', 'confectionery', 'confetti', 'confit', 'consistency', 'consomme', 'construction', 'contadina', 'containers', 'conversation', 'converted', 'cook', 'cooker', 'cookers', 'cookie', 'cookies', 'cooking', 'cooks', 'cool', 'cooled', 'cooler', 'coors', 'coppa', 'corazon', 'core', 'cored', 'cores', 'coriander', 'corkscrew', 'corn', 'cornbread', 'corned', 'cornflake', 'cornflakes', 'cornhusks', 'cornichons', 'cornish', 'cornmeal', 'cornnuts', 'cornstarch', 'corona', 'cortland', 'cosmopolitan', 'costco', 'costeno', 'cotechino', 'cotes', 'cotija', 'cottage', 'cottas', 'cotto', 'cotton', 'coulis', 'count', 'country', 'county', 'courgette', 'courgettes', 'course', 'couscous', 'cove', 'cover', 'covered', 'cow', 'cowpeas', 'cox', 'coyote', 'crab', 'crabapples', 'crabmeat', 'crabs', 'cracked', 'cracker', 'crackers', 'cracklin', 'cracklings', 'craft', 'crafts', 'craisins', 'cran', 'cranberries', 'cranberry', 'crawfish', 'crazy', 'cream', 'creamed', 'creamer', 'creamy', 'creating', 'creations', 'crema', 'creme', 'cremini', 'crenshaw', 'creole', 'crepe', 'crepes', 'crescent', 'crescents', 'cricket', 'crimini', 'crimped', 'criollo', 'crisco', 'crisp', 'crispix', 'crisply', 'crisps', 'crispy', 'crock', 'crocker', 'croissants', 'croix', 'crookneck', 'croquettes', 'cross', 'crosse', 'crossways', 'crosswise', 'crostini', 'croutons', 'crowder', 'crown', 'crowns', 'crullers', 'crumb', 'crumbed', 'crumble', 'crumbles', 'crumpet', 'crunch', 'crunchies', 'crunchy', 'crush', 'crust', 'crusted', 'crustless', 'crusts', 'crusty', 'cruz', 'cruzan', 'crystal', 'crystallized', 'crystals', 'crème', 'cuban', 'cubanella', 'cubanelle', 'cube', 'cucumber', 'cucumbers', 'cuervo', 'cuisine', 'cukes', 'culantro', 'culinary', 'culture', 'cultured', 'cultures', 'cumin', 'cupcake', 'cupcakes', 'curacao', 'curd', 'curds', 'cure', 'cured', 'curing', 'curl', 'curls', 'curly', 'currant', 'currants', 'curried', 'curry', 'cushaw', 'custard', 'cutlets', 'cuts', 'cutter', 'cutters', 'cutting', 'daal', 'daechu', 'daikon', 'daiquiri', 'dairy', 'daisy', 'daiya', 'dal', 'dalchini', 'dale', 'dam', 'damn', 'dandelion', 'dang', 'dangmyun', 'daniel', 'danish', 'dannon', 'darjeeling', 'dark', 'darker', 'dash', 'dashes', 'dashi', 'date', 'dates', 'dave', 'day', 'de', 'dean', 'debearded', 'deboned', 'decaf', 'decaffeinated', 'decals', 'decorate', 'decorating', 'decoration', 'decorations', 'decorative', 'decorator', 'decors', 'deep', 'deer', 'defrost', 'defrosted', 'deglaze', 'degree', 'dehydrated', 'dei', 'dekuyper', 'del', 'deli', 'delicata', 'delicious', 'delight', 'delightfulls', 'delmonico', 'deluxe', 'demerara', 'demi', 'demiglace', 'dense', 'dente', 'depending', 'deseeded', 'design', 'desilked', 'desired', 'dessert', 'deveined', 'devil', 'deviled', 'dew', 'dextrose', 'dhal', 'di', 'diagonal', 'diagonally', 'diameter', 'diamond', 'diavolo', 'dice', 'dickinson', 'diet', 'dietz', 'different', 'digestive', 'digiorno', 'dijon', 'dill', 'dinner', 'dino', 'dinosaur', 'dip', 'dipped', 'dipping', 'dips', 'directed', 'directions', 'dirt', 'dirty', 'disaronno', 'discard', 'discarded', 'discarding', 'discs', 'dish', 'disks', 'disney', 'disposable', 'dissolved', 'distilled', 'ditalini', 'djan', 'dodge', 'doenjang', 'dog', 'dogs', 'dolce', 'dole', 'domestic', 'dominoes', 'done', 'dong', 'donut', 'donuts', 'doone', 'door', 'doritos', 'doubanjiang', 'double', 'dough', 'doughnut', 'doughnuts', 'dover', 'dr', 'dragees', 'dragon', 'drain', 'drake', 'dramatically', 'drambuie', 'draught', 'draw', 'dream', 'dreamfields', 'dredging', 'dressed', 'dressing', 'dreyer', 'drink', 'drippings', 'drizzle', 'drizzling', 'drop', 'drops', 'drum', 'drumettes', 'drummettes', 'drums', 'drumstick', 'drumsticks', 'drying', 'du', 'dubliner', 'duck', 'duckling', 'ducklings', 'duct', 'duke', 'dukkah', 'dulce', 'dulces', 'dulse', 'dumpling', 'dumplings', 'duncan', 'dungeness', 'dunya', 'duoz', 'durian', 'durkee', 'durum', 'dusseldorf', 'dust', 'dusting', 'dutch', 'duty', 'dye', 'dyed', 'eagle', 'ear', 'earl', 'early', 'ears', 'earth', 'earthbound', 'easily', 'east', 'easter', 'eastern', 'easy', 'eat', 'eating', 'eckrich', 'eclair', 'edam', 'edamame', 'edge', 'edges', 'edible', 'editor', 'edy', 'eel', 'eg', 'egg', 'eggland', 'eggnog', 'eggo', 'eggplant', 'eggplants', 'eggs', 'egyptian', 'eight', 'eighths', 'either', 'el', 'elaichi', 'elberta', 'elbow', 'elbows', 'elderberries', 'elderflower', 'elephant', 'elk', 'else', 'embasa', 'emerald', 'emeril', 'emmental', 'emmentaler', 'emmenthaler', 'empty', 'emulsion', 'enchilada', 'enchilado', 'encona', 'end', 'endive', 'endives', 'endless', 'ends', 'ener', 'energy', 'england', 'english', 'enhancer', 'enjoy', 'enoki', 'enough', 'enriched', 'entenmann', 'envelope', 'envelopes', 'epazote', 'equal', 'equivalent', 'erythritol', 'escargots', 'escarole', 'especial', 'espelette', 'espresso', 'essence', 'essentials', 'estate', 'etc', 'ethiopian', 'europe', 'european', 'evan', 'evans', 'even', 'evenly', 'everclear', 'everglades', 'everyday', 'everything', 'ew', 'except', 'excess', 'exclude', 'excluding', 'express', 'extracted', 'eye', 'eyeballs', 'eyed', 'eyes', 'ez', 'fabada', 'face', 'factory', 'fage', 'fah', 'fajita', 'fajitas', 'falafel', 'fall', 'family', 'famous', 'fancy', 'farang', 'farfalle', 'farfel', 'farina', 'farl', 'farm', 'farmer', 'farmers', 'farmhouse', 'farmland', 'farms', 'farro', 'fashioned', 'fast', 'fat', 'fatback', 'fattier', 'fatty', 'fava', 'favorite', 'fe', 'fed', 'fee', 'feet', 'female', 'fennel', 'fenugreek', 'fermented', 'ferns', 'feta', 'fettuccine', 'fettuccini', 'fettucine', 'fiber', 'fiddlehead', 'fiddleheads', 'fideo', 'field', 'fiesta', 'fifths', 'fig', 'figs', 'filberts', 'file', 'filet', 'filets', 'filing', 'filipino', 'fill', 'filled', 'fillet', 'fillets', 'filling', 'fillings', 'filter', 'filtered', 'filters', 'fin', 'final', 'fines', 'finger', 'fingerling', 'fingers', 'finish', 'finishing', 'finlandia', 'fino', 'fiori', 'fire', 'fireball', 'fireweed', 'firm', 'firmly', 'first', 'fish', 'fit', 'five', 'fixings', 'fizz', 'fizzy', 'fl', 'flagship', 'flake', 'flaked', 'flaky', 'flan', 'flank', 'flanken', 'flap', 'flared', 'flat', 'flatbread', 'flatbreads', 'flatout', 'flattened', 'flautas', 'flavor', 'flavoring', 'flavorless', 'flavors', 'flavoured', 'flax', 'flaxseed', 'fleischmann', 'flesh', 'fleshed', 'fleur', 'flexible', 'florentine', 'floret', 'florets', 'florida', 'floss', 'flounder', 'flour', 'flourless', 'flower', 'flowerets', 'flowers', 'fluff', 'fluffy', 'fly', 'foam', 'foamy', 'focaccia', 'foglie', 'foie', 'foil', 'folded', 'folgers', 'follow', 'follows', 'fond', 'fondant', 'fondue', 'fong', 'fontina', 'food', 'foods', 'footnote', 'forbidden', 'fordhook', 'forest', 'fork', 'form', 'formed', 'formula', 'fortified', 'fortress', 'foster', 'found', 'four', 'fourths', 'foxtrot', 'fragments', 'fragrant', 'fraiche', 'frais', 'framboise', 'frangelico', 'frangipane', 'frank', 'frankfurters', 'franks', 'fratelli', 'fred', 'free', 'freekeh', 'freestone', 'freeze', 'freezer', 'french', 'frenched', 'fresca', 'fresco', 'fresno', 'friday', 'fried', 'friendship', 'fries', 'frills', 'frisee', 'fritos', 'fritter', 'fritters', 'frog', 'fromage', 'fronds', 'frontera', 'froot', 'frosted', 'frosting', 'frothy', 'fructose', 'fruit', 'fruitcake', 'fruited', 'fruits', 'fruity', 'fry', 'fryer', 'frying', 'frymix', 'fudge', 'fuggles', 'fugi', 'fuji', 'full', 'fully', 'fulton', 'fumi', 'fun', 'funfetti', 'fungus', 'furikake', 'fusili', 'fusilli', 'fuyu', 'gai', 'gala', 'galangal', 'galletas', 'galliano', 'gallo', 'gallon', 'gallons', 'game', 'ganache', 'gandules', 'garae', 'garam', 'garbanzo', 'garbanzos', 'garden', 'gardenburger', 'gari', 'garland', 'garlic', 'garni', 'garnier', 'garnish', 'garnishes', 'garnishing', 'gastrique', 'gatorade', 'gay', 'gebhardt', 'gel', 'gelatin', 'gelato', 'gels', 'gemelli', 'general', 'generous', 'gennaro', 'genoa', 'genovese', 'gentiane', 'gently', 'germ', 'germain', 'german', 'germinated', 'gewurztraminer', 'gf', 'ghee', 'gherkin', 'gherkins', 'ghirardelli', 'ghost', 'ghosts', 'gianduja', 'giant', 'giardiniera', 'giblets', 'gills', 'gimme', 'gin', 'ginger', 'gingerade', 'gingerbread', 'gingered', 'gingerroot', 'gingersnap', 'gingersnaps', 'ginseng', 'girard', 'girl', 'gizzards', 'glace', 'glaces', 'glass', 'glasses', 'glaze', 'glazed', 'glazing', 'glen', 'glitter', 'globe', 'gloves', 'glucose', 'glue', 'glutamate', 'gluten', 'glutino', 'glutinous', 'glycerin', 'gnocchi', 'go', 'goat', 'gochugaru', 'gochujang', 'goddess', 'godiva', 'gods', 'going', 'goji', 'gojuchang', 'gold', 'golden', 'goldfish', 'goldings', 'goldish', 'goldust', 'gone', 'good', 'goodies', 'goodman', 'goodness', 'goose', 'gooseberries', 'gorgonzola', 'gouda', 'gourd', 'gourmet', 'goya', 'grade', 'graham', 'grahams', 'grain', 'grained', 'grains', 'grainy', 'gram', 'grams', 'gran', 'grana', 'grand', 'grandma', 'grandmother', 'grands', 'granita', 'granny', 'granola', 'granular', 'granulated', 'granules', 'grape', 'grapefruit', 'grapes', 'grapeseed', 'gras', 'grass', 'grater', 'gratin', 'gravenstein', 'gravlax', 'gravy', 'gravymaster', 'gray', 'grease', 'greasing', 'great', 'greek', 'greenery', 'greens', 'gremolata', 'grenadine', 'grey', 'grigio', 'grill', 'grille', 'grilled', 'grilling', 'grind', 'grinder', 'grinders', 'grinding', 'grinds', 'grits', 'groats', 'grocer', 'grouper', 'grouse', 'grown', 'gruyere', 'gruyère', 'gua', 'guacamole', 'guajillo', 'guanciale', 'guar', 'guava', 'guavas', 'guinness', 'guittard', 'gulden', 'gulf', 'gum', 'gumbo', 'gumdrops', 'gummi', 'gummy', 'gutted', 'gwaltney', 'gyoza', 'gypsy', 'haas', 'habanero', 'habaneros', 'hachiya', 'haddock', 'hair', 'hake', 'hakurei', 'haldi', 'halibut', 'halloumi', 'halloween', 'halved', 'ham', 'hamachi', 'hamburger', 'hand', 'handful', 'handle', 'hands', 'hangar', 'hanger', 'hanout', 'hard', 'hardwood', 'haricots', 'harina', 'harissa', 'harmless', 'harp', 'hartshorn', 'harvest', 'hash', 'hashbrowns', 'hass', 'hatch', 'haupia', 'havarti', 'hawaiian', 'hazelnut', 'hazelnuts', 'head', 'headless', 'heads', 'healthy', 'heaping', 'heart', 'hearts', 'hearty', 'heat', 'heated', 'heath', 'heels', 'heering', 'hefeweizen', 'heineken', 'heinz', 'heirloom', 'helix', 'hellman', 'hellmann', 'helper', 'hemp', 'hen', 'hendrick', 'hens', 'herb', 'herbal', 'herbamare', 'herbed', 'herbes', 'herbs', 'herbsaint', 'herdez', 'herman', 'hero', 'herring', 'hershey', 'hibiscus', 'hickory', 'hidden', 'high', 'hillshire', 'himalayan', 'hines', 'hing', 'hinged', 'hint', 'hispanic', 'hoagie', 'hock', 'hocks', 'hodgson', 'hog', 'hoisin', 'holders', 'holes', 'holiday', 'holland', 'hollandaise', 'hollowed', 'holly', 'holy', 'home', 'homemade', 'homestyle', 'hometown', 'hominy', 'hondashi', 'honey', 'honeycomb', 'honeycrisp', 'honeydew', 'honkers', 'hooters', 'hops', 'horizon', 'horizontally', 'hormel', 'horn', 'horseradish', 'hothouse', 'hotness', 'hots', 'hour', 'hours', 'house', 'hp', 'hsing', 'hubbard', 'huckleberries', 'hugs', 'hull', 'hulled', 'hummus', 'hundred', 'hung', 'hungarian', 'hungry', 'hunt', 'hunts', 'husk', 'husked', 'husks', 'huy', 'hydrogenated', 'hydroxide', 'ibarra', 'iceberg', 'iced', 'icing', 'ida', 'idaho', 'idahoan', 'ie', 'ii', 'imagine', 'imitation', 'immaculate', 'imperial', 'imported', 'inches', 'included', 'including', 'indian', 'individual', 'individually', 'indonesian', 'indulgence', 'infant', 'infused', 'infusions', 'ingredient', 'ingredients', 'injectable', 'injection', 'injector', 'injera', 'ink', 'inn', 'inner', 'innovasian', 'insam', 'insects', 'inside', 'inspired', 'instacure', 'instructions', 'intact', 'international', 'inthe', 'iodized', 'ipa', 'irish', 'iron', 'isaly', 'island', 'islands', 'israeli', 'italiano', 'ivanhoe', 'jack', 'jackfruit', 'jagermeister', 'jaggery', 'jalapeno', 'jalapenos', 'jalapeño', 'jam', 'jamaican', 'jambalaya', 'jameed', 'jameson', 'jane', 'jap', 'japanese', 'japones', 'jar', 'jarlsberg', 'jarred', 'jars', 'jasmati', 'jasmine', 'jeera', 'jell', 'jellied', 'jello', 'jelly', 'jellybeans', 'jellyrolls', 'jemima', 'jen', 'jennie', 'jerk', 'jerry', 'jerusalem', 'jet', 'jewel', 'jewish', 'jicama', 'jicamas', 'jif', 'jiffy', 'jigger', 'jiggers', 'jim', 'jimmies', 'jimmy', 'joconde', 'joe', 'joes', 'johnagold', 'johnny', 'johnson', 'johnsonville', 'joint', 'joints', 'jolly', 'jonathan', 'jones', 'jose', 'jowl', 'joy', 'jr', 'juiced', 'juices', 'juicing', 'juicy', 'jujube', 'julienne', 'julienned', 'jumbo', 'junior', 'juniper', 'jus', 'jwala', 'kaali', 'kabob', 'kabobs', 'kabocha', 'kabsa', 'kacha', 'kaffir', 'kahlua', 'kaiser', 'kala', 'kalamansi', 'kalamata', 'kalbi', 'kale', 'kalonji', 'kamut', 'kangaroo', 'kansas', 'kantong', 'karat', 'karo', 'karpoor', 'kary', 'kasandrino', 'kasha', 'kashmiri', 'kasih', 'kasoori', 'kasturi', 'kat', 'kataifi', 'katinka', 'kc', 'kecap', 'kee', 'keebler', 'keen', 'kefalotiri', 'kefir', 'kellogg', 'kelp', 'ken', 'kent', 'kentucky', 'kept', 'kern', 'kernel', 'kernels', 'kerr', 'ketchup', 'kettle', 'kewpie', 'key', 'keystone', 'khus', 'kibbeh', 'kid', 'kidney', 'kidneys', 'kids', 'kielbasa', 'kikkoman', 'kim', 'kimchee', 'kimchi', 'kind', 'king', 'kingsford', 'kirby', 'kirkland', 'kirsch', 'kirschwasser', 'kiss', 'kisses', 'kit', 'kitchen', 'kiwi', 'kiwifruit', 'kiwis', 'kix', 'klondike', 'kluski', 'kneading', 'knife', 'knipla', 'knoephla', 'knorr', 'knots', 'knotted', 'knox', 'knuckle', 'knudsen', 'kobe', 'kochujang', 'koeksisters', 'koftas', 'kohlrabi', 'koji', 'kombu', 'konbu', 'kool', 'korean', 'korma', 'kosher', 'koshi', 'kraft', 'kraken', 'kraprao', 'kraut', 'krazy', 'krispies', 'kroger', 'kucai', 'kum', 'kummelweck', 'kumquat', 'kumquats', 'la', 'label', 'labeled', 'labneh', 'lacinato', 'lactaid', 'lacy', 'lady', 'ladyfinger', 'ladyfingers', 'lager', 'lagunitas', 'laird', 'lakes', 'lamb', 'lan', 'land', 'langostinos', 'laphroiag', 'lapsang', 'lard', 'larger', 'lars', 'lasagna', 'lasagne', 'last', 'latex', 'latik', 'latina', 'latkes', 'latte', 'lattice', 'laughing', 'laura', 'laurel', 'lava', 'lavang', 'lavash', 'lavender', 'lawry', 'lay', 'layer', 'layered', 'layers', 'lb', 'le', 'lea', 'leaf', 'leafy', 'lean', 'leaner', 'least', 'leather', 'leave', 'leaves', 'leaving', 'lebanese', 'leche', 'lechera', 'leches', 'lecithin', 'lee', 'leek', 'leeks', 'left', 'leftover', 'leg', 'legs', 'leicester', 'lemon', 'lemonade', 'lemongrass', 'lemons', 'lengkuas', 'length', 'lengths', 'lengthwise', 'lentil', 'lentils', 'leones', 'less', 'lesueur', 'lettuce', 'lettuces', 'leveled', 'libby', 'licorice', 'lid', 'lids', 'life', 'ligament', 'light', 'lighten', 'lighter', 'lightlife', 'lightly', 'like', 'lillet', 'lily', 'lima', 'lime', 'limeade', 'limes', 'limon', 'limoncello', 'lindor', 'lindsay', 'lindt', 'liner', 'liners', 'ling', 'lingcod', 'lingonberries', 'lingonberry', 'linguica', 'linguine', 'linguini', 'lining', 'link', 'linked', 'links', 'lipped', 'lipton', 'liquefy', 'liqueur', 'liquid', 'liquor', 'lit', 'lite', 'liter', 'liters', 'little', 'littleneck', 'live', 'liver', 'livers', 'liverwurst', 'lo', 'loaf', 'loaves', 'lobster', 'lobsters', 'located', 'locatella', 'locatelli', 'locoto', 'log', 'loin', 'lollipop', 'london', 'long', 'longer', 'longhorn', 'loomi', 'loops', 'loosely', 'lop', 'lopez', 'loquat', 'loquats', 'lorann', 'lorna', 'lorraine', 'lotus', 'louis', 'louisiana', 'lower', 'lowfat', 'lox', 'luck', 'lucky', 'luke', 'lukewarm', 'lumaconi', 'lump', 'lumpfish', 'lumpia', 'lumps', 'lunch', 'luncheon', 'lung', 'lup', 'lychee', 'lychees', 'mac', 'maca', 'macadamia', 'macademia', 'macapuno', 'macaroni', 'macarons', 'macaroon', 'macaroons', 'macchiato', 'mace', 'macedonian', 'mache', 'machine', 'macintosh', 'mackerel', 'macoun', 'macrina', 'made', 'madeira', 'madras', 'mae', 'maekrua', 'mafalda', 'magazine', 'maggi', 'magic', 'magical', 'magnesium', 'maharaja', 'mahatma', 'mahi', 'mahleb', 'mai', 'maid', 'maifun', 'maille', 'maine', 'maitake', 'maja', 'major', 'make', 'maker', 'malagkit', 'malaysian', 'malbec', 'maldon', 'malibu', 'malitol', 'malt', 'malted', 'maltose', 'mam', 'mama', 'manchego', 'mandarin', 'mandoline', 'mango', 'mangoes', 'mangos', 'manicotti', 'manis', 'manischewitz', 'manteca', 'manuka', 'manwich', 'manzanilla', 'maple', 'maraschino', 'marble', 'marbled', 'marcona', 'mardi', 'margarine', 'margarita', 'margherita', 'maria', 'marias', 'marie', 'marinade', 'marinades', 'marinara', 'marinated', 'marinating', 'marion', 'marionberries', 'marjoram', 'mark', 'market', 'markets', 'marlin', 'marmalade', 'marmite', 'marnier', 'marrons', 'marrow', 'marsala', 'marshmallow', 'marshmallows', 'martha', 'martini', 'maruchan', 'marukan', 'mary', 'marzano', 'marzetti', 'marzettis', 'marzipan', 'masa', 'masago', 'masala', 'mascarpone', 'mash', 'mashed', 'masher', 'mask', 'mason', 'masoor', 'master', 'masterpiece', 'match', 'matcha', 'matchbox', 'matchlike', 'matchstick', 'matchsticks', 'mate', 'mates', 'mature', 'matzah', 'matzo', 'matzos', 'maui', 'maxwell', 'may', 'mayer', 'mayo', 'mayocoba', 'mayonnaise', 'maytag', 'mazin', 'mazola', 'mccain', 'mccann', 'mccormick', 'mcintosh', 'mct', 'meal', 'measure', 'measuring', 'meat', 'meatballs', 'meatless', 'meatloaf', 'meats', 'meaty', 'medal', 'medallions', 'media', 'mediterranean', 'medjool', 'medley', 'mein', 'melba', 'melissa', 'mellow', 'melon', 'melons', 'melt', 'melting', 'melts', 'membrane', 'membranes', 'memphis', 'menthe', 'merguez', 'meringue', 'merlot', 'mesclun', 'mesquite', 'metal', 'methi', 'mex', 'mexene', 'mexi', 'mexican', 'mexicana', 'mexico', 'mexicorn', 'meyer', 'mezcal', 'mezze', 'mezzetta', 'miami', 'mian', 'michelada', 'michigan', 'michter', 'microgreens', 'microwave', 'microwaveable', 'microwaved', 'middle', 'middleneck', 'midori', 'mignon', 'mike', 'milano', 'mild', 'milder', 'milk', 'milkfat', 'milkfish', 'milkshakes', 'mill', 'milled', 'miller', 'millet', 'milliliter', 'mills', 'mincemeat', 'mineral', 'minestrone', 'mini', 'miniature', 'minis', 'mint', 'mints', 'minute', 'minutes', 'miracle', 'mirepoix', 'mirin', 'mirlitons', 'miso', 'miss', 'mission', 'mist', 'mister', 'mistika', 'mixed', 'mixer', 'mixing', 'mixoflour', 'mixture', 'mizithra', 'mizuna', 'ml', 'mlo', 'mm', 'mocha', 'mochi', 'mochiko', 'modelo', 'moida', 'moist', 'moistened', 'moisture', 'mojito', 'mojo', 'molasses', 'mold', 'molds', 'mole', 'momokawa', 'monde', 'mongolian', 'monin', 'monk', 'monkfish', 'monosodium', 'monte', 'montenegro', 'monterey', 'month', 'montreal', 'moo', 'moon', 'moong', 'moons', 'moonshine', 'moose', 'mop', 'morcilla', 'morel', 'morello', 'mores', 'morgan', 'mori', 'moringa', 'moritas', 'morningstar', 'moroccan', 'morsels', 'mortadella', 'mortar', 'morton', 'moscato', 'moser', 'moss', 'mostaccioli', 'mostly', 'moto', 'motorvatin', 'mott', 'moulds', 'mountain', 'mousse', 'mouth', 'mozza', 'mozzarella', 'mr', 'mrs', 'ms', 'msg', 'mt', 'mu', 'much', 'muenster', 'muesli', 'muffin', 'muffins', 'mug', 'muir', 'mulato', 'mulberries', 'mullet', 'mulling', 'multi', 'multicolored', 'multigrain', 'mulyeot', 'mung', 'muscat', 'muscle', 'muscles', 'muscovado', 'mushroom', 'mushrooms', 'musketeers', 'musselman', 'mussels', 'mustard', 'mutton', 'myers', 'myun', 'naan', 'nabisco', 'nacho', 'nail', 'nam', 'nama', 'nameko', 'napa', 'napoletana', 'naruto', 'nasoya', 'nasturtium', 'natural', 'naturally', 'naturals', 'nature', 'naturegg', 'naval', 'navel', 'navy', 'neapolitan', 'near', 'nearly', 'necco', 'necessary', 'neck', 'necks', 'nectar', 'nectarine', 'nectarines', 'need', 'neese', 'negra', 'negro', 'neon', 'nephew', 'neroli', 'nescafe', 'nesquick', 'nesquik', 'nestle', 'netting', 'nettle', 'nettles', 'neufchatel', 'neufchâtel', 'neutral', 'new', 'newcastle', 'newfoundland', 'newman', 'niblet', 'niblets', 'nibs', 'nickel', 'nicoise', 'nigari', 'nigella', 'nilla', 'nissin', 'noir', 'non', 'nondairy', 'none', 'nonpareil', 'nonpareils', 'nonstick', 'noodle', 'noodles', 'nopales', 'nopalitos', 'nordica', 'nori', 'north', 'northern', 'note', 'notes', 'nougat', 'nu', 'nugget', 'nuggets', 'number', 'nuoc', 'nut', 'nutella', 'nutmeg', 'nutritional', 'nuts', 'nutter', 'ny', 'nylon', 'oat', 'oatmeal', 'oats', 'oaxaca', 'ocean', 'octoberfest', 'octopus', 'odom', 'oelek', 'oetker', 'often', 'ogorki', 'oikos', 'oil', 'okra', 'oktoberfest', 'old', 'olde', 'olive', 'olives', 'olivia', 'omega', 'omelets', 'one', 'ones', 'onion', 'onions', 'open', 'opo', 'option', 'options', 'orange', 'oranges', 'orchard', 'ore', 'orecchiette', 'oregano', 'oreo', 'oreos', 'organic', 'orgeat', 'oriental', 'original', 'originale', 'originals', 'orrington', 'ortega', 'orzo', 'oscar', 'ossobuco', 'otto', 'ottogi', 'outer', 'outs', 'ouzo', 'oval', 'ovalette', 'ovaltine', 'oven', 'overnight', 'overripe', 'owens', 'oxtail', 'oxtails', 'oyster', 'oysters', 'oz', 'paca', 'pace', 'pacific', 'pack', 'package', 'packaged', 'packet', 'packets', 'pad', 'padano', 'padi', 'padron', 'paella', 'paisano', 'pak', 'pale', 'paleo', 'palm', 'palouse', 'pam', 'pan', 'panang', 'pancake', 'pancakes', 'pancetta', 'pancit', 'pandan', 'paneer', 'paneriso', 'panettone', 'panko', 'panna', 'panquehue', 'pans', 'pantry', 'pao', 'papaccelle', 'papaya', 'papayas', 'papayiannides', 'paper', 'pappardelle', 'pappy', 'paprika', 'paraffin', 'parboiled', 'parchment', 'pared', 'pareils', 'pareve', 'parilla', 'paris', 'parisian', 'park', 'parkay', 'parker', 'parma', 'parmagiano', 'parmesan', 'parmigiano', 'parsley', 'parsnip', 'parsnips', 'part', 'partially', 'partridge', 'parts', 'party', 'pasa', 'pasilla', 'paso', 'passata', 'passing', 'passion', 'passover', 'pasta', 'paste', 'pastel', 'pasteurized', 'pastina', 'pastor', 'pastrami', 'pastries', 'pastry', 'pat', 'patagonian', 'patak', 'patch', 'pate', 'patis', 'pato', 'patron', 'pats', 'patted', 'pattern', 'patterson', 'patties', 'patty', 'pattypan', 'paul', 'paula', 'pav', 'pawpaw', 'pb', 'pea', 'peach', 'peaches', 'peak', 'peaks', 'peanut', 'peanuts', 'pear', 'pearl', 'pearled', 'pearlini', 'pearlized', 'pearls', 'pears', 'peas', 'pebbles', 'pecan', 'pecans', 'pecorino', 'pectin', 'pee', 'peel', 'peeler', 'peelings', 'peels', 'peeps', 'peg', 'pekoe', 'pellegrino', 'pellets', 'penne', 'penzey', 'penzeys', 'penzy', 'pepe', 'peperoncini', 'pepitas', 'peppadew', 'peppadrops', 'pepper', 'peppercorn', 'peppercorns', 'peppered', 'pepperidge', 'pepperjack', 'peppermint', 'pepperoncini', 'pepperoni', 'peppers', 'peppery', 'peppino', 'pequin', 'per', 'perch', 'perfect', 'perfectly', 'peri', 'perlato', 'perle', 'perline', 'pernod', 'perrier', 'perrins', 'persian', 'persimmon', 'persimmons', 'peruvian', 'pesto', 'pet', 'petal', 'petals', 'pete', 'peter', 'petes', 'petite', 'peychaud', 'pheasant', 'pheasants', 'phil', 'philadelphia', 'pho', 'phyllo', 'pica', 'picante', 'picapeppa', 'pickapeppa', 'picked', 'pickle', 'pickled', 'pickles', 'pickling', 'picks', 'picnic', 'pico', 'picon', 'piece', 'pierced', 'pierogies', 'pies', 'pig', 'pigeon', 'pignoli', 'pilaf', 'pillsbury', 'piloncillo', 'pilsner', 'pimenta', 'pimento', 'pimenton', 'pimentos', 'pimiento', 'pimientos', 'pimm', 'pin', 'pina', 'pinches', 'pine', 'pineapple', 'pinenuts', 'pink', 'pinot', 'pinquito', 'pint', 'pinto', 'pints', 'pipette', 'piping', 'pippin', 'piquillo', 'piri', 'pisco', 'pistachio', 'pistachios', 'pistolette', 'pit', 'pita', 'pitas', 'pitaya', 'pitch', 'pith', 'pits', 'pizza', 'pizzas', 'pkg', 'pla', 'place', 'plank', 'planks', 'plantain', 'plantains', 'planters', 'plastic', 'plata', 'plochman', 'ploy', 'plucked', 'plum', 'plump', 'plumped', 'plums', 'pluots', 'plus', 'poached', 'poaching', 'poblano', 'pocket', 'pocketless', 'pockets', 'pod', 'pods', 'point', 'polenta', 'polish', 'pollock', 'polska', 'polskie', 'polydextrose', 'pomegranate', 'pomegranates', 'pomfret', 'pompano', 'ponzu', 'poolish', 'pop', 'popchips', 'popcorn', 'popped', 'popping', 'poppy', 'poppyseed', 'pops', 'popsicle', 'porcini', 'pork', 'port', 'portabella', 'portabello', 'porter', 'porterhouse', 'portion', 'portions', 'portobella', 'portobello', 'portuguese', 'possible', 'post', 'pot', 'potato', 'potatoes', 'potpourri', 'potsticker', 'potstickers', 'pouch', 'pouches', 'poulet', 'poultry', 'pounded', 'poupon', 'prague', 'praline', 'prawn', 'prawns', 'pre', 'prebaked', 'precooked', 'prefer', 'preferably', 'preferred', 'prego', 'premade', 'premier', 'premium', 'prepared', 'preparing', 'prerolled', 'preserved', 'preserves', 'preserving', 'presidente', 'pressed', 'pressurized', 'pretzel', 'pretzels', 'prevent', 'prewashed', 'pricked', 'prickly', 'pride', 'prik', 'primal', 'primavera', 'prime', 'private', 'process', 'processed', 'processor', 'product', 'professional', 'progresso', 'prohibition', 'pronto', 'proof', 'prosciutto', 'prosecco', 'protein', 'provence', 'provolone', 'prudhomme', 'prune', 'prunes', 'psyllium', 'pucker', 'pudding', 'pueblo', 'puerto', 'puff', 'puffed', 'puffs', 'pulique', 'pulled', 'pulp', 'pumpernickel', 'pumpernikel', 'pumpkin', 'pumpkins', 'punch', 'puppy', 'purchased', 'pure', 'puree', 'pureed', 'purely', 'puri', 'purple', 'purslane', 'pushcart', 'pushed', 'puss', 'quail', 'quaker', 'quality', 'quantity', 'quark', 'quart', 'quarter', 'quartered', 'quarters', 'quarts', 'que', 'queen', 'queijo', 'quesadilla', 'quesadillas', 'queso', 'quiche', 'quick', 'quina', 'quince', 'quinces', 'quinoa', 'quinquina', 'quorn', 'rabbit', 'rabe', 'rack', 'racks', 'radiatore', 'radicchio', 'radish', 'radishes', 'raffaello', 'ragu', 'rainbow', 'rainbows', 'rainier', 'raised', 'raisin', 'raisins', 'rajma', 'raman', 'ramekins', 'ramen', 'ramps', 'ramyonsari', 'ranch', 'rancher', 'rancherito', 'ranchero', 'rapid', 'rapidrise', 'rapunzel', 'rare', 'ras', 'raspberries', 'raspberry', 'rava', 'ravioli', 'raw', 'ray', 'razor', 'rbgh', 'rbst', 'ready', 'real', 'realemon', 'realfruit', 'realime', 'reblochon', 'recao', 'recently', 'recipe', 'recipes', 'recommended', 'reconstituted', 'rectangles', 'rectangular', 'reddi', 'redfish', 'redhot', 'redmond', 'redpack', 'reds', 'reduce', 'reduced', 'reduction', 'reese', 'refined', 'refried', 'refrigerated', 'refrigerator', 'refritos', 'reggiano', 'regular', 'rehydrated', 'relish', 'remaining', 'remoulade', 'removable', 'remove', 'removed', 'removing', 'rendang', 'rendered', 'renee', 'rennet', 'replacement', 'replacer', 'reposado', 'request', 'resealable', 'resembling', 'reserve', 'reserved', 'reserving', 'resistant', 'rest', 'restaurant', 'retained', 'retied', 'reynolds', 'rhine', 'rhodes', 'rhone', 'rhubarb', 'rib', 'ribbons', 'ribeye', 'ribs', 'rican', 'rice', 'riced', 'ricer', 'riceselect', 'rich', 'ricotta', 'ridged', 'riesling', 'rigatoni', 'right', 'rim', 'rimming', 'rims', 'rind', 'rinded', 'rinds', 'ring', 'rings', 'rinsed', 'ripe', 'ripened', 'ripped', 'rippled', 'rise', 'rising', 'risotto', 'ritz', 'river', 'ro', 'road', 'roast', 'roasted', 'roasting', 'roasts', 'robusto', 'rock', 'rocket', 'rockfish', 'rocky', 'rods', 'roe', 'rojo', 'roll', 'rolled', 'rolling', 'rolls', 'rolo', 'roma', 'romaine', 'romanesco', 'romano', 'rome', 'roni', 'ronzoni', 'rooibos', 'room', 'root', 'roots', 'roquefort', 'rosarita', 'rose', 'rosemary', 'roses', 'rosewater', 'rossi', 'rosé', 'rotel', 'rotelle', 'roth', 'rotini', 'rotisserie', 'rouge', 'rough', 'roughly', 'roughy', 'round', 'rounds', 'route', 'roux', 'rows', 'royal', 'rub', 'rubbed', 'ruby', 'ruffles', 'rum', 'rumchata', 'rump', 'run', 'rush', 'russet', 'russets', 'russian', 'rustic', 'rutabaga', 'rutabagas', 'ruth', 'rye', 'sa', 'sabut', 'saccharine', 'sack', 'saco', 'saeujeot', 'saewujeot', 'saf', 'safe', 'safflower', 'saffron', 'sage', 'sago', 'saigon', 'sailor', 'sake', 'salad', 'salami', 'salata', 'salemville', 'salmon', 'salmonberries', 'salsa', 'salsita', 'salt', 'salted', 'saltine', 'salty', 'salvadoran', 'salvadorena', 'sam', 'sambal', 'sambar', 'sambazon', 'sambuca', 'samosa', 'samuel', 'san', 'sancerre', 'sandies', 'sanding', 'sandwich', 'sandwiches', 'sangiovese', 'sangria', 'santa', 'sanuf', 'sara', 'sardines', 'sargento', 'sashimi', 'saskatoon', 'sassafras', 'satay', 'satsuma', 'saturei', 'sauces', 'sauerkraut', 'saury', 'sausage', 'sausagemeat', 'sausages', 'saute', 'sauteed', 'sauteing', 'sauterne', 'sauternes', 'sauvignon', 'sauza', 'save', 'saved', 'savory', 'savoury', 'savoy', 'sawed', 'sawyer', 'sazon', 'sazonador', 'scalded', 'scaled', 'scallion', 'scallions', 'scallop', 'scalloped', 'scallops', 'scaloppini', 'scant', 'scape', 'scapes', 'schnapps', 'school', 'schubert', 'scissors', 'scones', 'scoop', 'scooped', 'scoops', 'scored', 'scotch', 'scout', 'scrambled', 'scraped', 'scrapple', 'scraps', 'scrubbed', 'se', 'sea', 'seafood', 'seal', 'seamless', 'seared', 'seashell', 'season', 'seasonal', 'seasoned', 'seasoning', 'seasonings', 'seasons', 'seattle', 'seaweed', 'sec', 'seco', 'second', 'secret', 'secrets', 'section', 'sectioned', 'sections', 'see', 'seed', 'seeded', 'seedless', 'seedy', 'segmented', 'segments', 'seitan', 'sel', 'select', 'selection', 'self', 'seltzer', 'semi', 'semifreddo', 'semolina', 'sencha', 'sensations', 'separate', 'separated', 'separately', 'serrano', 'serve', 'serviceberries', 'serving', 'servings', 'sesame', 'set', 'setting', 'seven', 'several', 'seville', 'sfq', 'shade', 'shake', 'shaken', 'shakka', 'shallot', 'shallots', 'shank', 'shanks', 'shao', 'shaoxing', 'shape', 'shaped', 'shapes', 'shark', 'sharp', 'sharpness', 'shaved', 'shavings', 'shears', 'sheep', 'sheeps', 'sheet', 'sheets', 'shelby', 'shelf', 'shell', 'shelled', 'shellfish', 'shells', 'sherbet', 'sherry', 'shichimi', 'shiitake', 'shimeji', 'shiner', 'shirakiku', 'shirataki', 'shiraz', 'shiro', 'shishito', 'shoe', 'shoepeg', 'shoestring', 'shoga', 'shoot', 'shoots', 'shopping', 'shore', 'short', 'shortbread', 'shortcake', 'shortcakes', 'shortcrust', 'shortening', 'shot', 'shots', 'shoulder', 'shoyu', 'shreds', 'shrimp', 'shu', 'shucked', 'sic', 'sichuan', 'sicilia', 'side', 'sides', 'sieve', 'sieved', 'siew', 'sifted', 'signature', 'silk', 'silken', 'silks', 'silver', 'silverbeet', 'similar', 'simmering', 'simple', 'simply', 'sinew', 'single', 'singles', 'sirloin', 'sister', 'sit', 'siu', 'six', 'sixteen', 'sixths', 'size', 'sized', 'skewer', 'skewers', 'skillet', 'skim', 'skimmed', 'skin', 'skinned', 'skins', 'skirt', 'skittles', 'skor', 'skyline', 'skyy', 'slab', 'slabs', 'slant', 'slap', 'slaw', 'sleeve', 'sleeves', 'slender', 'slice', 'sliceable', 'slicer', 'slicing', 'slider', 'slightly', 'slim', 'slit', 'slits', 'sliver', 'slivered', 'slivers', 'sloe', 'sloppy', 'slow', 'slush', 'small', 'smaller', 'smart', 'smashed', 'smelt', 'smirnoff', 'smith', 'smithfield', 'smoke', 'smoked', 'smokehouse', 'smoker', 'smokey', 'smokie', 'smokies', 'smoking', 'smoky', 'smooth', 'smoothie', 'smucker', 'snack', 'snacks', 'snails', 'snap', 'snapped', 'snapper', 'snappers', 'snapple', 'snaps', 'snickers', 'snip', 'snipped', 'snipping', 'snow', 'soaked', 'soaking', 'soba', 'sockeye', 'soda', 'sodium', 'sofrito', 'soft', 'softasilk', 'soften', 'soju', 'sole', 'solid', 'solo', 'solution', 'somen', 'son', 'sonoma', 'sooji', 'soon', 'sopes', 'sorbet', 'sorghum', 'sorrel', 'sorted', 'sottocenere', 'souchong', 'souffle', 'soul', 'sourball', 'sourdough', 'soursop', 'south', 'southern', 'southwest', 'southwestern', 'souvlaki', 'soy', 'soybean', 'soybeans', 'soymilk', 'spaghetti', 'spaghettini', 'spam', 'spanish', 'spare', 'spareribs', 'sparking', 'sparkling', 'spear', 'spearmint', 'spears', 'special', 'specialty', 'speckled', 'spectrum', 'speculoos', 'spelt', 'spent', 'spheres', 'spice', 'spiced', 'spices', 'spicier', 'spicy', 'spike', 'spinach', 'spines', 'spiral', 'spiralized', 'spirals', 'spirulina', 'spit', 'splash', 'splashes', 'splenda', 'split', 'sponge', 'spoon', 'spoonable', 'spooned', 'spoons', 'sport', 'sports', 'spot', 'spray', 'sprays', 'spread', 'spreadable', 'spreadables', 'spreading', 'sprig', 'sprigs', 'spring', 'springform', 'sprinkle', 'sprinkles', 'sprinkling', 'sprite', 'spritzed', 'spritzer', 'sprouted', 'sprouts', 'spumante', 'spun', 'square', 'squash', 'squashes', 'squeezable', 'squeeze', 'squeezed', 'squeezes', 'squid', 'squirrels', 'sriracha', 'st', 'stable', 'stacked', 'stale', 'stalk', 'stalks', 'stamen', 'stand', 'standard', 'standing', 'star', 'starbucks', 'starburst', 'starch', 'starchy', 'starlight', 'stars', 'start', 'starter', 'starters', 'state', 'staybrite', 'steak', 'steakhouse', 'steaks', 'steam', 'steamcrisp', 'steamed', 'steamer', 'steamers', 'steamfresh', 'steaming', 'steel', 'steelhead', 'stella', 'stem', 'stemmed', 'stems', 'stencils', 'step', 'sterilized', 'steve', 'stevia', 'stew', 'stewed', 'stewing', 'stick', 'stickers', 'sticks', 'sticky', 'stiff', 'stiffly', 'still', 'stilton', 'stinging', 'stir', 'stirred', 'stock', 'stoli', 'stomach', 'stone', 'stones', 'stonewall', 'storage', 'store', 'stout', 'stove', 'stovetop', 'strained', 'strands', 'straw', 'strawberries', 'strawberry', 'straws', 'stray', 'strength', 'streusel', 'string', 'strings', 'strip', 'stripe', 'striped', 'stripes', 'stripped', 'strips', 'strong', 'strongly', 'struffoli', 'stuf', 'stuffed', 'stuffing', 'stumptown', 'sturdy', 'style', 'styrofoam', 'su', 'sub', 'submarine', 'substitute', 'substituted', 'substitutes', 'sucanat', 'succotash', 'suckling', 'sucralose', 'sucrolose', 'suet', 'sueur', 'sugar', 'sugars', 'suggested', 'suggestions', 'suisse', 'suitable', 'sukhi', 'sukiyaki', 'sultana', 'sultanas', 'sum', 'sumac', 'summer', 'sun', 'sunchokes', 'sundae', 'sunflower', 'sunnyd', 'sunrise', 'sunsweet', 'super', 'superfine', 'supplement', 'supreme', 'sure', 'surface', 'surimi', 'surprise', 'sushi', 'sutton', 'svedka', 'swai', 'swan', 'swans', 'swanson', 'sweet', 'sweetbreads', 'sweetener', 'swirl', 'swiss', 'swordfish', 'syrah', 'syrian', 'szechuan', 'szechwan', 'tabasco', 'table', 'tablet', 'tablets', 'taco', 'tacos', 'tagine', 'tagliatelle', 'tahini', 'tai', 'tail', 'tails', 'tajin', 'tall', 'tamale', 'tamales', 'tamari', 'tamarind', 'tandoori', 'tang', 'tangerine', 'tangerines', 'tango', 'tangy', 'tanqueray', 'tap', 'tapatio', 'tape', 'tapenade', 'tapioca', 'taquitos', 'tarbais', 'tarka', 'taro', 'tarragon', 'tart', 'tartar', 'tartaric', 'tartine', 'tarts', 'tasso', 'tastefully', 'taster', 'tasters', 'tater', 'tawny', 'tazo', 'tea', 'teabags', 'teardrop', 'teddy', 'teff', 'tel', 'telera', 'tempeh', 'temperature', 'tempering', 'tempura', 'tender', 'tenderflake', 'tenderized', 'tenderizer', 'tenderloin', 'tenderloins', 'tenders', 'tenkasu', 'tennessee', 'tentacles', 'tepid', 'tequila', 'teriyaki', 'tex', 'texas', 'texmati', 'texture', 'textured', 'texturized', 'tgi', 'thai', 'thaw', 'thick', 'thicken', 'thickly', 'thickness', 'thigh', 'thighs', 'thin', 'thinner', 'thins', 'third', 'thirds', 'thompson', 'thoroughly', 'thousand', 'thread', 'threads', 'three', 'thyme', 'ti', 'tia', 'tidbits', 'tie', 'tied', 'ties', 'tiger', 'tightly', 'tilapia', 'tillamook', 'time', 'times', 'tin', 'tinted', 'tiny', 'tio', 'tip', 'tipo', 'tips', 'tiramisu', 'tire', 'tito', 'tm', 'toast', 'toasted', 'toaster', 'toasting', 'toasts', 'toban', 'tobiko', 'toenjang', 'toffee', 'tofu', 'tofutti', 'togarashi', 'together', 'toll', 'tom', 'tomatillo', 'tomatillos', 'tomato', 'tomatoes', 'tombstones', 'ton', 'tongue', 'tongues', 'tonic', 'tonkatsu', 'tony', 'toor', 'toothpick', 'toothpicks', 'tootsie', 'top', 'toppings', 'tops', 'torani', 'torched', 'torn', 'torpedo', 'tortellini', 'tortiglioni', 'tortilla', 'tortillas', 'toscano', 'tostada', 'tostadas', 'tostidos', 'tostito', 'tostitos', 'total', 'tots', 'touch', 'tough', 'toulouse', 'towel', 'towels', 'town', 'trader', 'traditional', 'trail', 'trans', 'transparent', 'tray', 'trays', 'treacle', 'treated', 'treats', 'tres', 'tri', 'triangles', 'trifle', 'triglyceride', 'trimmed', 'trimmings', 'trio', 'tripe', 'triple', 'triscuit', 'trompette', 'tropical', 'trouble', 'trout', 'truffle', 'truffled', 'truffles', 'trumpet', 'truroots', 'truvia', 'tsang', 'tteok', 'tub', 'tube', 'tubes', 'tubs', 'tumeric', 'tuna', 'tung', 'tupelo', 'turban', 'turbinado', 'turkey', 'turkeys', 'turkish', 'turmeric', 'turnip', 'turnips', 'turtle', 'tuscan', 'tuvar', 'tvp', 'twelve', 'twice', 'twigs', 'twin', 'twine', 'twinkies', 'twist', 'twisted', 'twists', 'twizzlers', 'two', 'tying', 'type', 'tyson', 'tzatziki', 'ube', 'udi', 'udon', 'ultragrain', 'umbrellas', 'unagi', 'unbaked', 'unbleached', 'unchopped', 'uncle', 'uncured', 'uncut', 'underripe', 'undiluted', 'undrained', 'undyed', 'unfiltered', 'unflavored', 'unfolded', 'unhusked', 'unopened', 'unpacked', 'unpasteurized', 'unpeeled', 'unpopped', 'unprepared', 'unprocessed', 'unrefined', 'unrinsed', 'unripe', 'unrolled', 'unseasoned', 'unshelled', 'unsifted', 'unsliced', 'unsmoked', 'unsplit', 'unsulfured', 'unthawed', 'untoasted', 'untreated', 'untrimmed', 'unwashed', 'unwrap', 'unwrapped', 'ups', 'upside', 'urad', 'urfa', 'use', 'used', 'using', 'utz', 'uv', 'vacuum', 'valdeon', 'valencia', 'valentina', 'valley', 'value', 'vanilla', 'vareniky', 'varenyky', 'varies', 'varieties', 'variety', 'vay', 'veal', 'veg', 'vega', 'vegan', 'veganaise', 'vegata', 'vegemite', 'vegenaise', 'vegeta', 'vegetable', 'vegetables', 'vegetarian', 'veggie', 'veggies', 'vein', 'veined', 'veins', 'velveeta', 'velvet', 'venice', 'venison', 'vera', 'verbena', 'verde', 'verdelho', 'vermicelli', 'vermont', 'vermouth', 'vernors', 'vertically', 'verts', 'vh', 'via', 'vidalia', 'vietnamese', 'vietti', 'vinaigrette', 'vindaloo', 'vine', 'vinegar', 'vines', 'vino', 'violet', 'virginia', 'visible', 'vital', 'vitamin', 'vitar', 'vodka', 'voskos', 'wafer', 'wafers', 'waffle', 'waffles', 'wages', 'wagon', 'wakame', 'walden', 'walla', 'walleye', 'walnut', 'walnuts', 'want', 'warmed', 'wasabi', 'wash', 'washed', 'washington', 'water', 'watercress', 'watermelon', 'watermelons', 'waters', 'watkins', 'watson', 'wavy', 'wax', 'waxed', 'way', 'wear', 'weber', 'wedge', 'wedged', 'wedges', 'wee', 'weed', 'wegmans', 'weight', 'weiners', 'welch', 'well', 'werther', 'wesson', 'west', 'wet', 'whatever', 'wheat', 'wheel', 'wheels', 'whey', 'whip', 'whips', 'whisked', 'whiskey', 'whisky', 'whitefish', 'whitelily', 'whiting', 'whiz', 'wholesome', 'wholly', 'wide', 'wider', 'width', 'widthwise', 'wieners', 'wilco', 'wild', 'wildflower', 'willamette', 'williams', 'williamsburg', 'wilted', 'wilton', 'wine', 'wing', 'wings', 'wingtips', 'winter', 'wip', 'wisconsin', 'wise', 'wish', 'wishbone', 'witch', 'without', 'wok', 'wolf', 'wolfberries', 'wonder', 'wonderful', 'wondra', 'wong', 'wonton', 'wontons', 'wood', 'woodchuck', 'wooden', 'woodruff', 'woods', 'worcestershire', 'work', 'works', 'world', 'worm', 'worms', 'wrap', 'wrapped', 'wrapper', 'wrappers', 'wrapping', 'wraps', 'wray', 'wuyi', 'xanthan', 'xx', 'ya', 'yacon', 'yakisoba', 'yam', 'yams', 'yards', 'yautia', 'yazzo', 'year', 'yeast', 'yellowfin', 'yellowtail', 'yerba', 'yogurt', 'yolk', 'yolks', 'yoplait', 'york', 'yorkshire', 'young', 'yu', 'yuca', 'yucca', 'yuengling', 'yukon', 'yum', 'yuzu', 'yves', 'za', 'zaanse', 'zaatar', 'zang', 'zapallo', 'zatarain', 'zatarains', 'zatarian', 'zen', 'zested', 'zesty', 'zinfandel', 'zing', 'zip', 'ziti', 'zucchini', 'zucchinis', 'zwieback']\n"
     ]
    }
   ],
   "source": [
    "# Extract features from the text\n",
    "# count_vectorizer\n",
    "\n",
    "\n",
    "count_vectorizer2 = CountVectorizer(stop_words = new_stopwords)\n",
    "ingr_ct2 = count_vectorizer2.fit_transform(corpus)\n",
    "\n",
    "print(count_vectorizer2.get_feature_names())"
   ]
  },
  {
   "cell_type": "code",
   "execution_count": 42,
   "id": "b3a939c9",
   "metadata": {},
   "outputs": [
    {
     "name": "stdout",
     "output_type": "stream",
     "text": [
      "['abalone', 'absinthe', 'absolut', 'abuelita', 'ac', 'acado', 'acai', 'accent', 'accents', 'accompaniments', 'according', 'achiote', 'acid', 'acidity', 'acids', 'acini', 'acorn', 'across', 'act', 'activedry', 'adams', 'add', 'added', 'addition', 'additional', 'additions', 'adjust', 'adjustable', 'adobo', 'adzuki', 'aerated', 'african', 'agar', 'agave', 'age', 'aged', 'ahead', 'ahi', 'aid', 'aidells', 'aioli', 'air', 'airheads', 'aisle', 'aji', 'ajicitos', 'ajies', 'al', 'alaska', 'alaskan', 'albacore', 'alcaparrado', 'alcohol', 'alder', 'ale', 'aleppo', 'alessi', 'alexia', 'alfalfa', 'alfredo', 'alligator', 'allspice', 'allwhites', 'almond', 'almondmilk', 'almonds', 'almost', 'aloe', 'aloha', 'along', 'alouette', 'alphabet', 'already', 'alternative', 'alum', 'aluminum', 'amaranth', 'amaretti', 'amaretto', 'amarillo', 'amaro', 'amaz', 'amber', 'amberjack', 'amchoor', 'amchur', 'amer', 'american', 'amino', 'aminos', 'amish', 'ammonia', 'amontillado', 'amount', 'amsterdam', 'anaheim', 'anapakaya', 'ancho', 'anchovies', 'anchovy', 'ancient', 'andes', 'andouille', 'andre', 'anejo', 'angel', 'angelica', 'angle', 'angostura', 'angus', 'animal', 'anise', 'anisette', 'anjou', 'annatto', 'annie', 'another', 'antelope', 'apart', 'aperitif', 'aperol', 'apple', 'applejack', 'apples', 'applesauce', 'appleton', 'applewood', 'approx', 'apricot', 'apricots', 'apriplums', 'aquafaba', 'aquavit', 'arame', 'arbol', 'arborio', 'archer', 'arctic', 'arepas', 'argentinian', 'argo', 'arils', 'arm', 'armagnac', 'aromatic', 'arrowhead', 'arrowroot', 'arthur', 'artichoke', 'artichokes', 'artificial', 'artisan', 'artisanal', 'arugula', 'asada', 'asadero', 'asafoetida', 'ascorbic', 'asiago', 'asian', 'aside', 'asparagus', 'aspartame', 'assemble', 'assembly', 'assi', 'assorted', 'assortment', 'asti', 'asturian', 'astwix', 'aswad', 'atar', 'athenos', 'atlantic', 'attached', 'au', 'aunt', 'authentic', 'autry', 'autumn', 'available', 'avgolemono', 'aviation', 'avocado', 'avocados', 'away', 'aylmer', 'azafran', 'añejo', 'babka', 'baby', 'bacardi', 'back', 'backbone', 'backdraft', 'backs', 'backstrap', 'bacon', 'baconnaise', 'badi', 'badia', 'bag', 'bagel', 'bagels', 'bagged', 'bagoong', 'bags', 'baguette', 'baguettes', 'baharat', 'bai', 'bailey', 'baileys', 'bake', 'baked', 'baker', 'bakers', 'bakery', 'bakeware', 'balance', 'balanced', 'ball', 'baller', 'balls', 'balm', 'balsamic', 'baltimore', 'bam', 'bamboo', 'banana', 'bananas', 'bands', 'bangus', 'bannock', 'banquet', 'bar', 'barbados', 'barbecue', 'barbecued', 'barbeque', 'barbequed', 'barberries', 'bare', 'barefoot', 'barely', 'barilla', 'bark', 'barley', 'barolo', 'barramundi', 'barrel', 'bars', 'bartlett', 'base', 'baseball', 'based', 'basic', 'basics', 'basil', 'basket', 'baskets', 'basmati', 'bass', 'baste', 'basting', 'batavia', 'batter', 'bavarian', 'bay', 'bayou', 'bbq', 'beam', 'bean', 'beans', 'bear', 'bearnaise', 'bears', 'beaters', 'beau', 'beauty', 'becel', 'bechamel', 'bee', 'beech', 'beecher', 'beef', 'beefsteak', 'beefy', 'beer', 'beers', 'beet', 'beets', 'belacan', 'belachan', 'belgian', 'belgioioso', 'believe', 'belizean', 'bell', 'bella', 'bellas', 'belly', 'belts', 'beluga', 'ben', 'benedict', 'benedictine', 'bengal', 'beni', 'berbere', 'bermuda', 'berries', 'berry', 'bertolli', 'besan', 'best', 'better', 'betty', 'beurre', 'beverage', 'beverages', 'bhaji', 'bias', 'bibb', 'biber', 'big', 'biga', 'bilbao', 'bing', 'bird', 'birds', 'biryani', 'biscoff', 'biscotti', 'biscuit', 'biscuits', 'bison', 'bisque', 'bisquick', 'bistro', 'bit', 'bite', 'bites', 'bits', 'bitter', 'bittermens', 'bitters', 'bittersweet', 'blackberries', 'blackberry', 'blackcurrant', 'blackened', 'blackening', 'blackeye', 'blackstrap', 'blackwell', 'blade', 'blanc', 'blanca', 'blanched', 'blanco', 'blank', 'blast', 'bleached', 'blend', 'blended', 'blender', 'blending', 'blends', 'bleu', 'blintzes', 'bliss', 'block', 'blocks', 'blood', 'bloody', 'blooming', 'blossom', 'blossoms', 'blue', 'blueberries', 'blueberry', 'bluefish', 'boar', 'board', 'boards', 'bob', 'boboli', 'boca', 'bocconcini', 'bock', 'bodied', 'body', 'boil', 'boiled', 'boiler', 'bok', 'bold', 'bolillo', 'bologna', 'bolognese', 'bonal', 'bone', 'boned', 'bones', 'bonito', 'bonnet', 'boost', 'borden', 'borlotti', 'bosc', 'boston', 'bottle', 'bottled', 'bottles', 'bottom', 'bottomed', 'bottoms', 'boudin', 'bought', 'bouillon', 'bouqet', 'bouquet', 'bourbon', 'boursin', 'bow', 'bowl', 'bowls', 'box', 'boxed', 'boxes', 'boysenberries', 'boysenberry', 'brach', 'braeburn', 'bragg', 'brain', 'braising', 'bran', 'brand', 'branded', 'brands', 'brandy', 'branston', 'brat', 'bratwurst', 'bratwursts', 'braunschweiger', 'brazil', 'brazilian', 'bread', 'breadcrumb', 'breadcrumbs', 'breaded', 'breader', 'breading', 'breads', 'breadstick', 'breadsticks', 'breakfast', 'breakstone', 'bream', 'breast', 'breasts', 'breeze', 'brew', 'brewed', 'brewers', 'briannas', 'brick', 'brickle', 'bridgford', 'brie', 'briefly', 'brien', 'brine', 'brined', 'brinjal', 'brioche', 'briquets', 'briquettes', 'brisket', 'briskets', 'brittle', 'broad', 'broccoli', 'broccolini', 'broil', 'broiler', 'broken', 'brooks', 'broth', 'brothers', 'browned', 'brownie', 'brownies', 'browning', 'browns', 'bruce', 'bruised', 'brujo', 'brush', 'brushed', 'brushing', 'brussels', 'brut', 'bubblegum', 'bucatini', 'buckwheat', 'bud', 'buddig', 'buds', 'budweiser', 'buena', 'buffalo', 'bugles', 'buitoni', 'bulb', 'bulbs', 'bulgar', 'bulgarian', 'bulgur', 'bulk', 'bull', 'bulleit', 'bumble', 'bun', 'bunch', 'bunches', 'bundled', 'bunny', 'buns', 'burdock', 'burger', 'burgers', 'burgundy', 'burmese', 'burnett', 'burrata', 'burrito', 'burritos', 'bush', 'butcher', 'butt', 'butter', 'butterball', 'buttercream', 'buttercrunch', 'buttercup', 'buttered', 'butterfinger', 'butterfish', 'butterflied', 'butterfly', 'butterhead', 'buttermilk', 'butternut', 'butterscotch', 'buttershots', 'butterworth', 'buttery', 'button', 'buttons', 'buy', 'béarnaise', 'cabbage', 'cabernet', 'cabot', 'cabra', 'cabrales', 'cacao', 'cachaca', 'cachere', 'cacho', 'cactus', 'cadbury', 'caesar', 'caffeinated', 'caffeine', 'cajeta', 'cajon', 'cajun', 'cake', 'cakes', 'calabash', 'calabaza', 'calabrian', 'calamansi', 'calamari', 'calamata', 'calcium', 'calendula', 'calf', 'california', 'calimyrna', 'callaloo', 'callebaut', 'callender', 'calorie', 'calrose', 'calumet', 'calvados', 'calves', 'camembert', 'campanelle', 'campari', 'campbell', 'camphor', 'canada', 'canadian', 'candied', 'candies', 'candiquick', 'candlenuts', 'candy', 'cane', 'canes', 'canilla', 'canister', 'canned', 'cannellini', 'cannelloni', 'canning', 'cannoli', 'canola', 'cantaloupe', 'cantaloupes', 'canton', 'cantonese', 'cap', 'capacola', 'capelin', 'capellini', 'caper', 'capers', 'cappuccino', 'caps', 'captain', 'capuccino', 'cara', 'caramel', 'caramelized', 'caramels', 'carapelli', 'caraway', 'carb', 'carbohydrate', 'carbonated', 'carbquik', 'carcass', 'carcasses', 'cardamom', 'cardboard', 'caribbean', 'carl', 'carlo', 'carnaroli', 'carnation', 'carnations', 'carne', 'carob', 'carolina', 'carp', 'carpaccio', 'carrageen', 'carroll', 'carrot', 'carrots', 'cartilage', 'carton', 'cartons', 'carving', 'casbah', 'cascadian', 'casera', 'cashew', 'cashews', 'casing', 'casings', 'cassava', 'casserole', 'cassia', 'cassis', 'castelvetrano', 'caster', 'castor', 'cat', 'catalina', 'catelli', 'catfish', 'cattlemen', 'caul', 'cauldron', 'cauliflower', 'cavatapi', 'cavatappi', 'cavatelli', 'cavender', 'caviar', 'cayenne', 'cecco', 'cedar', 'celeriac', 'celery', 'cellentani', 'cellophane', 'celtic', 'cent', 'center', 'centers', 'cento', 'century', 'cereal', 'certified', 'certo', 'ceylon', 'chablis', 'chachere', 'chai', 'chain', 'challah', 'chambord', 'champagne', 'chana', 'chanco', 'chang', 'channa', 'chantaboon', 'chanterelle', 'chanterelles', 'chapssal', 'char', 'charcoal', 'chard', 'chardonnay', 'charred', 'chayote', 'chayotes', 'cheap', 'cheddar', 'cheddarwurst', 'chee', 'cheek', 'cheeks', 'cheerios', 'cheese', 'cheesecake', 'cheesecloth', 'cheeses', 'cheesy', 'cheetos', 'cheez', 'chef', 'chenel', 'chenin', 'cheong', 'chermoula', 'cherokee', 'cherries', 'cherry', 'cherrystone', 'chervil', 'chestnut', 'chestnuts', 'chevon', 'chevre', 'chewy', 'chex', 'chi', 'chia', 'chianti', 'chicago', 'chick', 'chicken', 'chickens', 'chickpea', 'chickpeas', 'chicks', 'chicory', 'chiffonade', 'chihuahua', 'chik', 'chile', 'chilean', 'chiles', 'chili', 'chilies', 'chilis', 'chilled', 'chilli', 'chimichurri', 'chinese', 'chip', 'chipits', 'chipolata', 'chipolte', 'chipotle', 'chipotles', 'chipped', 'chips', 'chitterlings', 'chive', 'chives', 'chlies', 'chlorella', 'chloride', 'chlorinated', 'chobani', 'chocolate', 'chocolates', 'choice', 'cholesterol', 'cholula', 'chong', 'chop', 'chops', 'chorize', 'chorizo', 'chourico', 'choux', 'chow', 'chowder', 'choy', 'choya', 'chubritsa', 'chuck', 'chunk', 'chunked', 'chunks', 'chunky', 'churned', 'churros', 'chutney', 'ciabatta', 'cider', 'cigars', 'cilantro', 'ciliegine', 'cinderella', 'cindy', 'cinghiale', 'cinnamon', 'cipollini', 'circles', 'circular', 'ciroc', 'citric', 'citron', 'citrus', 'city', 'clam', 'clamato', 'clams', 'clamshell', 'clarified', 'clasico', 'classic', 'classicmac', 'classico', 'classics', 'claussen', 'claw', 'claws', 'clean', 'cleaned', 'clear', 'clearjel', 'clementine', 'clementines', 'cling', 'clingstone', 'cloud', 'clove', 'clover', 'cloves', 'clovis', 'club', 'clusters', 'cm', 'co', 'coalho', 'coarsely', 'coarsley', 'coated', 'coating', 'coatings', 'cob', 'cobbler', 'cobia', 'cobs', 'coca', 'cocina', 'cockatiels', 'cocktail', 'cocktails', 'coco', 'cocoa', 'coconut', 'coconutmilk', 'coconuts', 'cocowhip', 'cod', 'coffee', 'coffeecake', 'cognac', 'coho', 'coin', 'coins', 'cointreau', 'coke', 'cola', 'colaciones', 'colada', 'colby', 'colcannon', 'cole', 'coleman', 'coleslaw', 'collard', 'college', 'collins', 'color', 'colored', 'coloring', 'colors', 'colossal', 'colour', 'colouring', 'combination', 'combinbation', 'combine', 'combined', 'comfort', 'comice', 'completa', 'complete', 'completely', 'components', 'compote', 'compound', 'compressed', 'comte', 'comté', 'con', 'concentrate', 'concentrated', 'concern', 'conch', 'conchiglie', 'concord', 'condiment', 'condiments', 'cone', 'conecuh', 'cones', 'confection', 'confectioner', 'confectionery', 'confetti', 'confit', 'consistency', 'consomme', 'construction', 'contadina', 'containers', 'conversation', 'converted', 'cook', 'cooker', 'cookers', 'cookie', 'cookies', 'cooking', 'cooks', 'cool', 'cooled', 'cooler', 'coors', 'coppa', 'corazon', 'core', 'cored', 'cores', 'coriander', 'corkscrew', 'corn', 'cornbread', 'corned', 'cornflake', 'cornflakes', 'cornhusks', 'cornichons', 'cornish', 'cornmeal', 'cornnuts', 'cornstarch', 'corona', 'cortland', 'cosmopolitan', 'costco', 'costeno', 'cotechino', 'cotes', 'cotija', 'cottage', 'cottas', 'cotto', 'cotton', 'coulis', 'count', 'country', 'county', 'courgette', 'courgettes', 'course', 'couscous', 'cove', 'cover', 'covered', 'cow', 'cowpeas', 'cox', 'coyote', 'crab', 'crabapples', 'crabmeat', 'crabs', 'cracked', 'cracker', 'crackers', 'cracklin', 'cracklings', 'craft', 'crafts', 'craisins', 'cran', 'cranberries', 'cranberry', 'crawfish', 'crazy', 'cream', 'creamed', 'creamer', 'creamy', 'creating', 'creations', 'crema', 'creme', 'cremini', 'crenshaw', 'creole', 'crepe', 'crepes', 'crescent', 'crescents', 'cricket', 'crimini', 'crimped', 'criollo', 'crisco', 'crisp', 'crispix', 'crisply', 'crisps', 'crispy', 'crock', 'crocker', 'croissants', 'croix', 'crookneck', 'croquettes', 'cross', 'crosse', 'crossways', 'crosswise', 'crostini', 'croutons', 'crowder', 'crown', 'crowns', 'crullers', 'crumb', 'crumbed', 'crumble', 'crumbles', 'crumpet', 'crunch', 'crunchies', 'crunchy', 'crush', 'crust', 'crusted', 'crustless', 'crusts', 'crusty', 'cruz', 'cruzan', 'crystal', 'crystallized', 'crystals', 'crème', 'cuban', 'cubanella', 'cubanelle', 'cube', 'cucumber', 'cucumbers', 'cuervo', 'cuisine', 'cukes', 'culantro', 'culinary', 'culture', 'cultured', 'cultures', 'cumin', 'cupcake', 'cupcakes', 'curacao', 'curd', 'curds', 'cure', 'cured', 'curing', 'curl', 'curls', 'curly', 'currant', 'currants', 'curried', 'curry', 'cushaw', 'custard', 'cutlets', 'cuts', 'cutter', 'cutters', 'cutting', 'daal', 'daechu', 'daikon', 'daiquiri', 'dairy', 'daisy', 'daiya', 'dal', 'dalchini', 'dale', 'dam', 'damn', 'dandelion', 'dang', 'dangmyun', 'daniel', 'danish', 'dannon', 'darjeeling', 'dark', 'darker', 'dash', 'dashes', 'dashi', 'date', 'dates', 'dave', 'day', 'de', 'dean', 'debearded', 'deboned', 'decaf', 'decaffeinated', 'decals', 'decorate', 'decorating', 'decoration', 'decorations', 'decorative', 'decorator', 'decors', 'deep', 'deer', 'defrost', 'defrosted', 'deglaze', 'degree', 'dehydrated', 'dei', 'dekuyper', 'del', 'deli', 'delicata', 'delicious', 'delight', 'delightfulls', 'delmonico', 'deluxe', 'demerara', 'demi', 'demiglace', 'dense', 'dente', 'depending', 'deseeded', 'design', 'desilked', 'desired', 'dessert', 'deveined', 'devil', 'deviled', 'dew', 'dextrose', 'dhal', 'di', 'diagonal', 'diagonally', 'diameter', 'diamond', 'diavolo', 'dice', 'dickinson', 'diet', 'dietz', 'different', 'digestive', 'digiorno', 'dijon', 'dill', 'dinner', 'dino', 'dinosaur', 'dip', 'dipped', 'dipping', 'dips', 'directed', 'directions', 'dirt', 'dirty', 'disaronno', 'discard', 'discarded', 'discarding', 'discs', 'dish', 'disks', 'disney', 'disposable', 'dissolved', 'distilled', 'ditalini', 'djan', 'dodge', 'doenjang', 'dog', 'dogs', 'dolce', 'dole', 'domestic', 'dominoes', 'done', 'dong', 'donut', 'donuts', 'doone', 'door', 'doritos', 'doubanjiang', 'double', 'dough', 'doughnut', 'doughnuts', 'dover', 'dr', 'dragees', 'dragon', 'drain', 'drake', 'dramatically', 'drambuie', 'draught', 'draw', 'dream', 'dreamfields', 'dredging', 'dressed', 'dressing', 'dreyer', 'drink', 'drippings', 'drizzle', 'drizzling', 'drop', 'drops', 'drum', 'drumettes', 'drummettes', 'drums', 'drumstick', 'drumsticks', 'drying', 'du', 'dubliner', 'duck', 'duckling', 'ducklings', 'duct', 'duke', 'dukkah', 'dulce', 'dulces', 'dulse', 'dumpling', 'dumplings', 'duncan', 'dungeness', 'dunya', 'duoz', 'durian', 'durkee', 'durum', 'dusseldorf', 'dust', 'dusting', 'dutch', 'duty', 'dye', 'dyed', 'eagle', 'ear', 'earl', 'early', 'ears', 'earth', 'earthbound', 'easily', 'east', 'easter', 'eastern', 'easy', 'eat', 'eating', 'eckrich', 'eclair', 'edam', 'edamame', 'edge', 'edges', 'edible', 'editor', 'edy', 'eel', 'eg', 'egg', 'eggland', 'eggnog', 'eggo', 'eggplant', 'eggplants', 'eggs', 'egyptian', 'eight', 'eighths', 'either', 'el', 'elaichi', 'elberta', 'elbow', 'elbows', 'elderberries', 'elderflower', 'elephant', 'elk', 'else', 'embasa', 'emerald', 'emeril', 'emmental', 'emmentaler', 'emmenthaler', 'empty', 'emulsion', 'enchilada', 'enchilado', 'encona', 'end', 'endive', 'endives', 'endless', 'ends', 'ener', 'energy', 'england', 'english', 'enhancer', 'enjoy', 'enoki', 'enough', 'enriched', 'entenmann', 'envelope', 'envelopes', 'epazote', 'equal', 'equivalent', 'erythritol', 'escargots', 'escarole', 'especial', 'espelette', 'espresso', 'essence', 'essentials', 'estate', 'etc', 'ethiopian', 'europe', 'european', 'evan', 'evans', 'even', 'evenly', 'everclear', 'everglades', 'everyday', 'everything', 'ew', 'except', 'excess', 'exclude', 'excluding', 'express', 'extracted', 'eye', 'eyeballs', 'eyed', 'eyes', 'ez', 'fabada', 'face', 'factory', 'fage', 'fah', 'fajita', 'fajitas', 'falafel', 'fall', 'family', 'famous', 'fancy', 'farang', 'farfalle', 'farfel', 'farina', 'farl', 'farm', 'farmer', 'farmers', 'farmhouse', 'farmland', 'farms', 'farro', 'fashioned', 'fast', 'fat', 'fatback', 'fattier', 'fatty', 'fava', 'favorite', 'fe', 'fed', 'fee', 'feet', 'female', 'fennel', 'fenugreek', 'fermented', 'ferns', 'feta', 'fettuccine', 'fettuccini', 'fettucine', 'fiber', 'fiddlehead', 'fiddleheads', 'fideo', 'field', 'fiesta', 'fifths', 'fig', 'figs', 'filberts', 'file', 'filet', 'filets', 'filing', 'filipino', 'fill', 'filled', 'fillet', 'fillets', 'filling', 'fillings', 'filter', 'filtered', 'filters', 'fin', 'final', 'fines', 'finger', 'fingerling', 'fingers', 'finish', 'finishing', 'finlandia', 'fino', 'fiori', 'fire', 'fireball', 'fireweed', 'firm', 'firmly', 'first', 'fish', 'fit', 'five', 'fixings', 'fizz', 'fizzy', 'fl', 'flagship', 'flake', 'flaked', 'flaky', 'flan', 'flank', 'flanken', 'flap', 'flared', 'flat', 'flatbread', 'flatbreads', 'flatout', 'flattened', 'flautas', 'flavor', 'flavoring', 'flavorless', 'flavors', 'flavoured', 'flax', 'flaxseed', 'fleischmann', 'flesh', 'fleshed', 'fleur', 'flexible', 'florentine', 'floret', 'florets', 'florida', 'floss', 'flounder', 'flour', 'flourless', 'flower', 'flowerets', 'flowers', 'fluff', 'fluffy', 'fly', 'foam', 'foamy', 'focaccia', 'foglie', 'foie', 'foil', 'folded', 'folgers', 'follow', 'follows', 'fond', 'fondant', 'fondue', 'fong', 'fontina', 'food', 'foods', 'footnote', 'forbidden', 'fordhook', 'forest', 'fork', 'form', 'formed', 'formula', 'fortified', 'fortress', 'foster', 'found', 'four', 'fourths', 'foxtrot', 'fragments', 'fragrant', 'fraiche', 'frais', 'framboise', 'frangelico', 'frangipane', 'frank', 'frankfurters', 'franks', 'fratelli', 'fred', 'free', 'freekeh', 'freestone', 'freeze', 'freezer', 'french', 'frenched', 'fresca', 'fresco', 'fresno', 'friday', 'fried', 'friendship', 'fries', 'frills', 'frisee', 'fritos', 'fritter', 'fritters', 'frog', 'fromage', 'fronds', 'frontera', 'froot', 'frosted', 'frosting', 'frothy', 'fructose', 'fruit', 'fruitcake', 'fruited', 'fruits', 'fruity', 'fry', 'fryer', 'frying', 'frymix', 'fudge', 'fuggles', 'fugi', 'fuji', 'full', 'fully', 'fulton', 'fumi', 'fun', 'funfetti', 'fungus', 'furikake', 'fusili', 'fusilli', 'fuyu', 'gai', 'gala', 'galangal', 'galletas', 'galliano', 'gallo', 'gallon', 'gallons', 'game', 'ganache', 'gandules', 'garae', 'garam', 'garbanzo', 'garbanzos', 'garden', 'gardenburger', 'gari', 'garland', 'garlic', 'garni', 'garnier', 'garnish', 'garnishes', 'garnishing', 'gastrique', 'gatorade', 'gay', 'gebhardt', 'gel', 'gelatin', 'gelato', 'gels', 'gemelli', 'general', 'generous', 'gennaro', 'genoa', 'genovese', 'gentiane', 'gently', 'germ', 'germain', 'german', 'germinated', 'gewurztraminer', 'gf', 'ghee', 'gherkin', 'gherkins', 'ghirardelli', 'ghost', 'ghosts', 'gianduja', 'giant', 'giardiniera', 'giblets', 'gills', 'gimme', 'gin', 'ginger', 'gingerade', 'gingerbread', 'gingered', 'gingerroot', 'gingersnap', 'gingersnaps', 'ginseng', 'girard', 'girl', 'gizzards', 'glace', 'glaces', 'glass', 'glasses', 'glaze', 'glazed', 'glazing', 'glen', 'glitter', 'globe', 'gloves', 'glucose', 'glue', 'glutamate', 'gluten', 'glutino', 'glutinous', 'glycerin', 'gnocchi', 'go', 'goat', 'gochugaru', 'gochujang', 'goddess', 'godiva', 'gods', 'going', 'goji', 'gojuchang', 'gold', 'golden', 'goldfish', 'goldings', 'goldish', 'goldust', 'gone', 'good', 'goodies', 'goodman', 'goodness', 'goose', 'gooseberries', 'gorgonzola', 'gouda', 'gourd', 'gourmet', 'goya', 'grade', 'graham', 'grahams', 'grain', 'grained', 'grains', 'grainy', 'gram', 'grams', 'gran', 'grana', 'grand', 'grandma', 'grandmother', 'grands', 'granita', 'granny', 'granola', 'granular', 'granulated', 'granules', 'grape', 'grapefruit', 'grapes', 'grapeseed', 'gras', 'grass', 'grater', 'gratin', 'gravenstein', 'gravlax', 'gravy', 'gravymaster', 'gray', 'grease', 'greasing', 'great', 'greek', 'greenery', 'greens', 'gremolata', 'grenadine', 'grey', 'grigio', 'grill', 'grille', 'grilled', 'grilling', 'grind', 'grinder', 'grinders', 'grinding', 'grinds', 'grits', 'groats', 'grocer', 'grouper', 'grouse', 'grown', 'gruyere', 'gruyère', 'gua', 'guacamole', 'guajillo', 'guanciale', 'guar', 'guava', 'guavas', 'guinness', 'guittard', 'gulden', 'gulf', 'gum', 'gumbo', 'gumdrops', 'gummi', 'gummy', 'gutted', 'gwaltney', 'gyoza', 'gypsy', 'haas', 'habanero', 'habaneros', 'hachiya', 'haddock', 'hair', 'hake', 'hakurei', 'haldi', 'halibut', 'halloumi', 'halloween', 'halved', 'ham', 'hamachi', 'hamburger', 'hand', 'handful', 'handle', 'hands', 'hangar', 'hanger', 'hanout', 'hard', 'hardwood', 'haricots', 'harina', 'harissa', 'harmless', 'harp', 'hartshorn', 'harvest', 'hash', 'hashbrowns', 'hass', 'hatch', 'haupia', 'havarti', 'hawaiian', 'hazelnut', 'hazelnuts', 'head', 'headless', 'heads', 'healthy', 'heaping', 'heart', 'hearts', 'hearty', 'heat', 'heated', 'heath', 'heels', 'heering', 'hefeweizen', 'heineken', 'heinz', 'heirloom', 'helix', 'hellman', 'hellmann', 'helper', 'hemp', 'hen', 'hendrick', 'hens', 'herb', 'herbal', 'herbamare', 'herbed', 'herbes', 'herbs', 'herbsaint', 'herdez', 'herman', 'hero', 'herring', 'hershey', 'hibiscus', 'hickory', 'hidden', 'high', 'hillshire', 'himalayan', 'hines', 'hing', 'hinged', 'hint', 'hispanic', 'hoagie', 'hock', 'hocks', 'hodgson', 'hog', 'hoisin', 'holders', 'holes', 'holiday', 'holland', 'hollandaise', 'hollowed', 'holly', 'holy', 'home', 'homemade', 'homestyle', 'hometown', 'hominy', 'hondashi', 'honey', 'honeycomb', 'honeycrisp', 'honeydew', 'honkers', 'hooters', 'hops', 'horizon', 'horizontally', 'hormel', 'horn', 'horseradish', 'hothouse', 'hotness', 'hots', 'hour', 'hours', 'house', 'hp', 'hsing', 'hubbard', 'huckleberries', 'hugs', 'hull', 'hulled', 'hummus', 'hundred', 'hung', 'hungarian', 'hungry', 'hunt', 'hunts', 'husk', 'husked', 'husks', 'huy', 'hydrogenated', 'hydroxide', 'ibarra', 'iceberg', 'iced', 'icing', 'ida', 'idaho', 'idahoan', 'ie', 'ii', 'imagine', 'imitation', 'immaculate', 'imperial', 'imported', 'inches', 'included', 'including', 'indian', 'individual', 'individually', 'indonesian', 'indulgence', 'infant', 'infused', 'infusions', 'ingredient', 'ingredients', 'injectable', 'injection', 'injector', 'injera', 'ink', 'inn', 'inner', 'innovasian', 'insam', 'insects', 'inside', 'inspired', 'instacure', 'instructions', 'intact', 'international', 'inthe', 'iodized', 'ipa', 'irish', 'iron', 'isaly', 'island', 'islands', 'israeli', 'italiano', 'ivanhoe', 'jack', 'jackfruit', 'jagermeister', 'jaggery', 'jalapeno', 'jalapenos', 'jalapeño', 'jam', 'jamaican', 'jambalaya', 'jameed', 'jameson', 'jane', 'jap', 'japanese', 'japones', 'jar', 'jarlsberg', 'jarred', 'jars', 'jasmati', 'jasmine', 'jeera', 'jell', 'jellied', 'jello', 'jelly', 'jellybeans', 'jellyrolls', 'jemima', 'jen', 'jennie', 'jerk', 'jerry', 'jerusalem', 'jet', 'jewel', 'jewish', 'jicama', 'jicamas', 'jif', 'jiffy', 'jigger', 'jiggers', 'jim', 'jimmies', 'jimmy', 'joconde', 'joe', 'joes', 'johnagold', 'johnny', 'johnson', 'johnsonville', 'joint', 'joints', 'jolly', 'jonathan', 'jones', 'jose', 'jowl', 'joy', 'jr', 'juiced', 'juices', 'juicing', 'juicy', 'jujube', 'julienne', 'julienned', 'jumbo', 'junior', 'juniper', 'jus', 'jwala', 'kaali', 'kabob', 'kabobs', 'kabocha', 'kabsa', 'kacha', 'kaffir', 'kahlua', 'kaiser', 'kala', 'kalamansi', 'kalamata', 'kalbi', 'kale', 'kalonji', 'kamut', 'kangaroo', 'kansas', 'kantong', 'karat', 'karo', 'karpoor', 'kary', 'kasandrino', 'kasha', 'kashmiri', 'kasih', 'kasoori', 'kasturi', 'kat', 'kataifi', 'katinka', 'kc', 'kecap', 'kee', 'keebler', 'keen', 'kefalotiri', 'kefir', 'kellogg', 'kelp', 'ken', 'kent', 'kentucky', 'kept', 'kern', 'kernel', 'kernels', 'kerr', 'ketchup', 'kettle', 'kewpie', 'key', 'keystone', 'khus', 'kibbeh', 'kid', 'kidney', 'kidneys', 'kids', 'kielbasa', 'kikkoman', 'kim', 'kimchee', 'kimchi', 'kind', 'king', 'kingsford', 'kirby', 'kirkland', 'kirsch', 'kirschwasser', 'kiss', 'kisses', 'kit', 'kitchen', 'kiwi', 'kiwifruit', 'kiwis', 'kix', 'klondike', 'kluski', 'kneading', 'knife', 'knipla', 'knoephla', 'knorr', 'knots', 'knotted', 'knox', 'knuckle', 'knudsen', 'kobe', 'kochujang', 'koeksisters', 'koftas', 'kohlrabi', 'koji', 'kombu', 'konbu', 'kool', 'korean', 'korma', 'kosher', 'koshi', 'kraft', 'kraken', 'kraprao', 'kraut', 'krazy', 'krispies', 'kroger', 'kucai', 'kum', 'kummelweck', 'kumquat', 'kumquats', 'la', 'label', 'labeled', 'labneh', 'lacinato', 'lactaid', 'lacy', 'lady', 'ladyfinger', 'ladyfingers', 'lager', 'lagunitas', 'laird', 'lakes', 'lamb', 'lan', 'land', 'langostinos', 'laphroiag', 'lapsang', 'lard', 'larger', 'lars', 'lasagna', 'lasagne', 'last', 'latex', 'latik', 'latina', 'latkes', 'latte', 'lattice', 'laughing', 'laura', 'laurel', 'lava', 'lavang', 'lavash', 'lavender', 'lawry', 'lay', 'layer', 'layered', 'layers', 'lb', 'le', 'lea', 'leaf', 'leafy', 'lean', 'leaner', 'least', 'leather', 'leave', 'leaves', 'leaving', 'lebanese', 'leche', 'lechera', 'leches', 'lecithin', 'lee', 'leek', 'leeks', 'left', 'leftover', 'leg', 'legs', 'leicester', 'lemon', 'lemonade', 'lemongrass', 'lemons', 'lengkuas', 'length', 'lengths', 'lengthwise', 'lentil', 'lentils', 'leones', 'less', 'lesueur', 'lettuce', 'lettuces', 'leveled', 'libby', 'licorice', 'lid', 'lids', 'life', 'ligament', 'light', 'lighten', 'lighter', 'lightlife', 'lightly', 'like', 'lillet', 'lily', 'lima', 'lime', 'limeade', 'limes', 'limon', 'limoncello', 'lindor', 'lindsay', 'lindt', 'liner', 'liners', 'ling', 'lingcod', 'lingonberries', 'lingonberry', 'linguica', 'linguine', 'linguini', 'lining', 'link', 'linked', 'links', 'lipped', 'lipton', 'liquefy', 'liqueur', 'liquid', 'liquor', 'lit', 'lite', 'liter', 'liters', 'little', 'littleneck', 'live', 'liver', 'livers', 'liverwurst', 'lo', 'loaf', 'loaves', 'lobster', 'lobsters', 'located', 'locatella', 'locatelli', 'locoto', 'log', 'loin', 'lollipop', 'london', 'long', 'longer', 'longhorn', 'loomi', 'loops', 'loosely', 'lop', 'lopez', 'loquat', 'loquats', 'lorann', 'lorna', 'lorraine', 'lotus', 'louis', 'louisiana', 'lower', 'lowfat', 'lox', 'luck', 'lucky', 'luke', 'lukewarm', 'lumaconi', 'lump', 'lumpfish', 'lumpia', 'lumps', 'lunch', 'luncheon', 'lung', 'lup', 'lychee', 'lychees', 'mac', 'maca', 'macadamia', 'macademia', 'macapuno', 'macaroni', 'macarons', 'macaroon', 'macaroons', 'macchiato', 'mace', 'macedonian', 'mache', 'machine', 'macintosh', 'mackerel', 'macoun', 'macrina', 'made', 'madeira', 'madras', 'mae', 'maekrua', 'mafalda', 'magazine', 'maggi', 'magic', 'magical', 'magnesium', 'maharaja', 'mahatma', 'mahi', 'mahleb', 'mai', 'maid', 'maifun', 'maille', 'maine', 'maitake', 'maja', 'major', 'make', 'maker', 'malagkit', 'malaysian', 'malbec', 'maldon', 'malibu', 'malitol', 'malt', 'malted', 'maltose', 'mam', 'mama', 'manchego', 'mandarin', 'mandoline', 'mango', 'mangoes', 'mangos', 'manicotti', 'manis', 'manischewitz', 'manteca', 'manuka', 'manwich', 'manzanilla', 'maple', 'maraschino', 'marble', 'marbled', 'marcona', 'mardi', 'margarine', 'margarita', 'margherita', 'maria', 'marias', 'marie', 'marinade', 'marinades', 'marinara', 'marinated', 'marinating', 'marion', 'marionberries', 'marjoram', 'mark', 'market', 'markets', 'marlin', 'marmalade', 'marmite', 'marnier', 'marrons', 'marrow', 'marsala', 'marshmallow', 'marshmallows', 'martha', 'martini', 'maruchan', 'marukan', 'mary', 'marzano', 'marzetti', 'marzettis', 'marzipan', 'masa', 'masago', 'masala', 'mascarpone', 'mash', 'mashed', 'masher', 'mask', 'mason', 'masoor', 'master', 'masterpiece', 'match', 'matcha', 'matchbox', 'matchlike', 'matchstick', 'matchsticks', 'mate', 'mates', 'mature', 'matzah', 'matzo', 'matzos', 'maui', 'maxwell', 'may', 'mayer', 'mayo', 'mayocoba', 'mayonnaise', 'maytag', 'mazin', 'mazola', 'mccain', 'mccann', 'mccormick', 'mcintosh', 'mct', 'meal', 'measure', 'measuring', 'meat', 'meatballs', 'meatless', 'meatloaf', 'meats', 'meaty', 'medal', 'medallions', 'media', 'mediterranean', 'medjool', 'medley', 'mein', 'melba', 'melissa', 'mellow', 'melon', 'melons', 'melt', 'melting', 'melts', 'membrane', 'membranes', 'memphis', 'menthe', 'merguez', 'meringue', 'merlot', 'mesclun', 'mesquite', 'metal', 'methi', 'mex', 'mexene', 'mexi', 'mexican', 'mexicana', 'mexico', 'mexicorn', 'meyer', 'mezcal', 'mezze', 'mezzetta', 'miami', 'mian', 'michelada', 'michigan', 'michter', 'microgreens', 'microwave', 'microwaveable', 'microwaved', 'middle', 'middleneck', 'midori', 'mignon', 'mike', 'milano', 'mild', 'milder', 'milk', 'milkfat', 'milkfish', 'milkshakes', 'mill', 'milled', 'miller', 'millet', 'milliliter', 'mills', 'mincemeat', 'mineral', 'minestrone', 'mini', 'miniature', 'minis', 'mint', 'mints', 'minute', 'minutes', 'miracle', 'mirepoix', 'mirin', 'mirlitons', 'miso', 'miss', 'mission', 'mist', 'mister', 'mistika', 'mixed', 'mixer', 'mixing', 'mixoflour', 'mixture', 'mizithra', 'mizuna', 'ml', 'mlo', 'mm', 'mocha', 'mochi', 'mochiko', 'modelo', 'moida', 'moist', 'moistened', 'moisture', 'mojito', 'mojo', 'molasses', 'mold', 'molds', 'mole', 'momokawa', 'monde', 'mongolian', 'monin', 'monk', 'monkfish', 'monosodium', 'monte', 'montenegro', 'monterey', 'month', 'montreal', 'moo', 'moon', 'moong', 'moons', 'moonshine', 'moose', 'mop', 'morcilla', 'morel', 'morello', 'mores', 'morgan', 'mori', 'moringa', 'moritas', 'morningstar', 'moroccan', 'morsels', 'mortadella', 'mortar', 'morton', 'moscato', 'moser', 'moss', 'mostaccioli', 'mostly', 'moto', 'motorvatin', 'mott', 'moulds', 'mountain', 'mousse', 'mouth', 'mozza', 'mozzarella', 'mr', 'mrs', 'ms', 'msg', 'mt', 'mu', 'much', 'muenster', 'muesli', 'muffin', 'muffins', 'mug', 'muir', 'mulato', 'mulberries', 'mullet', 'mulling', 'multi', 'multicolored', 'multigrain', 'mulyeot', 'mung', 'muscat', 'muscle', 'muscles', 'muscovado', 'mushroom', 'mushrooms', 'musketeers', 'musselman', 'mussels', 'mustard', 'mutton', 'myers', 'myun', 'naan', 'nabisco', 'nacho', 'nail', 'nam', 'nama', 'nameko', 'napa', 'napoletana', 'naruto', 'nasoya', 'nasturtium', 'natural', 'naturally', 'naturals', 'nature', 'naturegg', 'naval', 'navel', 'navy', 'neapolitan', 'near', 'nearly', 'necco', 'necessary', 'neck', 'necks', 'nectar', 'nectarine', 'nectarines', 'need', 'neese', 'negra', 'negro', 'neon', 'nephew', 'neroli', 'nescafe', 'nesquick', 'nesquik', 'nestle', 'netting', 'nettle', 'nettles', 'neufchatel', 'neufchâtel', 'neutral', 'new', 'newcastle', 'newfoundland', 'newman', 'niblet', 'niblets', 'nibs', 'nickel', 'nicoise', 'nigari', 'nigella', 'nilla', 'nissin', 'noir', 'non', 'nondairy', 'none', 'nonpareil', 'nonpareils', 'nonstick', 'noodle', 'noodles', 'nopales', 'nopalitos', 'nordica', 'nori', 'north', 'northern', 'note', 'notes', 'nougat', 'nu', 'nugget', 'nuggets', 'number', 'nuoc', 'nut', 'nutella', 'nutmeg', 'nutritional', 'nuts', 'nutter', 'ny', 'nylon', 'oat', 'oatmeal', 'oats', 'oaxaca', 'ocean', 'octoberfest', 'octopus', 'odom', 'oelek', 'oetker', 'often', 'ogorki', 'oikos', 'oil', 'okra', 'oktoberfest', 'old', 'olde', 'olive', 'olives', 'olivia', 'omega', 'omelets', 'one', 'ones', 'onion', 'onions', 'open', 'opo', 'option', 'options', 'orange', 'oranges', 'orchard', 'ore', 'orecchiette', 'oregano', 'oreo', 'oreos', 'organic', 'orgeat', 'oriental', 'original', 'originale', 'originals', 'orrington', 'ortega', 'orzo', 'oscar', 'ossobuco', 'otto', 'ottogi', 'outer', 'outs', 'ouzo', 'oval', 'ovalette', 'ovaltine', 'oven', 'overnight', 'overripe', 'owens', 'oxtail', 'oxtails', 'oyster', 'oysters', 'oz', 'paca', 'pace', 'pacific', 'pack', 'package', 'packaged', 'packet', 'packets', 'pad', 'padano', 'padi', 'padron', 'paella', 'paisano', 'pak', 'pale', 'paleo', 'palm', 'palouse', 'pam', 'pan', 'panang', 'pancake', 'pancakes', 'pancetta', 'pancit', 'pandan', 'paneer', 'paneriso', 'panettone', 'panko', 'panna', 'panquehue', 'pans', 'pantry', 'pao', 'papaccelle', 'papaya', 'papayas', 'papayiannides', 'paper', 'pappardelle', 'pappy', 'paprika', 'paraffin', 'parboiled', 'parchment', 'pared', 'pareils', 'pareve', 'parilla', 'paris', 'parisian', 'park', 'parkay', 'parker', 'parma', 'parmagiano', 'parmesan', 'parmigiano', 'parsley', 'parsnip', 'parsnips', 'part', 'partially', 'partridge', 'parts', 'party', 'pasa', 'pasilla', 'paso', 'passata', 'passing', 'passion', 'passover', 'pasta', 'paste', 'pastel', 'pasteurized', 'pastina', 'pastor', 'pastrami', 'pastries', 'pastry', 'pat', 'patagonian', 'patak', 'patch', 'pate', 'patis', 'pato', 'patron', 'pats', 'patted', 'pattern', 'patterson', 'patties', 'patty', 'pattypan', 'paul', 'paula', 'pav', 'pawpaw', 'pb', 'pea', 'peach', 'peaches', 'peak', 'peaks', 'peanut', 'peanuts', 'pear', 'pearl', 'pearled', 'pearlini', 'pearlized', 'pearls', 'pears', 'peas', 'pebbles', 'pecan', 'pecans', 'pecorino', 'pectin', 'pee', 'peel', 'peeler', 'peelings', 'peels', 'peeps', 'peg', 'pekoe', 'pellegrino', 'pellets', 'penne', 'penzey', 'penzeys', 'penzy', 'pepe', 'peperoncini', 'pepitas', 'peppadew', 'peppadrops', 'pepper', 'peppercorn', 'peppercorns', 'peppered', 'pepperidge', 'pepperjack', 'peppermint', 'pepperoncini', 'pepperoni', 'peppers', 'peppery', 'peppino', 'pequin', 'per', 'perch', 'perfect', 'perfectly', 'peri', 'perlato', 'perle', 'perline', 'pernod', 'perrier', 'perrins', 'persian', 'persimmon', 'persimmons', 'peruvian', 'pesto', 'pet', 'petal', 'petals', 'pete', 'peter', 'petes', 'petite', 'peychaud', 'pheasant', 'pheasants', 'phil', 'philadelphia', 'pho', 'phyllo', 'pica', 'picante', 'picapeppa', 'pickapeppa', 'picked', 'pickle', 'pickled', 'pickles', 'pickling', 'picks', 'picnic', 'pico', 'picon', 'piece', 'pierced', 'pierogies', 'pies', 'pig', 'pigeon', 'pignoli', 'pilaf', 'pillsbury', 'piloncillo', 'pilsner', 'pimenta', 'pimento', 'pimenton', 'pimentos', 'pimiento', 'pimientos', 'pimm', 'pin', 'pina', 'pinches', 'pine', 'pineapple', 'pinenuts', 'pink', 'pinot', 'pinquito', 'pint', 'pinto', 'pints', 'pipette', 'piping', 'pippin', 'piquillo', 'piri', 'pisco', 'pistachio', 'pistachios', 'pistolette', 'pit', 'pita', 'pitas', 'pitaya', 'pitch', 'pith', 'pits', 'pizza', 'pizzas', 'pkg', 'pla', 'place', 'plank', 'planks', 'plantain', 'plantains', 'planters', 'plastic', 'plata', 'plochman', 'ploy', 'plucked', 'plum', 'plump', 'plumped', 'plums', 'pluots', 'plus', 'poached', 'poaching', 'poblano', 'pocket', 'pocketless', 'pockets', 'pod', 'pods', 'point', 'polenta', 'polish', 'pollock', 'polska', 'polskie', 'polydextrose', 'pomegranate', 'pomegranates', 'pomfret', 'pompano', 'ponzu', 'poolish', 'pop', 'popchips', 'popcorn', 'popped', 'popping', 'poppy', 'poppyseed', 'pops', 'popsicle', 'porcini', 'pork', 'port', 'portabella', 'portabello', 'porter', 'porterhouse', 'portion', 'portions', 'portobella', 'portobello', 'portuguese', 'possible', 'post', 'pot', 'potato', 'potatoes', 'potpourri', 'potsticker', 'potstickers', 'pouch', 'pouches', 'poulet', 'poultry', 'pounded', 'poupon', 'prague', 'praline', 'prawn', 'prawns', 'pre', 'prebaked', 'precooked', 'prefer', 'preferably', 'preferred', 'prego', 'premade', 'premier', 'premium', 'prepared', 'preparing', 'prerolled', 'preserved', 'preserves', 'preserving', 'presidente', 'pressed', 'pressurized', 'pretzel', 'pretzels', 'prevent', 'prewashed', 'pricked', 'prickly', 'pride', 'prik', 'primal', 'primavera', 'prime', 'private', 'process', 'processed', 'processor', 'product', 'professional', 'progresso', 'prohibition', 'pronto', 'proof', 'prosciutto', 'prosecco', 'protein', 'provence', 'provolone', 'prudhomme', 'prune', 'prunes', 'psyllium', 'pucker', 'pudding', 'pueblo', 'puerto', 'puff', 'puffed', 'puffs', 'pulique', 'pulled', 'pulp', 'pumpernickel', 'pumpernikel', 'pumpkin', 'pumpkins', 'punch', 'puppy', 'purchased', 'pure', 'puree', 'pureed', 'purely', 'puri', 'purple', 'purslane', 'pushcart', 'pushed', 'puss', 'quail', 'quaker', 'quality', 'quantity', 'quark', 'quart', 'quarter', 'quartered', 'quarters', 'quarts', 'que', 'queen', 'queijo', 'quesadilla', 'quesadillas', 'queso', 'quiche', 'quick', 'quina', 'quince', 'quinces', 'quinoa', 'quinquina', 'quorn', 'rabbit', 'rabe', 'rack', 'racks', 'radiatore', 'radicchio', 'radish', 'radishes', 'raffaello', 'ragu', 'rainbow', 'rainbows', 'rainier', 'raised', 'raisin', 'raisins', 'rajma', 'raman', 'ramekins', 'ramen', 'ramps', 'ramyonsari', 'ranch', 'rancher', 'rancherito', 'ranchero', 'rapid', 'rapidrise', 'rapunzel', 'rare', 'ras', 'raspberries', 'raspberry', 'rava', 'ravioli', 'raw', 'ray', 'razor', 'rbgh', 'rbst', 'ready', 'real', 'realemon', 'realfruit', 'realime', 'reblochon', 'recao', 'recently', 'recipe', 'recipes', 'recommended', 'reconstituted', 'rectangles', 'rectangular', 'reddi', 'redfish', 'redhot', 'redmond', 'redpack', 'reds', 'reduce', 'reduced', 'reduction', 'reese', 'refined', 'refried', 'refrigerated', 'refrigerator', 'refritos', 'reggiano', 'regular', 'rehydrated', 'relish', 'remaining', 'remoulade', 'removable', 'remove', 'removed', 'removing', 'rendang', 'rendered', 'renee', 'rennet', 'replacement', 'replacer', 'reposado', 'request', 'resealable', 'resembling', 'reserve', 'reserved', 'reserving', 'resistant', 'rest', 'restaurant', 'retained', 'retied', 'reynolds', 'rhine', 'rhodes', 'rhone', 'rhubarb', 'rib', 'ribbons', 'ribeye', 'ribs', 'rican', 'rice', 'riced', 'ricer', 'riceselect', 'rich', 'ricotta', 'ridged', 'riesling', 'rigatoni', 'right', 'rim', 'rimming', 'rims', 'rind', 'rinded', 'rinds', 'ring', 'rings', 'rinsed', 'ripe', 'ripened', 'ripped', 'rippled', 'rise', 'rising', 'risotto', 'ritz', 'river', 'ro', 'road', 'roast', 'roasted', 'roasting', 'roasts', 'robusto', 'rock', 'rocket', 'rockfish', 'rocky', 'rods', 'roe', 'rojo', 'roll', 'rolled', 'rolling', 'rolls', 'rolo', 'roma', 'romaine', 'romanesco', 'romano', 'rome', 'roni', 'ronzoni', 'rooibos', 'room', 'root', 'roots', 'roquefort', 'rosarita', 'rose', 'rosemary', 'roses', 'rosewater', 'rossi', 'rosé', 'rotel', 'rotelle', 'roth', 'rotini', 'rotisserie', 'rouge', 'rough', 'roughly', 'roughy', 'round', 'rounds', 'route', 'roux', 'rows', 'royal', 'rub', 'rubbed', 'ruby', 'ruffles', 'rum', 'rumchata', 'rump', 'run', 'rush', 'russet', 'russets', 'russian', 'rustic', 'rutabaga', 'rutabagas', 'ruth', 'rye', 'sa', 'sabut', 'saccharine', 'sack', 'saco', 'saeujeot', 'saewujeot', 'saf', 'safe', 'safflower', 'saffron', 'sage', 'sago', 'saigon', 'sailor', 'sake', 'salad', 'salami', 'salata', 'salemville', 'salmon', 'salmonberries', 'salsa', 'salsita', 'salt', 'salted', 'saltine', 'salty', 'salvadoran', 'salvadorena', 'sam', 'sambal', 'sambar', 'sambazon', 'sambuca', 'samosa', 'samuel', 'san', 'sancerre', 'sandies', 'sanding', 'sandwich', 'sandwiches', 'sangiovese', 'sangria', 'santa', 'sanuf', 'sara', 'sardines', 'sargento', 'sashimi', 'saskatoon', 'sassafras', 'satay', 'satsuma', 'saturei', 'sauces', 'sauerkraut', 'saury', 'sausage', 'sausagemeat', 'sausages', 'saute', 'sauteed', 'sauteing', 'sauterne', 'sauternes', 'sauvignon', 'sauza', 'save', 'saved', 'savory', 'savoury', 'savoy', 'sawed', 'sawyer', 'sazon', 'sazonador', 'scalded', 'scaled', 'scallion', 'scallions', 'scallop', 'scalloped', 'scallops', 'scaloppini', 'scant', 'scape', 'scapes', 'schnapps', 'school', 'schubert', 'scissors', 'scones', 'scoop', 'scooped', 'scoops', 'scored', 'scotch', 'scout', 'scrambled', 'scraped', 'scrapple', 'scraps', 'scrubbed', 'se', 'sea', 'seafood', 'seal', 'seamless', 'seared', 'seashell', 'season', 'seasonal', 'seasoned', 'seasoning', 'seasonings', 'seasons', 'seattle', 'seaweed', 'sec', 'seco', 'second', 'secret', 'secrets', 'section', 'sectioned', 'sections', 'see', 'seed', 'seeded', 'seedless', 'seedy', 'segmented', 'segments', 'seitan', 'sel', 'select', 'selection', 'self', 'seltzer', 'semi', 'semifreddo', 'semolina', 'sencha', 'sensations', 'separate', 'separated', 'separately', 'serrano', 'serve', 'serviceberries', 'serving', 'servings', 'sesame', 'set', 'setting', 'seven', 'several', 'seville', 'sfq', 'shade', 'shake', 'shaken', 'shakka', 'shallot', 'shallots', 'shank', 'shanks', 'shao', 'shaoxing', 'shape', 'shaped', 'shapes', 'shark', 'sharp', 'sharpness', 'shaved', 'shavings', 'shears', 'sheep', 'sheeps', 'sheet', 'sheets', 'shelby', 'shelf', 'shell', 'shelled', 'shellfish', 'shells', 'sherbet', 'sherry', 'shichimi', 'shiitake', 'shimeji', 'shiner', 'shirakiku', 'shirataki', 'shiraz', 'shiro', 'shishito', 'shoe', 'shoepeg', 'shoestring', 'shoga', 'shoot', 'shoots', 'shopping', 'shore', 'short', 'shortbread', 'shortcake', 'shortcakes', 'shortcrust', 'shortening', 'shot', 'shots', 'shoulder', 'shoyu', 'shreds', 'shrimp', 'shu', 'shucked', 'sic', 'sichuan', 'sicilia', 'side', 'sides', 'sieve', 'sieved', 'siew', 'sifted', 'signature', 'silk', 'silken', 'silks', 'silver', 'silverbeet', 'similar', 'simmering', 'simple', 'simply', 'sinew', 'single', 'singles', 'sirloin', 'sister', 'sit', 'siu', 'six', 'sixteen', 'sixths', 'size', 'sized', 'skewer', 'skewers', 'skillet', 'skim', 'skimmed', 'skin', 'skinned', 'skins', 'skirt', 'skittles', 'skor', 'skyline', 'skyy', 'slab', 'slabs', 'slant', 'slap', 'slaw', 'sleeve', 'sleeves', 'slender', 'slice', 'sliceable', 'slicer', 'slicing', 'slider', 'slightly', 'slim', 'slit', 'slits', 'sliver', 'slivered', 'slivers', 'sloe', 'sloppy', 'slow', 'slush', 'small', 'smaller', 'smart', 'smashed', 'smelt', 'smirnoff', 'smith', 'smithfield', 'smoke', 'smoked', 'smokehouse', 'smoker', 'smokey', 'smokie', 'smokies', 'smoking', 'smoky', 'smooth', 'smoothie', 'smucker', 'snack', 'snacks', 'snails', 'snap', 'snapped', 'snapper', 'snappers', 'snapple', 'snaps', 'snickers', 'snip', 'snipped', 'snipping', 'snow', 'soaked', 'soaking', 'soba', 'sockeye', 'soda', 'sodium', 'sofrito', 'soft', 'softasilk', 'soften', 'soju', 'sole', 'solid', 'solo', 'solution', 'somen', 'son', 'sonoma', 'sooji', 'soon', 'sopes', 'sorbet', 'sorghum', 'sorrel', 'sorted', 'sottocenere', 'souchong', 'souffle', 'soul', 'sourball', 'sourdough', 'soursop', 'south', 'southern', 'southwest', 'southwestern', 'souvlaki', 'soy', 'soybean', 'soybeans', 'soymilk', 'spaghetti', 'spaghettini', 'spam', 'spanish', 'spare', 'spareribs', 'sparking', 'sparkling', 'spear', 'spearmint', 'spears', 'special', 'specialty', 'speckled', 'spectrum', 'speculoos', 'spelt', 'spent', 'spheres', 'spice', 'spiced', 'spices', 'spicier', 'spicy', 'spike', 'spinach', 'spines', 'spiral', 'spiralized', 'spirals', 'spirulina', 'spit', 'splash', 'splashes', 'splenda', 'split', 'sponge', 'spoon', 'spoonable', 'spooned', 'spoons', 'sport', 'sports', 'spot', 'spray', 'sprays', 'spread', 'spreadable', 'spreadables', 'spreading', 'sprig', 'sprigs', 'spring', 'springform', 'sprinkle', 'sprinkles', 'sprinkling', 'sprite', 'spritzed', 'spritzer', 'sprouted', 'sprouts', 'spumante', 'spun', 'square', 'squash', 'squashes', 'squeezable', 'squeeze', 'squeezed', 'squeezes', 'squid', 'squirrels', 'sriracha', 'st', 'stable', 'stacked', 'stale', 'stalk', 'stalks', 'stamen', 'stand', 'standard', 'standing', 'star', 'starbucks', 'starburst', 'starch', 'starchy', 'starlight', 'stars', 'start', 'starter', 'starters', 'state', 'staybrite', 'steak', 'steakhouse', 'steaks', 'steam', 'steamcrisp', 'steamed', 'steamer', 'steamers', 'steamfresh', 'steaming', 'steel', 'steelhead', 'stella', 'stem', 'stemmed', 'stems', 'stencils', 'step', 'sterilized', 'steve', 'stevia', 'stew', 'stewed', 'stewing', 'stick', 'stickers', 'sticks', 'sticky', 'stiff', 'stiffly', 'still', 'stilton', 'stinging', 'stir', 'stirred', 'stock', 'stoli', 'stomach', 'stone', 'stones', 'stonewall', 'storage', 'store', 'stout', 'stove', 'stovetop', 'strained', 'strands', 'straw', 'strawberries', 'strawberry', 'straws', 'stray', 'strength', 'streusel', 'string', 'strings', 'strip', 'stripe', 'striped', 'stripes', 'stripped', 'strips', 'strong', 'strongly', 'struffoli', 'stuf', 'stuffed', 'stuffing', 'stumptown', 'sturdy', 'style', 'styrofoam', 'su', 'sub', 'submarine', 'substitute', 'substituted', 'substitutes', 'sucanat', 'succotash', 'suckling', 'sucralose', 'sucrolose', 'suet', 'sueur', 'sugar', 'sugars', 'suggested', 'suggestions', 'suisse', 'suitable', 'sukhi', 'sukiyaki', 'sultana', 'sultanas', 'sum', 'sumac', 'summer', 'sun', 'sunchokes', 'sundae', 'sunflower', 'sunnyd', 'sunrise', 'sunsweet', 'super', 'superfine', 'supplement', 'supreme', 'sure', 'surface', 'surimi', 'surprise', 'sushi', 'sutton', 'svedka', 'swai', 'swan', 'swans', 'swanson', 'sweet', 'sweetbreads', 'sweetener', 'swirl', 'swiss', 'swordfish', 'syrah', 'syrian', 'szechuan', 'szechwan', 'tabasco', 'table', 'tablet', 'tablets', 'taco', 'tacos', 'tagine', 'tagliatelle', 'tahini', 'tai', 'tail', 'tails', 'tajin', 'tall', 'tamale', 'tamales', 'tamari', 'tamarind', 'tandoori', 'tang', 'tangerine', 'tangerines', 'tango', 'tangy', 'tanqueray', 'tap', 'tapatio', 'tape', 'tapenade', 'tapioca', 'taquitos', 'tarbais', 'tarka', 'taro', 'tarragon', 'tart', 'tartar', 'tartaric', 'tartine', 'tarts', 'tasso', 'tastefully', 'taster', 'tasters', 'tater', 'tawny', 'tazo', 'tea', 'teabags', 'teardrop', 'teddy', 'teff', 'tel', 'telera', 'tempeh', 'temperature', 'tempering', 'tempura', 'tender', 'tenderflake', 'tenderized', 'tenderizer', 'tenderloin', 'tenderloins', 'tenders', 'tenkasu', 'tennessee', 'tentacles', 'tepid', 'tequila', 'teriyaki', 'tex', 'texas', 'texmati', 'texture', 'textured', 'texturized', 'tgi', 'thai', 'thaw', 'thick', 'thicken', 'thickly', 'thickness', 'thigh', 'thighs', 'thin', 'thinner', 'thins', 'third', 'thirds', 'thompson', 'thoroughly', 'thousand', 'thread', 'threads', 'three', 'thyme', 'ti', 'tia', 'tidbits', 'tie', 'tied', 'ties', 'tiger', 'tightly', 'tilapia', 'tillamook', 'time', 'times', 'tin', 'tinted', 'tiny', 'tio', 'tip', 'tipo', 'tips', 'tiramisu', 'tire', 'tito', 'tm', 'toast', 'toasted', 'toaster', 'toasting', 'toasts', 'toban', 'tobiko', 'toenjang', 'toffee', 'tofu', 'tofutti', 'togarashi', 'together', 'toll', 'tom', 'tomatillo', 'tomatillos', 'tomato', 'tomatoes', 'tombstones', 'ton', 'tongue', 'tongues', 'tonic', 'tonkatsu', 'tony', 'toor', 'toothpick', 'toothpicks', 'tootsie', 'top', 'toppings', 'tops', 'torani', 'torched', 'torn', 'torpedo', 'tortellini', 'tortiglioni', 'tortilla', 'tortillas', 'toscano', 'tostada', 'tostadas', 'tostidos', 'tostito', 'tostitos', 'total', 'tots', 'touch', 'tough', 'toulouse', 'towel', 'towels', 'town', 'trader', 'traditional', 'trail', 'trans', 'transparent', 'tray', 'trays', 'treacle', 'treated', 'treats', 'tres', 'tri', 'triangles', 'trifle', 'triglyceride', 'trimmed', 'trimmings', 'trio', 'tripe', 'triple', 'triscuit', 'trompette', 'tropical', 'trouble', 'trout', 'truffle', 'truffled', 'truffles', 'trumpet', 'truroots', 'truvia', 'tsang', 'tteok', 'tub', 'tube', 'tubes', 'tubs', 'tumeric', 'tuna', 'tung', 'tupelo', 'turban', 'turbinado', 'turkey', 'turkeys', 'turkish', 'turmeric', 'turnip', 'turnips', 'turtle', 'tuscan', 'tuvar', 'tvp', 'twelve', 'twice', 'twigs', 'twin', 'twine', 'twinkies', 'twist', 'twisted', 'twists', 'twizzlers', 'two', 'tying', 'type', 'tyson', 'tzatziki', 'ube', 'udi', 'udon', 'ultragrain', 'umbrellas', 'unagi', 'unbaked', 'unbleached', 'unchopped', 'uncle', 'uncured', 'uncut', 'underripe', 'undiluted', 'undrained', 'undyed', 'unfiltered', 'unflavored', 'unfolded', 'unhusked', 'unopened', 'unpacked', 'unpasteurized', 'unpeeled', 'unpopped', 'unprepared', 'unprocessed', 'unrefined', 'unrinsed', 'unripe', 'unrolled', 'unseasoned', 'unshelled', 'unsifted', 'unsliced', 'unsmoked', 'unsplit', 'unsulfured', 'unthawed', 'untoasted', 'untreated', 'untrimmed', 'unwashed', 'unwrap', 'unwrapped', 'ups', 'upside', 'urad', 'urfa', 'use', 'used', 'using', 'utz', 'uv', 'vacuum', 'valdeon', 'valencia', 'valentina', 'valley', 'value', 'vanilla', 'vareniky', 'varenyky', 'varies', 'varieties', 'variety', 'vay', 'veal', 'veg', 'vega', 'vegan', 'veganaise', 'vegata', 'vegemite', 'vegenaise', 'vegeta', 'vegetable', 'vegetables', 'vegetarian', 'veggie', 'veggies', 'vein', 'veined', 'veins', 'velveeta', 'velvet', 'venice', 'venison', 'vera', 'verbena', 'verde', 'verdelho', 'vermicelli', 'vermont', 'vermouth', 'vernors', 'vertically', 'verts', 'vh', 'via', 'vidalia', 'vietnamese', 'vietti', 'vinaigrette', 'vindaloo', 'vine', 'vinegar', 'vines', 'vino', 'violet', 'virginia', 'visible', 'vital', 'vitamin', 'vitar', 'vodka', 'voskos', 'wafer', 'wafers', 'waffle', 'waffles', 'wages', 'wagon', 'wakame', 'walden', 'walla', 'walleye', 'walnut', 'walnuts', 'want', 'warmed', 'wasabi', 'wash', 'washed', 'washington', 'water', 'watercress', 'watermelon', 'watermelons', 'waters', 'watkins', 'watson', 'wavy', 'wax', 'waxed', 'way', 'wear', 'weber', 'wedge', 'wedged', 'wedges', 'wee', 'weed', 'wegmans', 'weight', 'weiners', 'welch', 'well', 'werther', 'wesson', 'west', 'wet', 'whatever', 'wheat', 'wheel', 'wheels', 'whey', 'whip', 'whips', 'whisked', 'whiskey', 'whisky', 'whitefish', 'whitelily', 'whiting', 'whiz', 'wholesome', 'wholly', 'wide', 'wider', 'width', 'widthwise', 'wieners', 'wilco', 'wild', 'wildflower', 'willamette', 'williams', 'williamsburg', 'wilted', 'wilton', 'wine', 'wing', 'wings', 'wingtips', 'winter', 'wip', 'wisconsin', 'wise', 'wish', 'wishbone', 'witch', 'without', 'wok', 'wolf', 'wolfberries', 'wonder', 'wonderful', 'wondra', 'wong', 'wonton', 'wontons', 'wood', 'woodchuck', 'wooden', 'woodruff', 'woods', 'worcestershire', 'work', 'works', 'world', 'worm', 'worms', 'wrap', 'wrapped', 'wrapper', 'wrappers', 'wrapping', 'wraps', 'wray', 'wuyi', 'xanthan', 'xx', 'ya', 'yacon', 'yakisoba', 'yam', 'yams', 'yards', 'yautia', 'yazzo', 'year', 'yeast', 'yellowfin', 'yellowtail', 'yerba', 'yogurt', 'yolk', 'yolks', 'yoplait', 'york', 'yorkshire', 'young', 'yu', 'yuca', 'yucca', 'yuengling', 'yukon', 'yum', 'yuzu', 'yves', 'za', 'zaanse', 'zaatar', 'zang', 'zapallo', 'zatarain', 'zatarains', 'zatarian', 'zen', 'zested', 'zesty', 'zinfandel', 'zing', 'zip', 'ziti', 'zucchini', 'zucchinis', 'zwieback']\n"
     ]
    }
   ],
   "source": [
    "# TF-IDF vectorizer\n",
    "\n",
    "tf_vectorizer2 = TfidfVectorizer(stop_words = new_stopwords)\n",
    "ingr_tfidf2 = tf_vectorizer2.fit_transform(corpus)\n",
    "\n",
    "print(tf_vectorizer2.get_feature_names())"
   ]
  },
  {
   "cell_type": "code",
   "execution_count": 52,
   "id": "b35ddcd6",
   "metadata": {},
   "outputs": [
    {
     "data": {
      "text/plain": [
       "array([0.04108685, 0.07993258, 0.03734216, 0.02504676, 0.01983016,\n",
       "       0.01876361, 0.01702718, 0.01603494, 0.01512191, 0.01372187])"
      ]
     },
     "execution_count": 52,
     "metadata": {},
     "output_type": "execute_result"
    }
   ],
   "source": [
    "# # MATRIX FACTORIZATION: Latent Semantic Analysis (LSA)\n",
    "\n",
    "lsa2_10 = TruncatedSVD(10)  \n",
    "corpus_lsa2_10 = lsa2_10.fit_transform(ingr_ct2)\n",
    "lsa2_10.explained_variance_ratio_"
   ]
  },
  {
   "cell_type": "code",
   "execution_count": 53,
   "id": "a3ff8fe5",
   "metadata": {},
   "outputs": [
    {
     "name": "stdout",
     "output_type": "stream",
     "text": [
      "\n",
      "Topic  0\n",
      "pepper, salt, sugar, oil, garlic, butter, onion, cheese, flour, water\n",
      "\n",
      "Topic  1\n",
      "sugar, butter, flour, vanilla, milk, eggs, cinnamon, soda, egg, chocolate\n",
      "\n",
      "Topic  2\n",
      "cheese, package, cream, cheddar, parmesan, butter, milk, mozzarella, chicken, pasta\n",
      "\n",
      "Topic  3\n",
      "oil, olive, vegetable, package, water, garlic, cloves, cheese, soy, sesame\n",
      "\n",
      "Topic  4\n",
      "salt, cheese, flour, olive, oil, parmesan, eggs, bread, soda, cheddar\n",
      "\n",
      "Topic  5\n",
      "sugar, pepper, bell, package, vinegar, cheese, vanilla, lemon, seeded, cinnamon\n",
      "\n",
      "Topic  6\n",
      "water, salt, flour, onion, package, beef, vegetable, yeast, egg, cheddar\n",
      "\n",
      "Topic  7\n",
      "garlic, sugar, cloves, cheese, onion, water, beef, tomato, tomatoes, parmesan\n",
      "\n",
      "Topic  8\n",
      "butter, package, water, garlic, chocolate, milk, beef, peanut, chips, cloves\n",
      "\n",
      "Topic  9\n",
      "salt, cream, lemon, package, water, olive, butter, garlic, juiced, parsley\n"
     ]
    }
   ],
   "source": [
    "display_topics(lsa2_10, count_vectorizer2.get_feature_names(), 10) "
   ]
  },
  {
   "cell_type": "code",
   "execution_count": 54,
   "id": "6a30b138",
   "metadata": {},
   "outputs": [
    {
     "data": {
      "text/plain": [
       "array([0.01204052, 0.03246632, 0.01544606, 0.00991129, 0.00947608,\n",
       "       0.00928082, 0.00865093, 0.00838088, 0.0081412 , 0.00781005])"
      ]
     },
     "execution_count": 54,
     "metadata": {},
     "output_type": "execute_result"
    }
   ],
   "source": [
    "# we will try it as a recomendation system\n",
    "tf_lsa2_10 = lsa2_10.fit_transform(ingr_tfidf2)\n",
    "lsa2_10.explained_variance_ratio_"
   ]
  },
  {
   "cell_type": "code",
   "execution_count": 55,
   "id": "11064cf5",
   "metadata": {},
   "outputs": [
    {
     "name": "stdout",
     "output_type": "stream",
     "text": [
      "\n",
      "Topic  0\n",
      "sugar, flour, butter, salt, pepper, vanilla, milk, eggs, oil, cheese\n",
      "\n",
      "Topic  1\n",
      "sugar, vanilla, flour, butter, soda, eggs, milk, chocolate, cinnamon, egg\n",
      "\n",
      "Topic  2\n",
      "cheese, cream, package, cheddar, parmesan, butter, milk, chocolate, mozzarella, mushroom\n",
      "\n",
      "Topic  3\n",
      "chocolate, chips, vanilla, package, peanut, cake, coconut, pudding, cocoa, bell\n",
      "\n",
      "Topic  4\n",
      "package, oil, lemon, vegetable, cinnamon, cheese, olive, sugar, orange, cake\n",
      "\n",
      "Topic  5\n",
      "chicken, cream, water, lemon, breast, sugar, orange, egg, broth, ginger\n",
      "\n",
      "Topic  6\n",
      "vegetable, water, chicken, oil, package, flour, milk, yeast, breast, broth\n",
      "\n",
      "Topic  7\n",
      "chicken, breast, eggs, olive, oil, soda, broth, parmesan, butter, cinnamon\n",
      "\n",
      "Topic  8\n",
      "egg, lemon, olive, milk, butter, chocolate, yolks, parmesan, oil, yeast\n",
      "\n",
      "Topic  9\n",
      "milk, eggs, lemon, coconut, vanilla, mustard, vinegar, pepper, potatoes, mayonnaise\n"
     ]
    }
   ],
   "source": [
    "display_topics(lsa2_10, count_vectorizer2.get_feature_names(), 10) "
   ]
  },
  {
   "cell_type": "code",
   "execution_count": 68,
   "id": "0420f0bb",
   "metadata": {},
   "outputs": [
    {
     "name": "stderr",
     "output_type": "stream",
     "text": [
      "/opt/anaconda3/lib/python3.8/site-packages/sklearn/decomposition/_nmf.py:312: FutureWarning: The 'init' value, when 'init=None' and n_components is less than n_samples and n_features, will be changed from 'nndsvd' to 'nndsvda' in 1.1 (renaming of 0.26).\n",
      "  warnings.warn((\"The 'init' value, when 'init=None' and \"\n",
      "/opt/anaconda3/lib/python3.8/site-packages/sklearn/decomposition/_nmf.py:1090: ConvergenceWarning: Maximum number of iterations 200 reached. Increase it to improve convergence.\n",
      "  warnings.warn(\"Maximum number of iterations %d reached. Increase it to\"\n"
     ]
    }
   ],
   "source": [
    "# # MATRIX FACTORIZATION Non-Negative Matrix Factorization (NMF)\n",
    "\n",
    "nmf_10 = NMF(10) \n",
    "rr_nmf_10 = nmf_10.fit_transform(ingr_ct2) "
   ]
  },
  {
   "cell_type": "code",
   "execution_count": 69,
   "id": "73574134",
   "metadata": {},
   "outputs": [
    {
     "name": "stdout",
     "output_type": "stream",
     "text": [
      "\n",
      "Topic  0\n",
      "pepper, bell, salt, cayenne, onion, seeded, vinegar, lemon, onions, paprika\n",
      "\n",
      "Topic  1\n",
      "sugar, vanilla, flour, eggs, cinnamon, soda, egg, walnuts, lemon, milk\n",
      "\n",
      "Topic  2\n",
      "cheese, parmesan, cheddar, mozzarella, bread, eggs, pasta, basil, spinach, jar\n",
      "\n",
      "Topic  3\n",
      "oil, olive, vegetable, lemon, vinegar, garlic, wine, sesame, soy, leaves\n",
      "\n",
      "Topic  4\n",
      "garlic, onion, cloves, beef, tomatoes, tomato, beans, peppers, small, cumin\n",
      "\n",
      "Topic  5\n",
      "chicken, broth, breast, celery, rice, onion, carrots, stock, mushrooms, breasts\n",
      "\n",
      "Topic  6\n",
      "salt, water, flour, egg, eggs, potatoes, yeast, milk, bread, wheat\n",
      "\n",
      "Topic  7\n",
      "package, water, cake, chocolate, pudding, milk, vegetable, jell, chips, pasta\n",
      "\n",
      "Topic  8\n",
      "butter, milk, flour, chocolate, peanut, chips, eggs, vanilla, bread, coconut\n",
      "\n",
      "Topic  9\n",
      "cream, vanilla, mushroom, cheese, onion, corn, liqueur, chocolate, graham, lemon\n"
     ]
    }
   ],
   "source": [
    "\n",
    "\n",
    "display_topics(nmf_10, count_vectorizer2.get_feature_names(), 10)"
   ]
  },
  {
   "cell_type": "code",
   "execution_count": null,
   "id": "1c8f3635",
   "metadata": {},
   "outputs": [],
   "source": []
  },
  {
   "cell_type": "code",
   "execution_count": null,
   "id": "c89c29eb",
   "metadata": {},
   "outputs": [],
   "source": []
  },
  {
   "cell_type": "code",
   "execution_count": null,
   "id": "9b468171",
   "metadata": {},
   "outputs": [],
   "source": []
  },
  {
   "cell_type": "code",
   "execution_count": null,
   "id": "59bd0a5a",
   "metadata": {},
   "outputs": [],
   "source": []
  },
  {
   "cell_type": "code",
   "execution_count": null,
   "id": "2a909fdc",
   "metadata": {},
   "outputs": [],
   "source": []
  },
  {
   "cell_type": "code",
   "execution_count": null,
   "id": "47a40897",
   "metadata": {},
   "outputs": [],
   "source": []
  },
  {
   "cell_type": "code",
   "execution_count": null,
   "id": "ec404658",
   "metadata": {},
   "outputs": [],
   "source": [
    "recipes.iloc[8]"
   ]
  },
  {
   "cell_type": "code",
   "execution_count": null,
   "id": "fc0a68e2",
   "metadata": {},
   "outputs": [],
   "source": [
    "recipes_ingredients[8]"
   ]
  },
  {
   "cell_type": "code",
   "execution_count": null,
   "id": "63cc610b",
   "metadata": {},
   "outputs": [],
   "source": [
    "# Find the cosine similarity between this recipe and the rest of the dimensionally-reduced (via LSA) dataset\n",
    "\n",
    "lsa_s_choc_ctv=cosine_similarity(corpus_lsa_10[8].reshape(1, -1), corpus_lsa_10).round(3) \n",
    "lsa_s_choc_ctv"
   ]
  },
  {
   "cell_type": "code",
   "execution_count": null,
   "id": "5f624028",
   "metadata": {},
   "outputs": [],
   "source": [
    "#argsort returns sorted array pf indices with their values from low to high \n",
    "lsa_s_choc_ctv.argsort()"
   ]
  },
  {
   "cell_type": "code",
   "execution_count": null,
   "id": "76fbcd7a",
   "metadata": {},
   "outputs": [],
   "source": [
    "a = lsa_s_choc_ctv.argsort()\n",
    "np.fliplr(a) #flip array sorted by argsort, slower though\n",
    "\n",
    "#expect the first result to be the recipe itself [3], with cosine similarity=1"
   ]
  },
  {
   "cell_type": "code",
   "execution_count": null,
   "id": "c6437efe",
   "metadata": {},
   "outputs": [],
   "source": [
    "recipes.iloc[12244]"
   ]
  },
  {
   "cell_type": "code",
   "execution_count": null,
   "id": "29cb5201",
   "metadata": {},
   "outputs": [],
   "source": [
    "recipes.iloc[378]"
   ]
  },
  {
   "cell_type": "code",
   "execution_count": null,
   "id": "346754da",
   "metadata": {},
   "outputs": [],
   "source": [
    "recipes.iloc[20553]"
   ]
  },
  {
   "cell_type": "code",
   "execution_count": null,
   "id": "a6170279",
   "metadata": {},
   "outputs": [],
   "source": [
    "recipes.iloc[1925]"
   ]
  },
  {
   "cell_type": "code",
   "execution_count": null,
   "id": "fc1c0b95",
   "metadata": {},
   "outputs": [],
   "source": [
    "recipes_ingredients.iloc[1925]"
   ]
  },
  {
   "cell_type": "code",
   "execution_count": null,
   "id": "6f845e08",
   "metadata": {},
   "outputs": [],
   "source": [
    "#quickly look at the most and least similar recipes\n",
    "rev_a = np.fliplr(a)"
   ]
  },
  {
   "cell_type": "code",
   "execution_count": null,
   "id": "3fe68082",
   "metadata": {},
   "outputs": [],
   "source": [
    "recipes.iloc[rev_a[0]]"
   ]
  },
  {
   "cell_type": "code",
   "execution_count": null,
   "id": "20bb6e53",
   "metadata": {},
   "outputs": [],
   "source": []
  },
  {
   "cell_type": "code",
   "execution_count": null,
   "id": "32816500",
   "metadata": {},
   "outputs": [],
   "source": []
  },
  {
   "cell_type": "code",
   "execution_count": null,
   "id": "798b8bbd",
   "metadata": {},
   "outputs": [],
   "source": []
  },
  {
   "cell_type": "code",
   "execution_count": null,
   "id": "d4c23423",
   "metadata": {},
   "outputs": [],
   "source": []
  },
  {
   "cell_type": "code",
   "execution_count": null,
   "id": "54d0d571",
   "metadata": {},
   "outputs": [],
   "source": [
    "from matplotlib import pyplot as plt\n",
    "import wordcloud\n",
    "from wordcloud import WordCloud, STOPWORDS\n",
    "import matplotlib.colors as mcolors"
   ]
  },
  {
   "cell_type": "code",
   "execution_count": null,
   "id": "3e5a30ee",
   "metadata": {},
   "outputs": [],
   "source": [
    "topics_lsa_tf = ['pepper, bell, salt, cayenne, onion, seeded, vinegar, lemon, onions, paprika,sugar, vanilla, flour, eggs, cinnamon, soda, egg, walnuts, lemon, milk,cheese, parmesan, cheddar, mozzarella, bread, eggs, pasta, basil, spinach, jar,oil, olive, vegetable, lemon, vinegar, garlic, wine, sesame, soy']\n",
    "\n",
    "\n",
    "#['chopped, salt, pepper, fresh, ground, oil, black, garlic, olive, freshly, sliced, large, red, finely, sugar, cut, butter, onion, leaves, minced',\n",
    "# 'sugar, butter, flour, vanilla, purpose, extract, baking, cream, unsalted, powder, salt, eggs, egg, milk, chocolate, large, white, brown, temperature, room',\n",
    "# 'ground, pepper, black, salt, freshly, oil, kosher, sliced, olive, minced, diced, vinegar, red, garlic, sauce, thinly, cut, taste, extra, virgin',\n",
    "# 'fresh, sliced, cut, juice, lemon, oil, thinly, leaves, olive, large, peeled, minced, extra, virgin, pieces, plus, lime, sugar, halved, orange'\n",
    "# 'fresh, ground, freshly, lemon, juice, kosher, black, leaves, finely, grated, salt, parsley, extra, zest, plus, virgin, cinnamon, olive, orange, unsalted',\n",
    "# 'fresh, ground, sauce, juice, sugar, minced, diced, sliced, lime, ginger, taste, green, onion, white, cinnamon, cilantro, water, brown, soy, powder',\n",
    "# 'cut, large, peeled, pieces, ground, butter, unsalted, freshly, chicken, medium, slices, small, cubes, potatoes, stick, black, celery, carrots, thick, broth',\n",
    "# 'sliced, cheese, thinly, cream, grated, freshly, butter, shredded, package, parmesan, ground, cheddar, black, fresh, slices, kosher, bread, unsalted, mushrooms, heavy',\n",
    "# 'diced, cheese, pepper, minced, cream, taste, fresh, butter, salt, shredded, grated, chicken, package, onion, parmesan, garlic, heavy, milk, cheddar, black',\n",
    "# 'pepper, red, finely, juice, diced, lemon, salt, freshly, sugar, kosher, bell, lime, black, vinegar, orange, small, seeded, recipe, follows, zest']"
   ]
  },
  {
   "cell_type": "code",
   "execution_count": null,
   "id": "ef64de27",
   "metadata": {},
   "outputs": [],
   "source": [
    "topics=topics_lsa_tf[0].split()\n",
    "topics"
   ]
  },
  {
   "cell_type": "code",
   "execution_count": null,
   "id": "cfe18950",
   "metadata": {},
   "outputs": [],
   "source": [
    "from wordcloud import WordCloud\n",
    "import matplotlib.pyplot as plt \n",
    "import pandas as pd \n",
    "  \n",
    "comment_words = ' ' \n",
    "\n",
    "# iterate through the csv file \n",
    "for topic in topics_lsa_tf: \n",
    "  \n",
    "    # split the value \n",
    "    tokens = topic.split()  \n",
    "      \n",
    "    for words in tokens: \n",
    "        comment_words = comment_words + words + ' '\n",
    "  \n",
    "  \n",
    "wordcloud = WordCloud(width = 800, height = 800, \n",
    "                background_color ='white',  \n",
    "                stopwords = our_stopwords, \n",
    "                min_font_size = 10).generate(comment_words) \n",
    "  \n",
    "# plot the WordCloud image                        \n",
    "plt.figure(figsize = (8, 8), facecolor = None) \n",
    "plt.imshow(wordcloud) \n",
    "plt.axis(\"off\") \n",
    "plt.tight_layout(pad = 0) \n",
    "  \n",
    "plt.show() "
   ]
  },
  {
   "cell_type": "code",
   "execution_count": null,
   "id": "21800d15",
   "metadata": {},
   "outputs": [],
   "source": []
  }
 ],
 "metadata": {
  "kernelspec": {
   "display_name": "Python 3",
   "language": "python",
   "name": "python3"
  },
  "language_info": {
   "codemirror_mode": {
    "name": "ipython",
    "version": 3
   },
   "file_extension": ".py",
   "mimetype": "text/x-python",
   "name": "python",
   "nbconvert_exporter": "python",
   "pygments_lexer": "ipython3",
   "version": "3.8.8"
  }
 },
 "nbformat": 4,
 "nbformat_minor": 5
}
